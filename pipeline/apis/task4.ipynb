{
 "cells": [
  {
   "cell_type": "code",
   "execution_count": 2,
   "metadata": {},
   "outputs": [
    {
     "name": "stdout",
     "output_type": "stream",
     "text": [
      "\u001b[33mDEPRECATION: Python 3.5 reached the end of its life on September 13th, 2020. Please upgrade your Python as Python 3.5 is no longer maintained. pip 21.0 will drop support for Python 3.5 in January 2021. pip 21.0 will remove support for this functionality.\u001b[0m\n",
      "Collecting requests\n",
      "  Using cached requests-2.25.1-py2.py3-none-any.whl (61 kB)\n",
      "Collecting chardet<5,>=3.0.2\n",
      "  Using cached chardet-4.0.0-py2.py3-none-any.whl (178 kB)\n",
      "Requirement already satisfied: certifi>=2017.4.17 in /home/bsbanotto/anaconda3/envs/deep_q/lib/python3.5/site-packages (from requests) (2020.6.20)\n",
      "Collecting idna<3,>=2.5\n",
      "  Using cached idna-2.10-py2.py3-none-any.whl (58 kB)\n",
      "Collecting urllib3<1.27,>=1.21.1\n",
      "  Using cached urllib3-1.26.9-py2.py3-none-any.whl (138 kB)\n",
      "Installing collected packages: urllib3, idna, chardet, requests\n",
      "Successfully installed chardet-4.0.0 idna-2.10 requests-2.25.1 urllib3-1.26.9\n"
     ]
    }
   ],
   "source": [
    "%pip install requests"
   ]
  },
  {
   "cell_type": "code",
   "execution_count": 60,
   "metadata": {},
   "outputs": [
    {
     "name": "stdout",
     "output_type": "stream",
     "text": [
      "Falcon 9: 195\n",
      "Falcon 1: 5\n",
      "Falcon Heavy: 5\n"
     ]
    }
   ],
   "source": [
    "import requests\n",
    "from collections import Counter\n",
    "\n",
    "LAUNCH_URL = 'https://api.spacexdata.com/v5/launches'\n",
    "ROCKET_URL = 'https://api.spacexdata.com/v4/rockets'\n",
    "\n",
    "rocket_dict = {}\n",
    "\n",
    "# Create a list of all launched rockets from LAUNCH_URL\n",
    "launch_response = requests.get(LAUNCH_URL)\n",
    "launch_data = launch_response.json()\n",
    "launched_rockets = [rocket['rocket'] for rocket in launch_data]\n",
    "\n",
    "# Create lists of rocket_ids, rocket_names from ROCKET_URL\n",
    "rocket_response = requests.get(ROCKET_URL)\n",
    "rocket_data = rocket_response.json()\n",
    "rocket_ids = [rocket['id'] for rocket in rocket_data]\n",
    "rocket_names = [rocket['name'] for rocket in rocket_data]\n",
    "\n",
    "# Zip those up into a dictionary\n",
    "rocket_dict = dict(zip(rocket_ids, rocket_names))\n",
    "\n",
    "# Convert the list of rockets to a counted and sorted dict\n",
    "launch_dict = dict(sorted(Counter(launched_rockets).items(),\n",
    "                            key=lambda x: x[1], reverse=True))\n",
    "\n",
    "# Replace keys in launch_dict with the appropriate rocket names\n",
    "res_dict = {rocket_dict[key]: value for key, value in launch_dict.items()}\n",
    "\n",
    "sorted_result = sorted(res_dict.items(), key=lambda x: (-x[1], x[0]))\n",
    "\n",
    "for i in range(len(sorted_result)):\n",
    "    print(sorted_result[i][0] + ': ' + str(sorted_result[i][1]))\n",
    "\n"
   ]
  }
 ],
 "metadata": {
  "kernelspec": {
   "display_name": "deep_q",
   "language": "python",
   "name": "python3"
  },
  "language_info": {
   "codemirror_mode": {
    "name": "ipython",
    "version": 3
   },
   "file_extension": ".py",
   "mimetype": "text/x-python",
   "name": "python",
   "nbconvert_exporter": "python",
   "pygments_lexer": "ipython3",
   "version": "3.5.6"
  }
 },
 "nbformat": 4,
 "nbformat_minor": 2
}
