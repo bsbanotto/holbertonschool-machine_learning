{
 "cells": [
  {
   "cell_type": "markdown",
   "metadata": {},
   "source": [
    "## All of the code for this project will reside within this notebook\n",
    "\n",
    "## Datasets\n",
    "\n",
    "For this project, we will be using the  [coinbase](https://intranet.hbtn.io/rltoken/qxNSNQUc-7AyTu4exzUxIg \"coinbase\")  and  [bitstamp](https://intranet.hbtn.io/rltoken/EAG7kiX_FfApWPkb2dsd6Q \"bitstamp\")  datasets"
   ]
  },
  {
   "cell_type": "code",
   "execution_count": 1,
   "metadata": {},
   "outputs": [],
   "source": [
    "# Imports\n",
    "import pandas as pd\n",
    "import numpy as np"
   ]
  },
  {
   "cell_type": "code",
   "execution_count": 2,
   "metadata": {},
   "outputs": [],
   "source": [
    "# Task 0. From Numpy\n",
    "def from_numpy(array):\n",
    "    \"\"\"\n",
    "    Creates a pd.DataFrame from a np.array\n",
    "\n",
    "    Args:\n",
    "        array: np.array from which a DataFrame will be created\n",
    "\n",
    "    Returns:\n",
    "        newly created pd.DataFrame\n",
    "    \"\"\"\n",
    "    # Create column labels. The length of column labels has to match the number\n",
    "    # of columns. \n",
    "    num_columns = array.shape[1]\n",
    "    column_names = [chr(ord('A') + x) for x in range(num_columns)]\n",
    "\n",
    "    task0_df = pd.DataFrame(array, columns=column_names)\n",
    "\n",
    "    return task0_df\n"
   ]
  },
  {
   "cell_type": "code",
   "execution_count": 3,
   "metadata": {},
   "outputs": [
    {
     "name": "stdout",
     "output_type": "stream",
     "text": [
      "          A         B         C         D         E         F         G  \\\n",
      "0  1.764052  0.400157  0.978738  2.240893  1.867558 -0.977278  0.950088   \n",
      "1 -0.103219  0.410599  0.144044  1.454274  0.761038  0.121675  0.443863   \n",
      "2  1.494079 -0.205158  0.313068 -0.854096 -2.552990  0.653619  0.864436   \n",
      "3  2.269755 -1.454366  0.045759 -0.187184  1.532779  1.469359  0.154947   \n",
      "4 -0.887786 -1.980796 -0.347912  0.156349  1.230291  1.202380 -0.387327   \n",
      "\n",
      "          H  \n",
      "0 -0.151357  \n",
      "1  0.333674  \n",
      "2 -0.742165  \n",
      "3  0.378163  \n",
      "4 -0.302303  \n",
      "          A         B         C\n",
      "0 -1.048553 -1.420018 -1.706270\n",
      "1  1.950775 -0.509652 -0.438074\n",
      "2 -1.252795  0.777490 -1.613898\n",
      "3 -0.212740 -0.895467  0.386902\n",
      "4 -0.510805 -1.180632 -0.028182\n",
      "5  0.428332  0.066517  0.302472\n",
      "6 -0.634322 -0.362741 -0.672460\n",
      "7 -0.359553 -0.813146 -1.726283\n",
      "8  0.177426 -0.401781 -1.630198\n"
     ]
    }
   ],
   "source": [
    "# 0-main\n",
    "np.random.seed(0)\n",
    "A = np.random.randn(5, 8)\n",
    "print(from_numpy(A))\n",
    "B = np.random.randn(9, 3)\n",
    "print(from_numpy(B))"
   ]
  },
  {
   "cell_type": "code",
   "execution_count": 4,
   "metadata": {},
   "outputs": [],
   "source": [
    "# Task 1. From Dictionary\n",
    "data = {\n",
    "    'A': [0.0, 'one'],\n",
    "    'B': [0.5, 'two'],\n",
    "    'C': [1.0, 'three'],\n",
    "    'D': [1.5, 'four']\n",
    "    }\n",
    "columns = ['First', 'Second']\n",
    "\n",
    "task1_df = pd.DataFrame.from_dict(data, orient='index', columns=columns)"
   ]
  },
  {
   "cell_type": "code",
   "execution_count": 5,
   "metadata": {},
   "outputs": [
    {
     "name": "stdout",
     "output_type": "stream",
     "text": [
      "   First Second\n",
      "A    0.0    one\n",
      "B    0.5    two\n",
      "C    1.0  three\n",
      "D    1.5   four\n"
     ]
    }
   ],
   "source": [
    "# 1-main\n",
    "print(task1_df)"
   ]
  },
  {
   "cell_type": "code",
   "execution_count": 6,
   "metadata": {},
   "outputs": [],
   "source": [
    "# Task 2. From File\n",
    "def from_file(filename, delimiter):\n",
    "    \"\"\"\n",
    "    Loads data from a file as a dataframe\n",
    "\n",
    "    Args:\n",
    "        filename: file to load\n",
    "        delimiter: delimiter for the file\n",
    "\n",
    "    Returns:\n",
    "        the loaded pd.DataFrame\n",
    "    \"\"\"\n",
    "    if filename.split('.')[1] == 'csv':\n",
    "        return pd.read_csv(filename, delimiter=delimiter)\n",
    "    if filename.split('.')[1] == 'json':\n",
    "        return pd.read_json(filename)\n",
    "    else:\n",
    "        return \"This only works for .csv file and .json files.\""
   ]
  },
  {
   "cell_type": "code",
   "execution_count": 7,
   "metadata": {},
   "outputs": [
    {
     "name": "stdout",
     "output_type": "stream",
     "text": [
      "          Timestamp     Open     High      Low    Close  Volume_(BTC)  \\\n",
      "2099755  1546898520  4006.01  4006.57  4006.00  4006.01      3.382954   \n",
      "2099756  1546898580  4006.01  4006.57  4006.00  4006.01      0.902164   \n",
      "2099757  1546898640  4006.01  4006.01  4006.00  4006.01      1.192123   \n",
      "2099758  1546898700  4006.01  4006.01  4005.50  4005.50      2.699700   \n",
      "2099759  1546898760  4005.51  4006.01  4005.51  4005.99      1.752778   \n",
      "\n",
      "         Volume_(Currency)  Weighted_Price  \n",
      "2099755       13553.433078     4006.390309  \n",
      "2099756        3614.083168     4006.017232  \n",
      "2099757        4775.647308     4006.003635  \n",
      "2099758       10814.241898     4005.719991  \n",
      "2099759        7021.183546     4005.745614  \n",
      "          Timestamp     Open     High      Low    Close  Volume_(BTC)  \\\n",
      "4363452  1587513360  6847.97  6856.35  6847.97  6856.35      0.125174   \n",
      "4363453  1587513420  6850.23  6856.13  6850.23  6850.89      1.224777   \n",
      "4363454  1587513480  6846.50  6857.45  6846.02  6857.45      7.089168   \n",
      "4363455  1587513540  6854.18  6854.98  6854.18  6854.98      0.012231   \n",
      "4363456  1587513600  6850.60  6850.60  6850.60  6850.60      0.014436   \n",
      "\n",
      "         Volume_(Currency)  Weighted_Price  \n",
      "4363452         858.128697     6855.498790  \n",
      "4363453        8396.781459     6855.763449  \n",
      "4363454       48533.089069     6846.090966  \n",
      "4363455          83.831604     6854.195090  \n",
      "4363456          98.896906     6850.600000  \n"
     ]
    }
   ],
   "source": [
    "# 2-main\n",
    "df1 = from_file('data/coinbaseUSD_1-min_data_2014-12-01_to_2019-01-09.csv', ',')\n",
    "print(df1.tail())\n",
    "df2 = from_file('data/bitstampUSD_1-min_data_2012-01-01_to_2020-04-22.csv', ',')\n",
    "print(df2.tail())\n",
    "# df3 = from_file('/home/bsbanotto/GitHub_year_in_review/json_files/bsbanotto_commit_info.json', ',')\n",
    "# print(df3.tail())"
   ]
  },
  {
   "cell_type": "code",
   "execution_count": 8,
   "metadata": {},
   "outputs": [
    {
     "name": "stdout",
     "output_type": "stream",
     "text": [
      "                   Datetime    Close\n",
      "2099755 2019-01-07 22:02:00  4006.01\n",
      "2099756 2019-01-07 22:03:00  4006.01\n",
      "2099757 2019-01-07 22:04:00  4006.01\n",
      "2099758 2019-01-07 22:05:00  4005.50\n",
      "2099759 2019-01-07 22:06:00  4005.99\n"
     ]
    }
   ],
   "source": [
    "# Task 3. Rename\n",
    "\"\"\"\n",
    "Script to rename column `Timestamp` to `Datetime`\n",
    "Convert timestamp values to datetime values\n",
    "Display only the Datetime and Close columns\n",
    "\"\"\"\n",
    "task3_df = from_file('data/coinbaseUSD_1-min_data_2014-12-01_to_2019-01-09.csv', ',')\n",
    "\n",
    "task3_df.rename(columns={'Timestamp': 'Datetime'}, inplace=True)\n",
    "task3_df['Datetime'] = pd.to_datetime(task3_df['Datetime'], unit='s')\n",
    "\n",
    "task3_df = task3_df[['Datetime', 'Close']]\n",
    "\n",
    "print(task3_df.tail())"
   ]
  },
  {
   "cell_type": "code",
   "execution_count": 9,
   "metadata": {},
   "outputs": [
    {
     "name": "stdout",
     "output_type": "stream",
     "text": [
      "[[4009.54 4007.01]\n",
      " [4007.01 4003.49]\n",
      " [4007.29 4006.57]\n",
      " [4006.57 4006.56]\n",
      " [4006.57 4006.01]\n",
      " [4006.57 4006.01]\n",
      " [4006.57 4006.01]\n",
      " [4006.01 4006.01]\n",
      " [4006.01 4005.5 ]\n",
      " [4006.01 4005.99]]\n"
     ]
    }
   ],
   "source": [
    "# Task 4. To Numpy\n",
    "task4_df = from_file('data/coinbaseUSD_1-min_data_2014-12-01_to_2019-01-09.csv', ',')\n",
    "\n",
    "A = task4_df.tail(10)[['High', 'Close']].to_numpy()\n",
    "\n",
    "print(A)"
   ]
  },
  {
   "cell_type": "code",
   "execution_count": 10,
   "metadata": {},
   "outputs": [
    {
     "name": "stdout",
     "output_type": "stream",
     "text": [
      "            High      Low    Close  Volume_(BTC)\n",
      "2099460  4020.08  4020.07  4020.08      4.704989\n",
      "2099520  4020.94  4020.93  4020.94      2.111411\n",
      "2099580  4020.00  4019.01  4020.00      4.637035\n",
      "2099640  4017.00  4016.99  4017.00      2.362372\n",
      "2099700  4014.78  4013.50  4014.72      1.291557\n"
     ]
    }
   ],
   "source": [
    "# Task 5. Slice\n",
    "task5_df = from_file('data/coinbaseUSD_1-min_data_2014-12-01_to_2019-01-09.csv', ',')\n",
    "\n",
    "task5_df = task5_df[['High', 'Low', 'Close', 'Volume_(BTC)']].iloc[::60, :]\n",
    "\n",
    "print(task5_df.tail())"
   ]
  },
  {
   "cell_type": "code",
   "execution_count": 13,
   "metadata": {},
   "outputs": [
    {
     "name": "stdout",
     "output_type": "stream",
     "text": [
      "                        2099759       2099758       2099757       2099756  \\\n",
      "Timestamp          1.546899e+09  1.546899e+09  1.546899e+09  1.546899e+09   \n",
      "Open               4.005510e+03  4.006010e+03  4.006010e+03  4.006010e+03   \n",
      "High               4.006010e+03  4.006010e+03  4.006010e+03  4.006570e+03   \n",
      "Low                4.005510e+03  4.005500e+03  4.006000e+03  4.006000e+03   \n",
      "Close              4.005990e+03  4.005500e+03  4.006010e+03  4.006010e+03   \n",
      "Volume_(BTC)       1.752778e+00  2.699700e+00  1.192123e+00  9.021637e-01   \n",
      "Volume_(Currency)  7.021184e+03  1.081424e+04  4.775647e+03  3.614083e+03   \n",
      "Weighted_Price     4.005746e+03  4.005720e+03  4.006004e+03  4.006017e+03   \n",
      "\n",
      "                        2099755       2099754       2099753       2099752  \\\n",
      "Timestamp          1.546899e+09  1.546898e+09  1.546898e+09  1.546898e+09   \n",
      "Open               4.006010e+03  4.006570e+03  4.006560e+03  4.003490e+03   \n",
      "High               4.006570e+03  4.006570e+03  4.006570e+03  4.007290e+03   \n",
      "Low                4.006000e+03  4.006000e+03  4.006560e+03  4.003490e+03   \n",
      "Close              4.006010e+03  4.006010e+03  4.006560e+03  4.006570e+03   \n",
      "Volume_(BTC)       3.382954e+00  6.951222e+00  8.475772e+00  1.183828e+01   \n",
      "Volume_(Currency)  1.355343e+04  2.784951e+04  3.395870e+04  4.741754e+04   \n",
      "Weighted_Price     4.006390e+03  4.006419e+03  4.006561e+03  4.005441e+03   \n",
      "\n",
      "                        2099751       2099750  ...       9        \\\n",
      "Timestamp          1.546898e+09  1.546898e+09  ...  1.417413e+09   \n",
      "Open               4.007000e+03  4.009540e+03  ...           NaN   \n",
      "High               4.007010e+03  4.009540e+03  ...           NaN   \n",
      "Low                4.000240e+03  4.007000e+03  ...           NaN   \n",
      "Close              4.003490e+03  4.007010e+03  ...           NaN   \n",
      "Volume_(BTC)       9.452163e+00  4.540920e+00  ...           NaN   \n",
      "Volume_(Currency)  3.784576e+04  1.819998e+04  ...           NaN   \n",
      "Weighted_Price     4.003925e+03  4.007993e+03  ...           NaN   \n",
      "\n",
      "                        8             7             6             5        \\\n",
      "Timestamp          1.417412e+09  1.417412e+09  1.417412e+09  1.417412e+09   \n",
      "Open                        NaN  3.000000e+02           NaN           NaN   \n",
      "High                        NaN  3.000000e+02           NaN           NaN   \n",
      "Low                         NaN  3.000000e+02           NaN           NaN   \n",
      "Close                       NaN  3.000000e+02           NaN           NaN   \n",
      "Volume_(BTC)                NaN  1.000000e-02           NaN           NaN   \n",
      "Volume_(Currency)           NaN  3.000000e+00           NaN           NaN   \n",
      "Weighted_Price              NaN  3.000000e+02           NaN           NaN   \n",
      "\n",
      "                        4             3             2             1        \\\n",
      "Timestamp          1.417412e+09  1.417412e+09  1.417412e+09  1.417412e+09   \n",
      "Open                        NaN           NaN           NaN           NaN   \n",
      "High                        NaN           NaN           NaN           NaN   \n",
      "Low                         NaN           NaN           NaN           NaN   \n",
      "Close                       NaN           NaN           NaN           NaN   \n",
      "Volume_(BTC)                NaN           NaN           NaN           NaN   \n",
      "Volume_(Currency)           NaN           NaN           NaN           NaN   \n",
      "Weighted_Price              NaN           NaN           NaN           NaN   \n",
      "\n",
      "                        0        \n",
      "Timestamp          1.417412e+09  \n",
      "Open               3.000000e+02  \n",
      "High               3.000000e+02  \n",
      "Low                3.000000e+02  \n",
      "Close              3.000000e+02  \n",
      "Volume_(BTC)       1.000000e-02  \n",
      "Volume_(Currency)  3.000000e+00  \n",
      "Weighted_Price     3.000000e+02  \n",
      "\n",
      "[8 rows x 2099760 columns]\n"
     ]
    }
   ],
   "source": [
    "# Task 6. Flip it and Switch it\n",
    "task6_df = from_file('data/coinbaseUSD_1-min_data_2014-12-01_to_2019-01-09.csv', ',')\n",
    "\n",
    "task6_df = task6_df.sort_values(by=['Timestamp'], ascending=False).transpose()\n",
    "\n",
    "print(task6_df.tail(8))"
   ]
  },
  {
   "cell_type": "code",
   "execution_count": 15,
   "metadata": {},
   "outputs": [
    {
     "name": "stdout",
     "output_type": "stream",
     "text": [
      "          Timestamp      Open      High       Low     Close  Volume_(BTC)  \\\n",
      "1543350  1513514220  19891.99  19891.99  19891.98  19891.98      3.323210   \n",
      "1543352  1513514340  19891.99  19891.99  19891.98  19891.98      9.836946   \n",
      "1543351  1513514280  19891.99  19891.99  19891.98  19891.98      8.172155   \n",
      "1543349  1513514160  19891.00  19891.99  19890.99  19891.99      1.336512   \n",
      "1543353  1513514400  19891.99  19891.99  19876.22  19884.99     19.925151   \n",
      "\n",
      "         Volume_(Currency)  Weighted_Price  \n",
      "1543350       66105.250870    19891.984712  \n",
      "1543352      195676.363110    19891.983294  \n",
      "1543351      162560.403740    19891.987528  \n",
      "1543349       26584.930278    19891.272886  \n",
      "1543353      396292.881750    19889.078007  \n"
     ]
    }
   ],
   "source": [
    "# Task 7. Sort\n",
    "task7_df = from_file('data/coinbaseUSD_1-min_data_2014-12-01_to_2019-01-09.csv', ',')\n",
    "\n",
    "task7_df = task7_df.sort_values(by=['High'], ascending=False)\n",
    "\n",
    "print(task7_df.head())"
   ]
  }
 ],
 "metadata": {
  "kernelspec": {
   "display_name": "Python 3",
   "language": "python",
   "name": "python3"
  },
  "language_info": {
   "codemirror_mode": {
    "name": "ipython",
    "version": 3
   },
   "file_extension": ".py",
   "mimetype": "text/x-python",
   "name": "python",
   "nbconvert_exporter": "python",
   "pygments_lexer": "ipython3",
   "version": "3.8.10"
  }
 },
 "nbformat": 4,
 "nbformat_minor": 2
}
