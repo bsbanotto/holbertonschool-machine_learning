{
 "cells": [
  {
   "cell_type": "code",
   "execution_count": 4,
   "metadata": {},
   "outputs": [],
   "source": [
    "# Imports\n",
    "import string\n",
    "from sklearn.feature_extraction.text import CountVectorizer"
   ]
  },
  {
   "cell_type": "code",
   "execution_count": 5,
   "metadata": {},
   "outputs": [],
   "source": [
    "# Task 0. Bag of Words\n",
    "def bag_of_words(sentences, vocab=None):\n",
    "    \"\"\"\n",
    "    Creates a bag of words embedding matrix\n",
    "    Args:\n",
    "        sentences: list of sentences to analyze\n",
    "        vocab: list of the vocabulary words to use for the analysis\n",
    "\n",
    "    Returns:\n",
    "        embeddings: np.ndarray shape (s, f) containing the embeddings\n",
    "            s: number of sentences in sentences\n",
    "            f: number of features analyzed\n",
    "        features: list of the features used for embeddings\n",
    "    \"\"\"\n",
    "    # If vocab is None, make an empty list to append to\n",
    "    if vocab is None:\n",
    "        f = []\n",
    "    else:\n",
    "        f = vocab\n",
    "\n",
    "    # First, make everything lowercase and remove punctuation\n",
    "    for sentence in sentences:\n",
    "        sentence = sentence.lower()\n",
    "        sentence = sentence.translate(str.maketrans('',\n",
    "                                                    '',\n",
    "                                                    string.punctuation))\n",
    "        for word in sentence.split():\n",
    "            if word not in f:\n",
    "                f.append(word)\n",
    "            # Sorted words to match test file output\n",
    "            f.sort()\n",
    "\n",
    "    cv = CountVectorizer(max_features = 1500)\n",
    "    s = cv.fit_transform(sentences).toarray()\n",
    "\n",
    "    return s, f"
   ]
  },
  {
   "cell_type": "code",
   "execution_count": 6,
   "metadata": {},
   "outputs": [
    {
     "name": "stdout",
     "output_type": "stream",
     "text": [
      "[[0 1 0 0 0 0 0 0 1 1 0 0 0 0 0 0 0 0 0 1 0 0 0 0]\n",
      " [0 1 0 0 0 0 0 0 0 1 1 0 1 0 0 0 0 0 0 0 0 0 0 0]\n",
      " [0 0 0 0 0 1 0 0 0 1 0 0 0 1 0 0 0 0 0 0 0 1 0 0]\n",
      " [1 0 0 0 1 1 0 0 0 0 0 0 0 0 0 0 0 1 0 0 0 1 0 0]\n",
      " [1 0 0 0 2 0 0 1 0 0 0 0 0 0 0 0 0 2 0 0 0 0 0 0]\n",
      " [0 0 0 1 0 0 1 0 0 0 0 0 0 0 0 1 0 0 0 0 0 1 1 1]\n",
      " [0 0 0 1 0 0 1 0 0 0 0 0 0 0 1 1 1 0 1 0 1 1 1 1]\n",
      " [0 0 1 0 0 0 0 0 0 1 0 1 0 0 0 0 0 0 0 0 0 0 0 0]]\n",
      "['are', 'awesome', 'beautiful', 'cake', 'children', 'childrens', 'future', 'good', 'grandchildren', 'holberton', 'is', 'learning', 'life', 'machine', 'nlp', 'no', 'not', 'one', 'our', 'said', 'school', 'that', 'the', 'very', 'was']\n"
     ]
    }
   ],
   "source": [
    "# 0-main\n",
    "sentences = [\"Holberton school is Awesome!\",\n",
    "             \"Machine learning is awesome\",\n",
    "             \"NLP is the future!\",\n",
    "             \"The children are our future\",\n",
    "             \"Our children's children are our grandchildren\",\n",
    "             \"The cake was not very good\",\n",
    "             \"No one said that the cake was not very good\",\n",
    "             \"Life is beautiful\"]\n",
    "E, F = bag_of_words(sentences)\n",
    "print(E)\n",
    "print(F)"
   ]
  }
 ],
 "metadata": {
  "kernelspec": {
   "display_name": "Python 3",
   "language": "python",
   "name": "python3"
  },
  "language_info": {
   "codemirror_mode": {
    "name": "ipython",
    "version": 3
   },
   "file_extension": ".py",
   "mimetype": "text/x-python",
   "name": "python",
   "nbconvert_exporter": "python",
   "pygments_lexer": "ipython3",
   "version": "3.8.10"
  },
  "orig_nbformat": 4
 },
 "nbformat": 4,
 "nbformat_minor": 2
}
