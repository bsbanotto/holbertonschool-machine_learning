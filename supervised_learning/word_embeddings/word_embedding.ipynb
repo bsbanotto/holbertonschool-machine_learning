{
 "cells": [
  {
   "cell_type": "code",
   "execution_count": 1,
   "metadata": {},
   "outputs": [],
   "source": [
    "# Imports\n",
    "from sklearn.feature_extraction.text import CountVectorizer\n",
    "\n",
    "import re"
   ]
  },
  {
   "cell_type": "code",
   "execution_count": 2,
   "metadata": {},
   "outputs": [],
   "source": [
    "# Task 0. Bag of Words\n",
    "def bag_of_words(sentences, vocab=None):\n",
    "    \"\"\"\n",
    "    Creates a bag of words embedding matrix\n",
    "    Args:\n",
    "        sentences: list of sentences to analyze\n",
    "        vocab: list of the vocabulary words to use for the analysis\n",
    "\n",
    "    Returns:\n",
    "        embeddings: np.ndarray shape (s, f) containing the embeddings\n",
    "            s: number of sentences in sentences\n",
    "            f: number of features analyzed\n",
    "        features: list of the features used for embeddings\n",
    "    \"\"\"\n",
    "    # If vocab is None, make an empty list to append to\n",
    "    if vocab:\n",
    "        f = vocab\n",
    "        vocab_sentences = []\n",
    "    else:\n",
    "        f = []\n",
    "\n",
    "    corpus = []\n",
    "    # Remove punctuation, to lowercase, create corpus\n",
    "    for i in range(len(sentences)):\n",
    "        review = re.sub('[^a-zA-Z]', ' ', sentences[i])\n",
    "        review = review.lower()\n",
    "        review = review.split()\n",
    "        # If vocab list is provided, need to remove all words except words that\n",
    "        # are inside the vocab list. \n",
    "        if vocab:\n",
    "            vocab_sentences.clear()\n",
    "            for j in range(0, len(review)):\n",
    "                if review[j] in vocab:\n",
    "                    word = review[j]\n",
    "                    vocab_sentences.append(word)\n",
    "            review = ' '.join(vocab_sentences)\n",
    "        else:\n",
    "            review = ' '.join(review)\n",
    "        corpus.append(review)\n",
    "\n",
    "    if vocab is None:\n",
    "        # All of this to get the vocab list\n",
    "        for sentence in corpus:\n",
    "            words = sentence.split()\n",
    "            for word in words:\n",
    "                if len(word) > 1 and word not in f:\n",
    "                    f.append(word)\n",
    "                    f.sort()\n",
    "\n",
    "    cv = CountVectorizer(vocabulary=vocab)\n",
    "    s = cv.fit_transform(corpus).toarray()\n",
    "\n",
    "    return s, f\n",
    "\n",
    "\n"
   ]
  },
  {
   "cell_type": "code",
   "execution_count": 3,
   "metadata": {},
   "outputs": [
    {
     "name": "stdout",
     "output_type": "stream",
     "text": [
      "[[0 1 0 0 0 0 0 0 1 1 0 0 0 0 0 0 0 0 0 1 0 0 0 0]\n",
      " [0 1 0 0 0 0 0 0 0 1 1 0 1 0 0 0 0 0 0 0 0 0 0 0]\n",
      " [0 0 0 0 0 1 0 0 0 1 0 0 0 1 0 0 0 0 0 0 0 1 0 0]\n",
      " [1 0 0 0 1 1 0 0 0 0 0 0 0 0 0 0 0 1 0 0 0 1 0 0]\n",
      " [1 0 0 0 2 0 0 1 0 0 0 0 0 0 0 0 0 2 0 0 0 0 0 0]\n",
      " [0 0 0 1 0 0 1 0 0 0 0 0 0 0 0 1 0 0 0 0 0 1 1 1]\n",
      " [0 0 0 1 0 0 1 0 0 0 0 0 0 0 1 1 1 0 1 0 1 1 1 1]\n",
      " [0 0 1 0 0 0 0 0 0 1 0 1 0 0 0 0 0 0 0 0 0 0 0 0]]\n",
      "['are', 'awesome', 'beautiful', 'cake', 'children', 'future', 'good', 'grandchildren', 'holberton', 'is', 'learning', 'life', 'machine', 'nlp', 'no', 'not', 'one', 'our', 'said', 'school', 'that', 'the', 'very', 'was']\n"
     ]
    }
   ],
   "source": [
    "# 0-main - Vocab is None\n",
    "sentences = [\"Holberton school is Awesome!\",\n",
    "             \"Machine learning is awesome\",\n",
    "             \"NLP is the future!\",\n",
    "             \"The children are our future\",\n",
    "             \"Our children's children are our grandchildren\",\n",
    "             \"The cake was not very good\",\n",
    "             \"No one said that the cake was not very good\",\n",
    "             \"Life is beautiful\"]\n",
    "E, F = bag_of_words(sentences)\n",
    "print(E)\n",
    "print(F)"
   ]
  },
  {
   "cell_type": "code",
   "execution_count": 4,
   "metadata": {},
   "outputs": [
    {
     "name": "stdout",
     "output_type": "stream",
     "text": [
      "[[0 1 1 0 0 0 0]\n",
      " [0 1 1 0 0 0 0]\n",
      " [0 1 0 0 0 0 1]\n",
      " [1 0 0 0 1 1 1]\n",
      " [2 0 0 0 1 2 0]\n",
      " [0 0 0 1 0 0 0]\n",
      " [0 0 0 1 0 0 0]\n",
      " [0 1 0 0 0 0 0]]\n",
      "['children', 'is', 'awesome', 'cake', 'are', 'our', 'future']\n"
     ]
    }
   ],
   "source": [
    "#0-main - Vocab is not None\n",
    "sentences = [\"Holberton school is Awesome!\",\n",
    "             \"Machine learning is awesome\",\n",
    "             \"NLP is the future!\",\n",
    "             \"The children are our future\",\n",
    "             \"Our children's children are our grandchildren\",\n",
    "             \"The cake was not very good\",\n",
    "             \"No one said that the cake was not very good\",\n",
    "             \"Life is beautiful\"]\n",
    "vocab = [\"children\", \"is\", \"awesome\", \"cake\", \"are\", \"our\", \"future\"]\n",
    "E, F = bag_of_words(sentences, vocab)\n",
    "print(E)\n",
    "print(F)"
   ]
  },
  {
   "cell_type": "code",
   "execution_count": null,
   "metadata": {},
   "outputs": [],
   "source": []
  }
 ],
 "metadata": {
  "kernelspec": {
   "display_name": "Python 3",
   "language": "python",
   "name": "python3"
  },
  "language_info": {
   "codemirror_mode": {
    "name": "ipython",
    "version": 3
   },
   "file_extension": ".py",
   "mimetype": "text/x-python",
   "name": "python",
   "nbconvert_exporter": "python",
   "pygments_lexer": "ipython3",
   "version": "3.8.10"
  },
  "orig_nbformat": 4
 },
 "nbformat": 4,
 "nbformat_minor": 2
}
