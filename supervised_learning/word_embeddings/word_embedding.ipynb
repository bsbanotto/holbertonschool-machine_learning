{
 "cells": [
  {
   "cell_type": "code",
   "execution_count": 42,
   "metadata": {},
   "outputs": [],
   "source": [
    "# Imports\n",
    "from sklearn.feature_extraction.text import CountVectorizer\n",
    "\n",
    "import re\n",
    "import string"
   ]
  },
  {
   "cell_type": "code",
   "execution_count": 59,
   "metadata": {},
   "outputs": [],
   "source": [
    "# Task 0. Bag of Words\n",
    "def bag_of_words(sentences, vocab=None):\n",
    "    \"\"\"\n",
    "    Creates a bag of words embedding matrix\n",
    "    Args:\n",
    "        sentences: list of sentences to analyze\n",
    "        vocab: list of the vocabulary words to use for the analysis\n",
    "\n",
    "    Returns:\n",
    "        embeddings: np.ndarray shape (s, f) containing the embeddings\n",
    "            s: number of sentences in sentences\n",
    "            f: number of features analyzed\n",
    "        features: list of the features used for embeddings\n",
    "    \"\"\"\n",
    "    # If vocab is None, make an empty list to append to\n",
    "    if vocab is None:\n",
    "        f = []\n",
    "\n",
    "    short_sentences = []\n",
    "    real_list = []\n",
    "    corpus = []\n",
    "    # First, convert sentences list to corpus, lowercase, no punctuation\n",
    "    for i in range(len(sentences)):\n",
    "        review = re.sub('[^a-zA-Z]', ' ', sentences[i])\n",
    "        review = review.lower()\n",
    "        review = review.split()\n",
    "        if vocab:\n",
    "            short_sentences.clear()\n",
    "            for j in range(0, len(review)):\n",
    "                if review[j] in vocab:\n",
    "                    word = review[j]\n",
    "                    short_sentences.append(word)\n",
    "            review = ' '.join(short_sentences)\n",
    "        else:\n",
    "            review = ' '.join(review)\n",
    "        corpus.append(review)\n",
    "\n",
    "    if vocab is None:\n",
    "        print(corpus)\n",
    "        # All of this to get the vocab list\n",
    "        for sentence in corpus:\n",
    "            words = sentence.split()\n",
    "            for word in words:\n",
    "                if len(word) > 1 and word not in real_list:\n",
    "                    real_list.append(word)\n",
    "                    real_list.sort()\n",
    "        cv = CountVectorizer()\n",
    "        s = cv.fit_transform(corpus).toarray()\n",
    "        f = real_list\n",
    "\n",
    "        return s, f\n",
    "\n",
    "    else:\n",
    "        print(corpus)\n",
    "        cv = CountVectorizer(vocabulary=vocab)\n",
    "        s = cv.fit_transform(corpus).toarray()\n",
    "\n",
    "        return s, vocab\n",
    "\n",
    "\n"
   ]
  },
  {
   "cell_type": "code",
   "execution_count": 55,
   "metadata": {},
   "outputs": [
    {
     "name": "stdout",
     "output_type": "stream",
     "text": [
      "['holberton school is awesome', 'machine learning is awesome', 'nlp is the future', 'the children are our future', 'our children s children are our grandchildren', 'the cake was not very good', 'no one said that the cake was not very good', 'life is beautiful']\n",
      "[[0 1 0 0 0 0 0 0 1 1 0 0 0 0 0 0 0 0 0 1 0 0 0 0]\n",
      " [0 1 0 0 0 0 0 0 0 1 1 0 1 0 0 0 0 0 0 0 0 0 0 0]\n",
      " [0 0 0 0 0 1 0 0 0 1 0 0 0 1 0 0 0 0 0 0 0 1 0 0]\n",
      " [1 0 0 0 1 1 0 0 0 0 0 0 0 0 0 0 0 1 0 0 0 1 0 0]\n",
      " [1 0 0 0 2 0 0 1 0 0 0 0 0 0 0 0 0 2 0 0 0 0 0 0]\n",
      " [0 0 0 1 0 0 1 0 0 0 0 0 0 0 0 1 0 0 0 0 0 1 1 1]\n",
      " [0 0 0 1 0 0 1 0 0 0 0 0 0 0 1 1 1 0 1 0 1 1 1 1]\n",
      " [0 0 1 0 0 0 0 0 0 1 0 1 0 0 0 0 0 0 0 0 0 0 0 0]]\n",
      "['are', 'awesome', 'beautiful', 'cake', 'children', 'future', 'good', 'grandchildren', 'holberton', 'is', 'learning', 'life', 'machine', 'nlp', 'no', 'not', 'one', 'our', 'said', 'school', 'that', 'the', 'very', 'was']\n"
     ]
    }
   ],
   "source": [
    "# 0-main - Vocab is None\n",
    "sentences = [\"Holberton school is Awesome!\",\n",
    "             \"Machine learning is awesome\",\n",
    "             \"NLP is the future!\",\n",
    "             \"The children are our future\",\n",
    "             \"Our children's children are our grandchildren\",\n",
    "             \"The cake was not very good\",\n",
    "             \"No one said that the cake was not very good\",\n",
    "             \"Life is beautiful\"]\n",
    "E, F = bag_of_words(sentences)\n",
    "print(E)\n",
    "print(F)"
   ]
  },
  {
   "cell_type": "code",
   "execution_count": 60,
   "metadata": {},
   "outputs": [
    {
     "name": "stdout",
     "output_type": "stream",
     "text": [
      "['is awesome', 'is awesome', 'is future', 'children are our future', 'our children children are our', 'cake', 'cake', 'is']\n",
      "[[0 1 1 0 0 0 0]\n",
      " [0 1 1 0 0 0 0]\n",
      " [0 1 0 0 0 0 1]\n",
      " [1 0 0 0 1 1 1]\n",
      " [2 0 0 0 1 2 0]\n",
      " [0 0 0 1 0 0 0]\n",
      " [0 0 0 1 0 0 0]\n",
      " [0 1 0 0 0 0 0]]\n",
      "['children', 'is', 'awesome', 'cake', 'are', 'our', 'future']\n"
     ]
    }
   ],
   "source": [
    "#0-main - Vocab is not None\n",
    "sentences = [\"Holberton school is Awesome!\",\n",
    "             \"Machine learning is awesome\",\n",
    "             \"NLP is the future!\",\n",
    "             \"The children are our future\",\n",
    "             \"Our children's children are our grandchildren\",\n",
    "             \"The cake was not very good\",\n",
    "             \"No one said that the cake was not very good\",\n",
    "             \"Life is beautiful\"]\n",
    "vocab = [\"children\", \"is\", \"awesome\", \"cake\", \"are\", \"our\", \"future\"]\n",
    "E, F = bag_of_words(sentences, vocab)\n",
    "print(E)\n",
    "print(F)"
   ]
  },
  {
   "cell_type": "code",
   "execution_count": null,
   "metadata": {},
   "outputs": [],
   "source": []
  }
 ],
 "metadata": {
  "kernelspec": {
   "display_name": "Python 3",
   "language": "python",
   "name": "python3"
  },
  "language_info": {
   "codemirror_mode": {
    "name": "ipython",
    "version": 3
   },
   "file_extension": ".py",
   "mimetype": "text/x-python",
   "name": "python",
   "nbconvert_exporter": "python",
   "pygments_lexer": "ipython3",
   "version": "3.8.10"
  },
  "orig_nbformat": 4
 },
 "nbformat": 4,
 "nbformat_minor": 2
}
