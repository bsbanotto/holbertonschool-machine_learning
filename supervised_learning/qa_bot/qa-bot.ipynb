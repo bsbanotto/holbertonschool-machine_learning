{
 "cells": [
  {
   "cell_type": "code",
   "execution_count": null,
   "metadata": {},
   "outputs": [],
   "source": [
    "# imports\n",
    "import tensorflow as tf\n",
    "import tensorflow_hub as hub\n",
    "from transformers import BertTokenizer"
   ]
  },
  {
   "cell_type": "code",
   "execution_count": null,
   "metadata": {},
   "outputs": [],
   "source": [
    "# Load the model and tokenizer\n",
    "tokenizer_to_use = \"bert-large-uncased-whole-word-masking-finetuned-squad\"\n",
    "tokenizer = BertTokenizer.from_pretrained(tokenizer_to_use)\n",
    "model = hub.load(\"https://tfhub.dev/see--/bert-uncased-tf2-qa/1\")"
   ]
  },
  {
   "cell_type": "code",
   "execution_count": null,
   "metadata": {},
   "outputs": [],
   "source": [
    "def question_answer(question, reference):\n",
    "    \"\"\"\n",
    "    Args:\n",
    "        question: string containing the question to answer\n",
    "        reference: string containing the reference document to find answer\n",
    "    Returns:\n",
    "        String containing the answer or None if no answer is found\n",
    "    \"\"\"\n",
    "    quest_toks = tokenizer.tokenize(question)\n",
    "    ref_toks = tokenizer.tokenize(reference)\n",
    "    toks = ['[CLS]'] + quest_toks + ['[SEP]'] + ref_toks + ['[SEP]']\n",
    "    input_word_ids = tokenizer.convert_tokens_to_ids(toks)\n",
    "    input_mask = [1] * len(input_word_ids)\n",
    "    quest_len = len(quest_toks)\n",
    "    ref_len = len(ref_toks)\n",
    "    input_type_ids = [0] * (1 + quest_len + 1) + [1] * (ref_len + 1)\n",
    "\n",
    "    input_word_ids = tf.convert_to_tensor([input_word_ids])\n",
    "    input_mask = tf.convert_to_tensor([input_mask])\n",
    "    input_type_ids = tf.convert_to_tensor([input_type_ids])\n",
    "\n",
    "    outputs = model([input_word_ids, input_mask, input_type_ids])\n",
    "\n",
    "    short_start = tf.argmax(outputs[0][0][1:]) + 1\n",
    "    short_end = tf.argmax(outputs[1][0][1:]) + 1\n",
    "    answer_tokens = toks[short_start: short_end + 1]\n",
    "    answer = tokenizer.convert_tokens_to_string(answer_tokens)\n",
    "\n",
    "    if answer:\n",
    "        return answer\n",
    "    return None"
   ]
  },
  {
   "cell_type": "code",
   "execution_count": null,
   "metadata": {},
   "outputs": [],
   "source": [
    "# 0-main\n",
    "with open('ZendeskArticles/PeerLearningDays.md') as f:\n",
    "    reference = f.read()\n",
    "\n",
    "question = 'When are PLDs?'\n",
    "print(question + \"\\n\\t\" + str(question_answer(question, reference)))\n",
    "\n",
    "question = 'What does PLD stand for?'\n",
    "print(question + \"\\n\\t\" + str(question_answer(question, reference)))\n",
    "\n",
    "question = 'What are Mock Interviews?'\n",
    "print(question + \"\\n\\t\" + str(question_answer(question, reference)))"
   ]
  },
  {
   "cell_type": "code",
   "execution_count": null,
   "metadata": {},
   "outputs": [],
   "source": [
    "exit_commands = ['exit', 'quit', 'goodbye', 'bye']\n",
    "while(True):\n",
    "    d = input('Q: ')\n",
    "    print(\"Q: \" + d)\n",
    "    if d.lower() in exit_commands:\n",
    "        print('A: Goodbye')\n",
    "        break\n",
    "    print(\"A: \")\n"
   ]
  },
  {
   "cell_type": "code",
   "execution_count": null,
   "metadata": {},
   "outputs": [],
   "source": [
    "def answer_loop(reference):\n",
    "    \"\"\"\n",
    "    Args:\n",
    "        reference: the reference text\n",
    "    If the answer cannot be found in the reference text respond with:\n",
    "        'Sorry, I do not understand your question'\n",
    "    \"\"\"\n",
    "    exit_commands = ['exit', 'quit', 'goodbye', 'bye']\n",
    "    while(True):\n",
    "        question = input('Q: ')\n",
    "        print('Q: ' + question)\n",
    "        if question.lower() in exit_commands:\n",
    "            print('A: Goodbye')\n",
    "            break\n",
    "        answer = question_answer(question, reference)\n",
    "        if answer:\n",
    "            print('A: ' + answer)\n",
    "        else:\n",
    "            print('A: Sorry, I do not understand your question')\n"
   ]
  },
  {
   "cell_type": "code",
   "execution_count": null,
   "metadata": {},
   "outputs": [],
   "source": [
    "with open('ZendeskArticles/PeerLearningDays.md') as f:\n",
    "    reference = f.read()\n",
    "\n",
    "answer_loop(reference)"
   ]
  },
  {
   "cell_type": "code",
   "execution_count": null,
   "metadata": {},
   "outputs": [],
   "source": [
    "import os\n",
    "import numpy as np\n",
    "from sklearn.metrics.pairwise import cosine_similarity\n",
    "from sklearn.preprocessing import normalize"
   ]
  },
  {
   "cell_type": "code",
   "execution_count": null,
   "metadata": {},
   "outputs": [],
   "source": [
    "def load_files_from_directory(directory):\n",
    "    files = []\n",
    "    for filename in os.listdir(directory):\n",
    "        if filename.endswith(\".md\"):\n",
    "            with open(os.path.join(directory, filename),\n",
    "                      \"r\",\n",
    "                      encoding=\"utf-8\") as file:\n",
    "                content = file.read()\n",
    "                files.append(content)\n",
    "    return files"
   ]
  },
  {
   "cell_type": "code",
   "execution_count": null,
   "metadata": {},
   "outputs": [],
   "source": [
    "def semantic_search(corpus_path, sentence):\n",
    "    # Load the Universal Sentence Encoder model\n",
    "    model_url = \"https://tfhub.dev/google/universal-sentence-encoder-large/5\"\n",
    "    model = hub.load(model_url)\n",
    "\n",
    "    # Load and preprocess the corpus documents\n",
    "    corpus = load_files_from_directory(corpus_path)\n",
    "\n",
    "    # Encode the query sentence and corpus documents\n",
    "    sentence_embedding = model([sentence])[0]\n",
    "    corpus_embeddings = model(corpus)\n",
    "\n",
    "    # Compute cosine similarities\n",
    "    similarity_scores = cosine_similarity(\n",
    "        normalize([sentence_embedding]),\n",
    "        normalize(corpus_embeddings)\n",
    "    )[0]\n",
    "\n",
    "    # Find the index of the most similar document\n",
    "    most_similar_idx = np.argmax(similarity_scores)\n",
    "\n",
    "    return corpus[most_similar_idx]"
   ]
  },
  {
   "cell_type": "code",
   "execution_count": null,
   "metadata": {},
   "outputs": [],
   "source": [
    "print(semantic_search('ZendeskArticles', 'When are PLDs?'))"
   ]
  },
  {
   "cell_type": "code",
   "execution_count": null,
   "metadata": {},
   "outputs": [],
   "source": [
    "print(semantic_search('ZendeskArticles', 'What is a Mock Interview'))"
   ]
  },
  {
   "cell_type": "code",
   "execution_count": null,
   "metadata": {},
   "outputs": [],
   "source": [
    "def semantic_answer(corpus_path):\n",
    "    \"\"\"\n",
    "    Args:\n",
    "        reference: the reference text\n",
    "    If the answer cannot be found in the reference text respond with:\n",
    "        'Sorry, I do not understand your question'\n",
    "    \"\"\"\n",
    "    exit_commands = ['exit', 'quit', 'goodbye', 'bye']\n",
    "    while(True):\n",
    "        question = input('Q: ')\n",
    "        if question.lower() in exit_commands:\n",
    "            print('A: Goodbye')\n",
    "            break\n",
    "        reference = semantic_search(corpus_path, question)\n",
    "        answer = question_answer(question, reference)\n",
    "        if answer:\n",
    "            print('A: ' + answer)\n",
    "        else:\n",
    "            print('A: Sorry, I do not understand your question')"
   ]
  },
  {
   "cell_type": "code",
   "execution_count": null,
   "metadata": {},
   "outputs": [],
   "source": [
    "#4-main\n",
    "question_answer('ZendeskArticles')"
   ]
  }
 ],
 "metadata": {
  "kernelspec": {
   "display_name": "Python 3",
   "language": "python",
   "name": "python3"
  },
  "language_info": {
   "codemirror_mode": {
    "name": "ipython",
    "version": 3
   },
   "file_extension": ".py",
   "mimetype": "text/x-python",
   "name": "python",
   "nbconvert_exporter": "python",
   "pygments_lexer": "ipython3",
   "version": "3.8.10"
  },
  "orig_nbformat": 4
 },
 "nbformat": 4,
 "nbformat_minor": 2
}
