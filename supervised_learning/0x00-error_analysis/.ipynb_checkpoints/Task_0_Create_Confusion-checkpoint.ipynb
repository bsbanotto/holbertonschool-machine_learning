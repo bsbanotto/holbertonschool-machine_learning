{
 "cells": [
  {
   "cell_type": "code",
   "execution_count": null,
   "id": "148d5593-4f98-4e56-9cc2-97cbed3da440",
   "metadata": {},
   "outputs": [],
   "source": [
    "#Imports here"
   ]
  },
  {
   "cell_type": "code",
   "execution_count": null,
   "id": "70985a22-2a2e-4fba-b0ba-aa2fba4b034d",
   "metadata": {},
   "outputs": [],
   "source": [
    "#Task 0"
   ]
  }
 ],
 "metadata": {
  "kernelspec": {
   "display_name": "Python 3 (ipykernel)",
   "language": "python",
   "name": "python3"
  },
  "language_info": {
   "codemirror_mode": {
    "name": "ipython",
    "version": 3
   },
   "file_extension": ".py",
   "mimetype": "text/x-python",
   "name": "python",
   "nbconvert_exporter": "python",
   "pygments_lexer": "ipython3",
   "version": "3.8.10"
  }
 },
 "nbformat": 4,
 "nbformat_minor": 5
}
