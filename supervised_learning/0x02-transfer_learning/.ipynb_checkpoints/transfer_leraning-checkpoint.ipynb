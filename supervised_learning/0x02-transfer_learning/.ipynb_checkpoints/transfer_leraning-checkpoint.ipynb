{
 "cells": [
  {
   "cell_type": "code",
   "execution_count": 1,
   "metadata": {},
   "outputs": [
    {
     "name": "stderr",
     "output_type": "stream",
     "text": [
      "2023-03-27 20:15:43.937398: I tensorflow/core/util/util.cc:169] oneDNN custom operations are on. You may see slightly different numerical results due to floating-point round-off errors from different computation orders. To turn them off, set the environment variable `TF_ENABLE_ONEDNN_OPTS=0`.\n",
      "2023-03-27 20:15:44.101323: W tensorflow/stream_executor/platform/default/dso_loader.cc:64] Could not load dynamic library 'libcudart.so.11.0'; dlerror: libcudart.so.11.0: cannot open shared object file: No such file or directory\n",
      "2023-03-27 20:15:44.101379: I tensorflow/stream_executor/cuda/cudart_stub.cc:29] Ignore above cudart dlerror if you do not have a GPU set up on your machine.\n"
     ]
    }
   ],
   "source": [
    "# Imports\n",
    "import tensorflow.keras as K\n",
    "import tensorflow as tf"
   ]
  },
  {
   "cell_type": "code",
   "execution_count": 2,
   "metadata": {},
   "outputs": [],
   "source": [
    "# Install tensorflow v 2.9.1 so model.save() works\n",
    "if ((tf.__version__) != '2.9.1'):\n",
    "    %pip install tensorflow==2.9.1\n"
   ]
  },
  {
   "cell_type": "code",
   "execution_count": 2,
   "metadata": {},
   "outputs": [],
   "source": [
    "# Data Preprocessing\n",
    "def preprocess_data(X, Y):\n",
    "    \"\"\"\n",
    "    X: numpy.ndarray of shape (m, 32, 32, 3) containing the CIFAR10 data\n",
    "    Y: numpy.ndarray of shape (m,) containing the CIFAR10 data labels\n",
    "    Returns X_p and Y_p\n",
    "    \"\"\"\n",
    "    X_p = K.applications.efficientnet.preprocess_input(X, data_format=None)\n",
    "    Y_p = K.utils.to_categorical(Y, 10)\n",
    "\n",
    "    return X_p, Y_p"
   ]
  },
  {
   "cell_type": "code",
   "execution_count": 3,
   "metadata": {},
   "outputs": [],
   "source": [
    "# Prep variables for use in model building / training\n",
    "MODEL_PATH = 'cifar10.h5'\n",
    "optimizer = K.optimizers.Adam()\n",
    "init = K.initializers.he_normal()\n",
    "\n",
    "# Load CIFAR10 dataset\n",
    "(x_train, y_train), (x_valid, y_valid) = K.datasets.cifar10.load_data()\n",
    "\n",
    "# Pre-process the data\n",
    "x_train_p, y_train_p = preprocess_data(x_train, y_train)\n",
    "x_valid_p, y_valid_p = preprocess_data(x_valid, y_valid)\n",
    "\n",
    "# input tensor\n",
    "inputs = K.Input(shape=(32, 32, 3))\n",
    "\n",
    "# Resize input\n",
    "resize = K.layers.Lambda(\n",
    "    lambda image: K.backend.resize_images(\n",
    "    image, 240/32, 240/32, data_format='channels_last')\n",
    ")(inputs)"
   ]
  },
  {
   "cell_type": "code",
   "execution_count": 5,
   "metadata": {},
   "outputs": [
    {
     "name": "stderr",
     "output_type": "stream",
     "text": [
      "2023-03-27 20:14:54.332820: W tensorflow/stream_executor/platform/default/dso_loader.cc:64] Could not load dynamic library 'libcuda.so.1'; dlerror: libcuda.so.1: cannot open shared object file: No such file or directory\n",
      "2023-03-27 20:14:54.332961: W tensorflow/stream_executor/cuda/cuda_driver.cc:269] failed call to cuInit: UNKNOWN ERROR (303)\n",
      "2023-03-27 20:14:54.333056: I tensorflow/stream_executor/cuda/cuda_diagnostics.cc:156] kernel driver does not appear to be running on this host (BensLaptop): /proc/driver/nvidia/version does not exist\n",
      "2023-03-27 20:14:54.333568: I tensorflow/core/platform/cpu_feature_guard.cc:193] This TensorFlow binary is optimized with oneAPI Deep Neural Network Library (oneDNN) to use the following CPU instructions in performance-critical operations:  AVX2 AVX512F AVX512_VNNI FMA\n",
      "To enable them in other operations, rebuild TensorFlow with the appropriate compiler flags.\n"
     ]
    },
    {
     "name": "stdout",
     "output_type": "stream",
     "text": [
      "Epoch 1/5\n"
     ]
    },
    {
     "ename": "",
     "evalue": "",
     "output_type": "error",
     "traceback": [
      "\u001b[1;31mCanceled future for execute_request message before replies were done"
     ]
    },
    {
     "ename": "",
     "evalue": "",
     "output_type": "error",
     "traceback": [
      "\u001b[1;31mThe Kernel crashed while executing code in the the current cell or a previous cell. Please review the code in the cell(s) to identify a possible cause of the failure. Click <a href='https://aka.ms/vscodeJupyterKernelCrash'>here</a> for more info. View Jupyter <a href='command:jupyter.viewOutput'>log</a> for further details."
     ]
    }
   ],
   "source": [
    "# Load pretrained EfficientNetB1 Base Bodel\n",
    "base_model = K.applications.EfficientNetB1(\n",
    "    include_top=False,\n",
    "    weights='imagenet',\n",
    "    input_tensor=resize,\n",
    "    input_shape=(240, 240, 3)\n",
    ")\n",
    "base_model.trainable = False\n",
    "\n",
    "def inception_block(A_prev, filters):\n",
    "    \"\"\"\n",
    "    A_prev: output from the previous layer\n",
    "    filters: tuple containing F1, F3R, F3, F5R, F5, FPP\n",
    "        F1: number of filters in the 1x1 convolution\n",
    "        F3R: number of filters in the 1x1 convolution before the 3x3\n",
    "        convolution\n",
    "        F3: number of filters in the 3x3 convolution\n",
    "        F5R: number of filters in the 1x1 convolution before the 5x5\n",
    "        convolution\n",
    "        F5: number of filters in the 5x5 convolution\n",
    "        FPP: number of filters in the 1x1 convolution after the max pooling\n",
    "    All convolutions inside the inception block should use a ReLU activation\n",
    "    Returns: the concatenated output of the inception block\n",
    "    \"\"\"\n",
    "    F1 = filters[0]\n",
    "    F3R = filters[1]\n",
    "    F3 = filters[2]\n",
    "    F5R = filters[3]\n",
    "    F5 = filters[4]\n",
    "    FPP = filters[5]\n",
    "\n",
    "    conv_1x1 = K.layers.Conv2D(filters=F1,\n",
    "                               kernel_size=(1, 1),\n",
    "                               padding='same',\n",
    "                               activation='relu'\n",
    "                               )(A_prev)\n",
    "\n",
    "    conv_1x1_3x3 = K.layers.Conv2D(filters=F3R,\n",
    "                                   kernel_size=(1, 1),\n",
    "                                   padding='same',\n",
    "                                   activation='relu'\n",
    "                                   )(A_prev)\n",
    "\n",
    "    conv_3x3 = K.layers.Conv2D(filters=F3,\n",
    "                               kernel_size=(3, 3),\n",
    "                               padding='same',\n",
    "                               activation='relu'\n",
    "                               )(conv_1x1_3x3)\n",
    "\n",
    "    conv_1x1_5x5 = K.layers.Conv2D(filters=F5R,\n",
    "                                   kernel_size=(1, 1),\n",
    "                                   padding='same',\n",
    "                                   activation='relu'\n",
    "                                   )(A_prev)\n",
    "\n",
    "    conv_5x5 = K.layers.Conv2D(filters=F5,\n",
    "                               kernel_size=(5, 5),\n",
    "                               padding='same',\n",
    "                               activation='relu'\n",
    "                               )(conv_1x1_5x5)\n",
    "\n",
    "    max_pool_3x3 = K.layers.MaxPooling2D(pool_size=(3, 3),\n",
    "                                         strides=1,\n",
    "                                         padding='same'\n",
    "                                         )(A_prev)\n",
    "\n",
    "    conv_1x1_pooled = K.layers.Conv2D(filters=FPP,\n",
    "                                      kernel_size=(1, 1),\n",
    "                                      padding='same',\n",
    "                                      activation='relu'\n",
    "                                      )(max_pool_3x3)\n",
    "\n",
    "    output = K.layers.Concatenate()([\n",
    "        conv_1x1, conv_3x3, conv_5x5, conv_1x1_pooled\n",
    "    ])\n",
    "\n",
    "    return output\n",
    "\n",
    "# Add output layers\n",
    "\"\"\"\n",
    "Since we set include_top=False when we loaded our base model, our output shape\n",
    "    is (None, 7, 7, 1280) in it's current state. We need to reduce this to a \n",
    "    10 row softmax to evaluate the baseline conditions of our model\n",
    "\n",
    "K.layers.GlobalAveragePooling2D() operates on the height and width dimensions\n",
    "    to return an array shape (None, 1280)\n",
    "\n",
    "Last, we need to do the softmax to get shape (None, 10)\n",
    "\n",
    "After we've determined baseline of our pretrained model, we'll add layers before\n",
    "the GlobalAveragePooling2D layer to further train our model.\n",
    "\"\"\"\n",
    "out = base_model.output\n",
    "out = inception_block(out, [64, 96, 128, 16, 32, 32])\n",
    "out = K.layers.MaxPooling2D(pool_size=(3, 3),\n",
    "                            strides=2,\n",
    "                            padding='same')(out)\n",
    "out = inception_block(out, [64, 96, 128, 16, 32, 32])\n",
    "out = K.layers.GlobalAveragePooling2D()(out)\n",
    "out = K.layers.Dense(10, activation='softmax')(out)\n",
    "\n",
    "# Compile Model\n",
    "model = K.models.Model(inputs=inputs, outputs=out)\n",
    "\n",
    "model.compile(optimizer=optimizer,\n",
    "              loss='categorical_crossentropy',\n",
    "              metrics=['accuracy'])\n",
    "\n",
    "# Train Model\n",
    "model.fit(x=x_train_p,\n",
    "          y=y_train_p,\n",
    "          batch_size=200,\n",
    "          epochs=5,\n",
    "          validation_data=(x_valid_p, y_valid_p))"
   ]
  },
  {
   "cell_type": "code",
   "execution_count": null,
   "metadata": {},
   "outputs": [],
   "source": [
    "# Save Model\n",
    "model.save('cifar10.h5')"
   ]
  },
  {
   "cell_type": "code",
   "execution_count": 4,
   "metadata": {},
   "outputs": [
    {
     "name": "stderr",
     "output_type": "stream",
     "text": [
      "2023-03-27 20:16:00.650093: W tensorflow/stream_executor/platform/default/dso_loader.cc:64] Could not load dynamic library 'libcuda.so.1'; dlerror: libcuda.so.1: cannot open shared object file: No such file or directory\n",
      "2023-03-27 20:16:00.650277: W tensorflow/stream_executor/cuda/cuda_driver.cc:269] failed call to cuInit: UNKNOWN ERROR (303)\n",
      "2023-03-27 20:16:00.650731: I tensorflow/stream_executor/cuda/cuda_diagnostics.cc:156] kernel driver does not appear to be running on this host (BensLaptop): /proc/driver/nvidia/version does not exist\n",
      "2023-03-27 20:16:00.652369: I tensorflow/core/platform/cpu_feature_guard.cc:193] This TensorFlow binary is optimized with oneAPI Deep Neural Network Library (oneDNN) to use the following CPU instructions in performance-critical operations:  AVX2 AVX512F AVX512_VNNI FMA\n",
      "To enable them in other operations, rebuild TensorFlow with the appropriate compiler flags.\n"
     ]
    },
    {
     "name": "stdout",
     "output_type": "stream",
     "text": [
      "WARNING:tensorflow:Error in loading the saved optimizer state. As a result, your model is starting with a freshly initialized optimizer.\n",
      "313/313 [==============================] - 313s 990ms/step - loss: 0.3637 - accuracy: 0.8752\n"
     ]
    },
    {
     "data": {
      "text/plain": [
       "[0.36374178528785706, 0.8751999735832214]"
      ]
     },
     "execution_count": 4,
     "metadata": {},
     "output_type": "execute_result"
    }
   ],
   "source": [
    "# Load saved model and evaluate\n",
    "load_model = K.models.load_model('cifar10.h5')\n",
    "load_model.evaluate(x_valid_p, y_valid_p, verbose=1)"
   ]
  }
 ],
 "metadata": {
  "kernelspec": {
   "display_name": "Python 3",
   "language": "python",
   "name": "python3"
  },
  "language_info": {
   "codemirror_mode": {
    "name": "ipython",
    "version": 3
   },
   "file_extension": ".py",
   "mimetype": "text/x-python",
   "name": "python",
   "nbconvert_exporter": "python",
   "pygments_lexer": "ipython3",
   "version": "3.8.10"
  },
  "orig_nbformat": 4
 },
 "nbformat": 4,
 "nbformat_minor": 2
}
