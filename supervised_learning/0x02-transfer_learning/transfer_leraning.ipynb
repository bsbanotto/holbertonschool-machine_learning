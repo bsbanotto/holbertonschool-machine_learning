{
 "cells": [
  {
   "cell_type": "code",
   "execution_count": null,
   "metadata": {},
   "outputs": [],
   "source": [
    "# Imports\n",
    "import tensorflow.keras as K\n",
    "import tensorflow as tf"
   ]
  },
  {
   "cell_type": "code",
   "execution_count": 4,
   "metadata": {},
   "outputs": [],
   "source": [
    "# Install tensorflow v 2.9.1 so model.save() works\n",
    "if ((tf.__version__) != '2.9.1'):\n",
    "    %pip install tensorflow==2.9.1\n"
   ]
  },
  {
   "cell_type": "code",
   "execution_count": 5,
   "metadata": {},
   "outputs": [],
   "source": [
    "# Data Preprocessing\n",
    "def preprocess_data(X, Y):\n",
    "    \"\"\"\n",
    "    X: numpy.ndarray of shape (m, 32, 32, 3) containing the CIFAR10 data\n",
    "    Y: numpy.ndarray of shape (m,) containing the CIFAR10 data labels\n",
    "    Returns X_p and Y_p\n",
    "    \"\"\"\n",
    "    X_p = K.applications.efficientnet.preprocess_input(X, data_format=None)\n",
    "    Y_p = K.utils.to_categorical(Y, 10)\n",
    "\n",
    "    return X_p, Y_p"
   ]
  },
  {
   "cell_type": "code",
   "execution_count": null,
   "metadata": {},
   "outputs": [],
   "source": [
    "# Prep variables for use in model building / training\n",
    "MODEL_PATH = 'cifar10.h5'\n",
    "optimizer = K.optimizers.Adam()\n",
    "init = K.initializers.he_normal()\n",
    "\n",
    "# Load CIFAR10 dataset\n",
    "(x_train, y_train), (x_valid, y_valid) = K.datasets.cifar10.load_data()\n",
    "\n",
    "# Pre-process the data\n",
    "x_train_p, y_train_p = preprocess_data(x_train, y_train)\n",
    "x_valid_p, y_valid_p = preprocess_data(x_valid, y_valid)\n",
    "\n",
    "# input tensor\n",
    "inputs = K.Input(shape=(32, 32, 3))\n",
    "\n",
    "# Resize input\n",
    "resize = K.layers.Lambda(\n",
    "    lambda image: K.backend.resize_images(\n",
    "    image, 240/32, 240/32, data_format='channels_last')\n",
    ")(inputs)"
   ]
  },
  {
   "cell_type": "code",
   "execution_count": null,
   "metadata": {},
   "outputs": [],
   "source": [
    "# Load pretrained EfficientNetB1 Base Bodel\n",
    "base_model = K.applications.EfficientNetB1(\n",
    "    include_top=False,\n",
    "    weights='imagenet',\n",
    "    input_tensor=resize,\n",
    "    input_shape=(240, 240, 3)\n",
    ")\n",
    "base_model.trainable = False\n",
    "\n",
    "# Add output layer\n",
    "\"\"\"\n",
    "Since we set include_top=False when we loaded our base model, our output shape\n",
    "    is (None, 7, 7, 1280) in it's current state. We need to reduce this to a \n",
    "    10 row softmax to evaluate the baseline conditions of our model\n",
    "\n",
    "K.layers.GlobalAveragePooling2D() operates on the height and width dimensions\n",
    "    to return an array shape (None, 1280)\n",
    "\n",
    "Last, we need to do the softmax to get shape (None, 10)\n",
    "\n",
    "After we've determined baseline of our pretrained model, we'll add layers before\n",
    "the GlobalAveragePooling2D layer to further train our model.\n",
    "\"\"\"\n",
    "out = base_model.output\n",
    "out = K.layers.GlobalAveragePooling2D()(out)\n",
    "out = K.layers.Dense(10, activation='softmax')(out)\n",
    "\n",
    "# Compile Model\n",
    "model = K.models.Model(inputs=inputs, outputs=out)\n",
    "\n",
    "model.compile(optimizer=optimizer,\n",
    "              loss='categorical_crossentropy',\n",
    "              metrics=['accuracy'])\n",
    "\n",
    "# Train Model\n",
    "model.fit(x=x_train_p,\n",
    "          y=y_train_p,\n",
    "          batch_size=200,\n",
    "          epochs=5,\n",
    "          validation_data=(x_valid_p, y_valid_p))"
   ]
  },
  {
   "cell_type": "code",
   "execution_count": null,
   "metadata": {},
   "outputs": [],
   "source": [
    "# Save Model\n",
    "model.save('cifar10.h5')"
   ]
  },
  {
   "cell_type": "code",
   "execution_count": 8,
   "metadata": {},
   "outputs": [
    {
     "name": "stdout",
     "output_type": "stream",
     "text": [
      "313/313 [==============================] - 286s 900ms/step - loss: 0.4941 - accuracy: 0.8334\n"
     ]
    },
    {
     "data": {
      "text/plain": [
       "[0.4941279888153076, 0.8334000110626221]"
      ]
     },
     "execution_count": 8,
     "metadata": {},
     "output_type": "execute_result"
    }
   ],
   "source": [
    "# Load saved model and evaluate\n",
    "load_model = K.models.load_model('cifar10.h5')\n",
    "load_model.evaluate(x_valid_p, y_valid_p, verbose=1)"
   ]
  }
 ],
 "metadata": {
  "kernelspec": {
   "display_name": "Python 3",
   "language": "python",
   "name": "python3"
  },
  "language_info": {
   "codemirror_mode": {
    "name": "ipython",
    "version": 3
   },
   "file_extension": ".py",
   "mimetype": "text/x-python",
   "name": "python",
   "nbconvert_exporter": "python",
   "pygments_lexer": "ipython3",
   "version": "3.8.10"
  },
  "orig_nbformat": 4
 },
 "nbformat": 4,
 "nbformat_minor": 2
}
