{
 "cells": [
  {
   "cell_type": "code",
   "execution_count": 25,
   "metadata": {},
   "outputs": [],
   "source": [
    "# Imports\n",
    "import numpy as np\n",
    "import tensorflow.compat.v1 as tf\n",
    "import tensorflow.compat.v1.keras as K\n",
    "tf.compat.v1.disable_eager_execution()\n",
    "tf.disable_v2_behavior()"
   ]
  },
  {
   "cell_type": "code",
   "execution_count": 2,
   "metadata": {},
   "outputs": [],
   "source": [
    "# 0. Sequential\n",
    "\"\"\"\n",
    "Write a function that builds a neural network with the Keras library\n",
    "Use Sequential model since that's in the task name\n",
    "\"\"\"\n",
    "def build_model_0(nx, layers, activations, lambtha, keep_prob):\n",
    "    \"\"\"\n",
    "    nx: number of input features to the network\n",
    "    layers: list containing the number of nodes in each layer of the network\n",
    "    activations: list containing the activation functions for each layer\n",
    "    lambtha: L2 regularization parameter\n",
    "    keep_prob: probability that a node will be kept for dropout\n",
    "\n",
    "    Not allowed to use `Input` class\n",
    "    Returns the keras model\n",
    "    \"\"\"\n",
    "    model = K.Sequential()\n",
    "    # Create our input layer\n",
    "    model.add(K.layers.InputLayer(input_shape=(nx,)))\n",
    "    # Create all of our hidden layers\n",
    "    for layer in range(len(layers)):\n",
    "        model.add(K.layers.Dense(units=layers[layer],\n",
    "                                 activation=activations[layer],\n",
    "                                 kernel_regularizer=K.regularizers.l2(lambtha)\n",
    "                                 ))\n",
    "        # Handle dropout on hidden layers\n",
    "        if layer < len(layers) - 1:\n",
    "            model.add(K.layers.Dropout(1 - keep_prob))\n",
    "    return model"
   ]
  },
  {
   "cell_type": "code",
   "execution_count": 3,
   "metadata": {},
   "outputs": [
    {
     "name": "stdout",
     "output_type": "stream",
     "text": [
      "Model: \"sequential\"\n",
      "_________________________________________________________________\n",
      " Layer (type)                Output Shape              Param #   \n",
      "=================================================================\n",
      " dense (Dense)               (None, 256)               200960    \n",
      "                                                                 \n",
      " dropout (Dropout)           (None, 256)               0         \n",
      "                                                                 \n",
      " dense_1 (Dense)             (None, 256)               65792     \n",
      "                                                                 \n",
      " dropout_1 (Dropout)         (None, 256)               0         \n",
      "                                                                 \n",
      " dense_2 (Dense)             (None, 10)                2570      \n",
      "                                                                 \n",
      "=================================================================\n",
      "Total params: 269,322\n",
      "Trainable params: 269,322\n",
      "Non-trainable params: 0\n",
      "_________________________________________________________________\n",
      "[<tf.Tensor 'dense/kernel/Regularizer/mul:0' shape=() dtype=float32>, <tf.Tensor 'dense_1/kernel/Regularizer/mul:0' shape=() dtype=float32>, <tf.Tensor 'dense_2/kernel/Regularizer/mul:0' shape=() dtype=float32>]\n"
     ]
    }
   ],
   "source": [
    "# 0-main\n",
    "network = build_model_0(784, [256, 256, 10], ['tanh', 'tanh', 'softmax'], 0.001, 0.95)\n",
    "network.summary()\n",
    "print(network.losses)"
   ]
  },
  {
   "cell_type": "code",
   "execution_count": 4,
   "metadata": {},
   "outputs": [],
   "source": [
    "# 0. Sequential | Attempt 2\n",
    "\"\"\"\n",
    "Write a function that builds a neural network with the Keras library\n",
    "Use Sequential model since that's in the task name\n",
    "\"\"\"\n",
    "def build_model_1(nx, layers, activations, lambtha, keep_prob):\n",
    "    \"\"\"\n",
    "    nx: number of input features to the network\n",
    "    layers: list containing the number of nodes in each layer of the network\n",
    "    activations: list containing the activation functions for each layer\n",
    "    lambtha: L2 regularization parameter\n",
    "    keep_prob: probability that a node will be kept for dropout\n",
    "\n",
    "    Not allowed to use `Input` class\n",
    "    Returns the keras model\n",
    "    \"\"\"\n",
    "    model = K.Sequential()\n",
    "    # Create our input layer\n",
    "    model.add(K.layers.Dense(units=layers[0],\n",
    "                             activation = activations[0],\n",
    "                             kernel_regularizer=K.regularizers.l2(lambtha),\n",
    "                             input_shape=(nx,)))\n",
    "    # Create all of our hidden layers\n",
    "    for layer in range(1, len(layers)):\n",
    "        if layer <= len(layers) - 1:\n",
    "            model.add(K.layers.Dropout(1 - keep_prob))\n",
    "        model.add(K.layers.Dense(units=layers[layer],\n",
    "                                 activation=activations[layer],\n",
    "                                 kernel_regularizer=K.regularizers.l2(lambtha)\n",
    "                                 ))\n",
    "        # Handle dropout on hidden layers\n",
    "    return model"
   ]
  },
  {
   "cell_type": "code",
   "execution_count": 5,
   "metadata": {},
   "outputs": [
    {
     "name": "stdout",
     "output_type": "stream",
     "text": [
      "Model: \"sequential_1\"\n",
      "_________________________________________________________________\n",
      " Layer (type)                Output Shape              Param #   \n",
      "=================================================================\n",
      " dense_3 (Dense)             (None, 256)               200960    \n",
      "                                                                 \n",
      " dropout_2 (Dropout)         (None, 256)               0         \n",
      "                                                                 \n",
      " dense_4 (Dense)             (None, 256)               65792     \n",
      "                                                                 \n",
      " dropout_3 (Dropout)         (None, 256)               0         \n",
      "                                                                 \n",
      " dense_5 (Dense)             (None, 10)                2570      \n",
      "                                                                 \n",
      "=================================================================\n",
      "Total params: 269,322\n",
      "Trainable params: 269,322\n",
      "Non-trainable params: 0\n",
      "_________________________________________________________________\n",
      "[<tf.Tensor 'dense_3/kernel/Regularizer/mul:0' shape=() dtype=float32>, <tf.Tensor 'dense_4/kernel/Regularizer/mul:0' shape=() dtype=float32>, <tf.Tensor 'dense_5/kernel/Regularizer/mul:0' shape=() dtype=float32>]\n"
     ]
    }
   ],
   "source": [
    "# 0-main | Attempt 2\n",
    "network = build_model_1(784, [256, 256, 10], ['tanh', 'tanh', 'softmax'], 0.001, 0.95)\n",
    "network.summary()\n",
    "print(network.losses)"
   ]
  },
  {
   "cell_type": "code",
   "execution_count": 6,
   "metadata": {},
   "outputs": [],
   "source": [
    "# Task 1. Input\n",
    "\"\"\"\n",
    "Write a function that builds a neural network with the Keras library\n",
    "\"\"\"\n",
    "def build_model(nx, layers, activations, lambtha, keep_prob):\n",
    "    \"\"\"\n",
    "    nx: number of input features to the network\n",
    "    layers: list containing the number of nodes in each layer of the network\n",
    "    activations: list containing the activation functions for each layer\n",
    "    lambtha: L2 regularization parameter\n",
    "    keep_prob: probability that a node will be kept for dropout\n",
    "\n",
    "    Not allowed to use `Sequential` class\n",
    "    Returns the keras model\n",
    "    \"\"\"\n",
    "    inputs = K.Input(shape=(nx,))\n",
    "    x = K.layers.Dense(units=layers[0],\n",
    "                       activation=activations[0],\n",
    "                       kernel_regularizer=K.regularizers.l2(lambtha)\n",
    "                       )(inputs)\n",
    "    for layer in range(1, len(layers)):\n",
    "        dropout_layer = K.layers.Dropout(1 - keep_prob)(x)\n",
    "        x = K.layers.Dense(units=layers[layer],\n",
    "                           activation=activations[layer],\n",
    "                           kernel_regularizer=K.regularizers.l2(lambtha)\n",
    "                           )(dropout_layer)\n",
    "\n",
    "    model = K.Model(inputs=inputs, outputs=x)\n",
    "    return model\n",
    "\n"
   ]
  },
  {
   "cell_type": "code",
   "execution_count": 7,
   "metadata": {},
   "outputs": [
    {
     "name": "stdout",
     "output_type": "stream",
     "text": [
      "Model: \"model\"\n",
      "_________________________________________________________________\n",
      " Layer (type)                Output Shape              Param #   \n",
      "=================================================================\n",
      " input_2 (InputLayer)        [(None, 200)]             0         \n",
      "                                                                 \n",
      " dense_6 (Dense)             (None, 10)                2010      \n",
      "                                                                 \n",
      "=================================================================\n",
      "Total params: 2,010\n",
      "Trainable params: 2,010\n",
      "Non-trainable params: 0\n",
      "_________________________________________________________________\n"
     ]
    }
   ],
   "source": [
    "# 1-main\n",
    "model = build_model(200, [10], ['tanh'], 0.01, 0.6)\n",
    "model.summary()"
   ]
  },
  {
   "cell_type": "code",
   "execution_count": 8,
   "metadata": {},
   "outputs": [],
   "source": [
    "# 2. Optimize\n",
    "\"\"\"\n",
    "Write a function that sets up Adam optimization for a keras model with\n",
    "categorical crossentropy loss and accuracy metrics\n",
    "\"\"\"\n",
    "def optimize_model(network, alpha, beta1, beta2):\n",
    "    \"\"\"\n",
    "    network: the model to optimize\n",
    "    alpha: learning rate\n",
    "    beta1: the first Adam optimization parameter\n",
    "    beta2: second Adam optimization parameter\n",
    "    Returns none\n",
    "    \"\"\"\n",
    "\n",
    "    Adam_opt = K.optimizers.Adam(lr=alpha,\n",
    "                                 beta_1=beta1,\n",
    "                                 beta_2=beta2)\n",
    "    network.compile(optimizer=Adam_opt,\n",
    "                    metrics=['accuracy'],\n",
    "                    loss=\"categorical_crossentropy\")\n",
    "    return None"
   ]
  },
  {
   "cell_type": "code",
   "execution_count": 9,
   "metadata": {},
   "outputs": [],
   "source": [
    "# 2-main\n",
    "# model = build_model(784, [256, 256, 10], ['tanh', 'tanh', 'softmax'], 0.001, 0.95)\n",
    "# optimize_model(model, 0.01, 0.99, 0.9)\n",
    "# print(model.loss)\n",
    "# print(model.metrics)\n",
    "# opt = model.optimizer\n",
    "# print(opt.__class__)\n",
    "# with tf.Session() as sess:\n",
    "#     sess.run(tf.global_variables_initializer())\n",
    "#     print(sess.run((opt.lr, opt.beta_1, opt.beta_2))) "
   ]
  },
  {
   "cell_type": "code",
   "execution_count": 10,
   "metadata": {},
   "outputs": [],
   "source": [
    "# 3. One Hot\n",
    "\"\"\"\n",
    "Runction that converts a label vector into a one-hot matrix\n",
    "\"\"\"\n",
    "def one_hot(labels, classes=None):\n",
    "    \"\"\"\n",
    "    labels: labels for dat\n",
    "    \"\"\"\n",
    "    return K.utils.to_categorical(labels, classes)\n"
   ]
  },
  {
   "cell_type": "code",
   "execution_count": 11,
   "metadata": {},
   "outputs": [
    {
     "name": "stdout",
     "output_type": "stream",
     "text": [
      "[5 0 4 1 9 2 1 3 1 4]\n",
      "[[0. 0. 0. 0. 0. 1. 0. 0. 0. 0.]\n",
      " [1. 0. 0. 0. 0. 0. 0. 0. 0. 0.]\n",
      " [0. 0. 0. 0. 1. 0. 0. 0. 0. 0.]\n",
      " [0. 1. 0. 0. 0. 0. 0. 0. 0. 0.]\n",
      " [0. 0. 0. 0. 0. 0. 0. 0. 0. 1.]\n",
      " [0. 0. 1. 0. 0. 0. 0. 0. 0. 0.]\n",
      " [0. 1. 0. 0. 0. 0. 0. 0. 0. 0.]\n",
      " [0. 0. 0. 1. 0. 0. 0. 0. 0. 0.]\n",
      " [0. 1. 0. 0. 0. 0. 0. 0. 0. 0.]\n",
      " [0. 0. 0. 0. 1. 0. 0. 0. 0. 0.]]\n"
     ]
    }
   ],
   "source": [
    "# 3-main\n",
    "labels = np.load('../data/MNIST.npz')['Y_train'][:10]\n",
    "print(labels)\n",
    "print(one_hot(labels))   "
   ]
  },
  {
   "cell_type": "code",
   "execution_count": 12,
   "metadata": {},
   "outputs": [],
   "source": [
    "# Task 4. Train\n",
    "\"\"\"\n",
    "Write a function that trains a model using mini-batch gradient descent\n",
    "\"\"\"\n",
    "def train_model_4(network, data, labels, batch_size,\n",
    "                epochs, verbose=True, shuffle=False):\n",
    "    \"\"\"\n",
    "    network: model to train\n",
    "    data: numpy.ndarray of shape (m, nx) containing the input data\n",
    "        m: number of data points\n",
    "        nx: number of features\n",
    "    labels: one-hot numpy.ndarray of shape (m, classes) with the data labels\n",
    "        m: number of data points\n",
    "        classes: number of classes\n",
    "    batch_size: size of the batch used for mini-batch gradient descent\n",
    "    epochs: number of passes through data for mini-batch gradient descent\n",
    "    verbose: boolean that determines if the output should be printed during\n",
    "        training\n",
    "    shuffle: boolean that determines whether to shuffle the batches every\n",
    "        epoch. Normally, it is a good idea to shuffle, but for reproducibility\n",
    "        we have chosen to set the default to False\n",
    "    Returns: the History object generated after training the model\n",
    "    \"\"\"\n",
    "    return network.fit(x=data,\n",
    "                       y=labels,\n",
    "                       batch_size=batch_size,\n",
    "                       epochs=epochs,\n",
    "                       verbose=verbose,\n",
    "                       shuffle=shuffle,\n",
    "                       )"
   ]
  },
  {
   "cell_type": "code",
   "execution_count": 13,
   "metadata": {},
   "outputs": [
    {
     "name": "stderr",
     "output_type": "stream",
     "text": [
      "2023-03-06 10:11:50.119036: I tensorflow/core/platform/cpu_feature_guard.cc:193] This TensorFlow binary is optimized with oneAPI Deep Neural Network Library (oneDNN) to use the following CPU instructions in performance-critical operations:  AVX2 AVX512F AVX512_VNNI FMA\n",
      "To enable them in other operations, rebuild TensorFlow with the appropriate compiler flags.\n",
      "2023-03-06 10:11:50.122116: W tensorflow/compiler/xla/stream_executor/platform/default/dso_loader.cc:64] Could not load dynamic library 'libcuda.so.1'; dlerror: libcuda.so.1: cannot open shared object file: No such file or directory\n",
      "2023-03-06 10:11:50.122191: W tensorflow/compiler/xla/stream_executor/cuda/cuda_driver.cc:265] failed call to cuInit: UNKNOWN ERROR (303)\n",
      "2023-03-06 10:11:50.122225: I tensorflow/compiler/xla/stream_executor/cuda/cuda_diagnostics.cc:156] kernel driver does not appear to be running on this host (BensLaptop): /proc/driver/nvidia/version does not exist\n"
     ]
    },
    {
     "name": "stdout",
     "output_type": "stream",
     "text": [
      "WARNING:tensorflow:From /tmp/ipykernel_431/3525871577.py:16: The name tf.keras.backend.set_session is deprecated. Please use tf.compat.v1.keras.backend.set_session instead.\n",
      "\n"
     ]
    },
    {
     "name": "stderr",
     "output_type": "stream",
     "text": [
      "/home/bsbanotto/.local/lib/python3.8/site-packages/keras/optimizers/optimizer_v2/adam.py:117: UserWarning: The `lr` argument is deprecated, use `learning_rate` instead.\n",
      "  super().__init__(name, **kwargs)\n"
     ]
    },
    {
     "name": "stdout",
     "output_type": "stream",
     "text": [
      "Train on 50000 samples\n",
      "Epoch 1/5\n"
     ]
    },
    {
     "name": "stderr",
     "output_type": "stream",
     "text": [
      "2023-03-06 10:11:51.095962: I tensorflow/compiler/mlir/mlir_graph_optimization_pass.cc:357] MLIR V1 optimization pass is not enabled\n",
      "2023-03-06 10:11:51.208140: W tensorflow/c/c_api.cc:291] Operation '{name:'training/Adam/dense_9/bias/m/Assign' id:640 op device:{requested: '', assigned: ''} def:{{{node training/Adam/dense_9/bias/m/Assign}} = AssignVariableOp[_has_manual_control_dependencies=true, dtype=DT_FLOAT, validate_shape=false](training/Adam/dense_9/bias/m, training/Adam/dense_9/bias/m/Initializer/zeros)}}' was changed by setting attribute after it was run by a session. This mutation will have no effect, and will trigger an error in the future. Either don't modify nodes after running them or create a new session.\n"
     ]
    },
    {
     "name": "stdout",
     "output_type": "stream",
     "text": [
      "50000/50000 [==============================] - 4s 74us/sample - loss: 0.3311 - acc: 0.9192\n",
      "Epoch 2/5\n",
      "50000/50000 [==============================] - 3s 70us/sample - loss: 0.1777 - acc: 0.9647\n",
      "Epoch 3/5\n",
      "50000/50000 [==============================] - 3s 70us/sample - loss: 0.1444 - acc: 0.9745\n",
      "Epoch 4/5\n",
      "50000/50000 [==============================] - 4s 74us/sample - loss: 0.1272 - acc: 0.9798\n",
      "Epoch 5/5\n",
      "50000/50000 [==============================] - 3s 69us/sample - loss: 0.1162 - acc: 0.9832\n"
     ]
    },
    {
     "data": {
      "text/plain": [
       "<keras.callbacks.History at 0x7f7b3a919cd0>"
      ]
     },
     "execution_count": 13,
     "metadata": {},
     "output_type": "execute_result"
    }
   ],
   "source": [
    "# 4-main\n",
    "# Force Seed - fix for Keras\n",
    "SEED = 0\n",
    "\n",
    "import os\n",
    "os.environ['PYTHONHASHSEED'] = str(SEED)\n",
    "import random\n",
    "random.seed(SEED)\n",
    "import numpy as np\n",
    "np.random.seed(SEED)\n",
    "# import tensorflow as tf\n",
    "tf.set_random_seed(SEED)\n",
    "# import tensorflow.keras as K\n",
    "session_conf = tf.ConfigProto(intra_op_parallelism_threads=1, inter_op_parallelism_threads=1)\n",
    "sess = tf.Session(graph=tf.get_default_graph(), config=session_conf)\n",
    "K.backend.set_session(sess)\n",
    "\n",
    "datasets = np.load('../data/MNIST.npz')\n",
    "X_train = datasets['X_train']\n",
    "X_train = X_train.reshape(X_train.shape[0], -1)\n",
    "Y_train = datasets['Y_train']\n",
    "Y_train_oh = one_hot(Y_train)\n",
    "\n",
    "lambtha = 0.0001\n",
    "keep_prob = 0.95\n",
    "network = build_model(784, [256, 256, 10], ['relu', 'relu', 'softmax'], lambtha, keep_prob)\n",
    "alpha = 0.001\n",
    "beta1 = 0.9\n",
    "beta2 = 0.999\n",
    "optimize_model(network, alpha, beta1, beta2)\n",
    "batch_size = 64\n",
    "epochs = 5\n",
    "train_model_4(network, X_train, Y_train_oh, batch_size, epochs)"
   ]
  },
  {
   "cell_type": "code",
   "execution_count": 17,
   "metadata": {},
   "outputs": [],
   "source": [
    "# Task 5. Validate\n",
    "\"\"\"\n",
    "Based on 4. Train, update the function def train_model to also analyze\n",
    "validation data\n",
    "\"\"\"\n",
    "def train_model_5(network, data, labels, batch_size, epochs,\n",
    "                  validation_data=None, verbose=True, shuffle=False):\n",
    "    \"\"\"\n",
    "    validation_data: the data to validate the model with, if not `None`\n",
    "    network: model to train\n",
    "    data: numpy.ndarray of shape (m, nx) containing the input data\n",
    "        m: number of data points\n",
    "        nx: number of features\n",
    "    labels: one-hot numpy.ndarray of shape (m, classes) with the data labels\n",
    "        m: number of data points\n",
    "        classes: number of classes\n",
    "    batch_size: size of the batch used for mini-batch gradient descent\n",
    "    epochs: number of passes through data for mini-batch gradient descent\n",
    "    verbose: boolean that determines if the output should be printed during\n",
    "        training\n",
    "    shuffle: boolean that determines whether to shuffle the batches every\n",
    "        epoch. Normally, it is a good idea to shuffle, but for reproducibility\n",
    "        we have chosen to set the default to False\n",
    "    Returns: the History object generated after training the model\n",
    "    \"\"\"\n",
    "    return network.fit(x=data,\n",
    "                       y=labels,\n",
    "                       batch_size=batch_size,\n",
    "                       epochs=epochs,\n",
    "                       verbose=verbose,\n",
    "                       shuffle=shuffle,\n",
    "                       validation_data=validation_data\n",
    "                       )"
   ]
  },
  {
   "cell_type": "code",
   "execution_count": 20,
   "metadata": {},
   "outputs": [
    {
     "name": "stderr",
     "output_type": "stream",
     "text": [
      "/home/bsbanotto/.local/lib/python3.8/site-packages/keras/optimizers/optimizer_v2/adam.py:117: UserWarning: The `lr` argument is deprecated, use `learning_rate` instead.\n",
      "  super().__init__(name, **kwargs)\n"
     ]
    },
    {
     "name": "stdout",
     "output_type": "stream",
     "text": [
      "Train on 50000 samples, validate on 10000 samples\n",
      "Epoch 1/5\n",
      "   64/50000 [..............................] - ETA: 1:19 - loss: 2.3745 - acc: 0.0312"
     ]
    },
    {
     "name": "stderr",
     "output_type": "stream",
     "text": [
      "2023-03-06 10:17:28.411532: W tensorflow/c/c_api.cc:291] Operation '{name:'training_2/Adam/dense_11/kernel/v/Assign' id:1182 op device:{requested: '', assigned: ''} def:{{{node training_2/Adam/dense_11/kernel/v/Assign}} = AssignVariableOp[_has_manual_control_dependencies=true, dtype=DT_FLOAT, validate_shape=false](training_2/Adam/dense_11/kernel/v, training_2/Adam/dense_11/kernel/v/Initializer/zeros)}}' was changed by setting attribute after it was run by a session. This mutation will have no effect, and will trigger an error in the future. Either don't modify nodes after running them or create a new session.\n"
     ]
    },
    {
     "name": "stdout",
     "output_type": "stream",
     "text": [
      "49536/50000 [============================>.] - ETA: 0s - loss: 0.3280 - acc: 0.9198"
     ]
    },
    {
     "name": "stderr",
     "output_type": "stream",
     "text": [
      "/home/bsbanotto/.local/lib/python3.8/site-packages/keras/engine/training_v1.py:2333: UserWarning: `Model.state_updates` will be removed in a future version. This property should not be used in TensorFlow 2.0, as `updates` are applied automatically.\n",
      "  updates = self.state_updates\n",
      "2023-03-06 10:17:32.384228: W tensorflow/c/c_api.cc:291] Operation '{name:'loss_1/AddN_1' id:962 op device:{requested: '', assigned: ''} def:{{{node loss_1/AddN_1}} = AddN[N=2, T=DT_FLOAT, _has_manual_control_dependencies=true](loss_1/mul, loss_1/AddN)}}' was changed by setting attribute after it was run by a session. This mutation will have no effect, and will trigger an error in the future. Either don't modify nodes after running them or create a new session.\n"
     ]
    },
    {
     "name": "stdout",
     "output_type": "stream",
     "text": [
      "50000/50000 [==============================] - 4s 85us/sample - loss: 0.3278 - acc: 0.9200 - val_loss: 0.1940 - val_acc: 0.9590\n",
      "Epoch 2/5\n",
      "50000/50000 [==============================] - 4s 80us/sample - loss: 0.1742 - acc: 0.9650 - val_loss: 0.1695 - val_acc: 0.9667\n",
      "Epoch 3/5\n",
      "50000/50000 [==============================] - 4s 72us/sample - loss: 0.1420 - acc: 0.9751 - val_loss: 0.1723 - val_acc: 0.9649\n",
      "Epoch 4/5\n",
      "50000/50000 [==============================] - 4s 72us/sample - loss: 0.1242 - acc: 0.9808 - val_loss: 0.1488 - val_acc: 0.9732\n",
      "Epoch 5/5\n",
      "50000/50000 [==============================] - 4s 74us/sample - loss: 0.1155 - acc: 0.9835 - val_loss: 0.1507 - val_acc: 0.9732\n"
     ]
    },
    {
     "data": {
      "text/plain": [
       "<keras.callbacks.History at 0x7f7b388f6730>"
      ]
     },
     "execution_count": 20,
     "metadata": {},
     "output_type": "execute_result"
    }
   ],
   "source": [
    "# 5-main\n",
    "# Force Seed - fix for Keras\n",
    "SEED = 0\n",
    "\n",
    "import os\n",
    "os.environ['PYTHONHASHSEED'] = str(SEED)\n",
    "import random\n",
    "random.seed(SEED)\n",
    "import numpy as np\n",
    "np.random.seed(SEED)\n",
    "# import tensorflow as tf\n",
    "tf.set_random_seed(SEED)\n",
    "# import tensorflow.keras as K\n",
    "session_conf = tf.ConfigProto(intra_op_parallelism_threads=1, inter_op_parallelism_threads=1)\n",
    "sess = tf.Session(graph=tf.get_default_graph(), config=session_conf)\n",
    "K.backend.set_session(sess)\n",
    "\n",
    "\n",
    "datasets = np.load('../data/MNIST.npz')\n",
    "X_train = datasets['X_train']\n",
    "X_train = X_train.reshape(X_train.shape[0], -1)\n",
    "Y_train = datasets['Y_train']\n",
    "Y_train_oh = one_hot(Y_train)\n",
    "X_valid = datasets['X_valid']\n",
    "X_valid = X_valid.reshape(X_valid.shape[0], -1)\n",
    "Y_valid = datasets['Y_valid']\n",
    "Y_valid_oh = one_hot(Y_valid)\n",
    "\n",
    "lambtha = 0.0001\n",
    "keep_prob = 0.95\n",
    "network = build_model(784, [256, 256, 10], ['relu', 'relu', 'softmax'], lambtha, keep_prob)\n",
    "alpha = 0.001\n",
    "beta1 = 0.9\n",
    "beta2 = 0.999\n",
    "optimize_model(network, alpha, beta1, beta2)\n",
    "batch_size = 64\n",
    "epochs = 5\n",
    "train_model_5(network, X_train, Y_train_oh, batch_size, epochs, validation_data=(X_valid, Y_valid_oh))"
   ]
  },
  {
   "cell_type": "code",
   "execution_count": 30,
   "metadata": {},
   "outputs": [],
   "source": [
    "# Task 6. Early Stopping\n",
    "\"\"\"\n",
    "Based on 5. Validate, update the function def train_model to also train the\n",
    "model using early stoping\n",
    "\"\"\"\n",
    "def train_model_6(network, data, labels, batch_size, epochs,\n",
    "                  validation_data=None, early_stopping=False, patience=0,\n",
    "                  verbose=True, shuffle=False):\n",
    "    \"\"\"\n",
    "    early_stopping: boolean that indicates whether or not to stop early\n",
    "        early stopping should only be performed if `validation_data` exists\n",
    "        early stopping should be based on validation loss\n",
    "    patience: patience used for early stopping\n",
    "    validation_data: the data to validate the model with, if not `None`\n",
    "    network: model to train\n",
    "    data: numpy.ndarray of shape (m, nx) containing the input data\n",
    "        m: number of data points\n",
    "        nx: number of features\n",
    "    labels: one-hot numpy.ndarray of shape (m, classes) with the data labels\n",
    "        m: number of data points\n",
    "        classes: number of classes\n",
    "    batch_size: size of the batch used for mini-batch gradient descent\n",
    "    epochs: number of passes through data for mini-batch gradient descent\n",
    "    verbose: boolean that determines if the output should be printed during\n",
    "        training\n",
    "    shuffle: boolean that determines whether to shuffle the batches every\n",
    "        epoch. Normally, it is a good idea to shuffle, but for reproducibility\n",
    "        we have chosen to set the default to False\n",
    "    Returns: the History object generated after training the model\n",
    "    \"\"\"\n",
    "    if validation_data is not None and early_stopping:\n",
    "        \"\"\"Create earlystop callback\"\"\"\n",
    "        earlystopping = K.callbacks.EarlyStopping(monitor=\"val_loss\",\n",
    "                                                  patience=patience)\n",
    "        return network.fit(x=data,\n",
    "                           y=labels,\n",
    "                           batch_size=batch_size,\n",
    "                           epochs=epochs,\n",
    "                           verbose=verbose,\n",
    "                           shuffle=shuffle,\n",
    "                           validation_data=validation_data,\n",
    "                           callbacks=[earlystopping]\n",
    "                           )\n",
    "    else:\n",
    "        return network.fit(x=data,\n",
    "                           y=labels,\n",
    "                           batch_size=batch_size,\n",
    "                           epochs=epochs,\n",
    "                           verbose=verbose,\n",
    "                           shuffle=shuffle,\n",
    "                           validation_data=validation_data,\n",
    "                           )\n"
   ]
  },
  {
   "cell_type": "code",
   "execution_count": 31,
   "metadata": {},
   "outputs": [
    {
     "name": "stdout",
     "output_type": "stream",
     "text": [
      "Train on 50000 samples, validate on 10000 samples\n"
     ]
    },
    {
     "name": "stderr",
     "output_type": "stream",
     "text": [
      "/home/bsbanotto/.local/lib/python3.8/site-packages/keras/optimizers/optimizer_v2/adam.py:117: UserWarning: The `lr` argument is deprecated, use `learning_rate` instead.\n",
      "  super().__init__(name, **kwargs)\n"
     ]
    },
    {
     "name": "stdout",
     "output_type": "stream",
     "text": [
      "Epoch 1/30\n",
      "   64/50000 [..............................] - ETA: 1:10 - loss: 2.3817 - acc: 0.1406"
     ]
    },
    {
     "name": "stderr",
     "output_type": "stream",
     "text": [
      "2023-03-06 10:57:57.057935: W tensorflow/c/c_api.cc:291] Operation '{name:'training_8/Adam/dense_22/kernel/v/Assign' id:2906 op device:{requested: '', assigned: ''} def:{{{node training_8/Adam/dense_22/kernel/v/Assign}} = AssignVariableOp[_has_manual_control_dependencies=true, dtype=DT_FLOAT, validate_shape=false](training_8/Adam/dense_22/kernel/v, training_8/Adam/dense_22/kernel/v/Initializer/zeros)}}' was changed by setting attribute after it was run by a session. This mutation will have no effect, and will trigger an error in the future. Either don't modify nodes after running them or create a new session.\n"
     ]
    },
    {
     "name": "stdout",
     "output_type": "stream",
     "text": [
      "49728/50000 [============================>.] - ETA: 0s - loss: 0.3313 - acc: 0.9183"
     ]
    },
    {
     "name": "stderr",
     "output_type": "stream",
     "text": [
      "/home/bsbanotto/.local/lib/python3.8/site-packages/keras/engine/training_v1.py:2333: UserWarning: `Model.state_updates` will be removed in a future version. This property should not be used in TensorFlow 2.0, as `updates` are applied automatically.\n",
      "  updates = self.state_updates\n",
      "2023-03-06 10:58:00.721820: W tensorflow/c/c_api.cc:291] Operation '{name:'loss_5/AddN_1' id:2698 op device:{requested: '', assigned: ''} def:{{{node loss_5/AddN_1}} = AddN[N=2, T=DT_FLOAT, _has_manual_control_dependencies=true](loss_5/mul, loss_5/AddN)}}' was changed by setting attribute after it was run by a session. This mutation will have no effect, and will trigger an error in the future. Either don't modify nodes after running them or create a new session.\n"
     ]
    },
    {
     "name": "stdout",
     "output_type": "stream",
     "text": [
      "50000/50000 [==============================] - 4s 78us/sample - loss: 0.3310 - acc: 0.9184 - val_loss: 0.1920 - val_acc: 0.9605\n",
      "Epoch 2/30\n",
      "50000/50000 [==============================] - 3s 62us/sample - loss: 0.1771 - acc: 0.9648 - val_loss: 0.1534 - val_acc: 0.9721\n",
      "Epoch 3/30\n",
      "50000/50000 [==============================] - 3s 60us/sample - loss: 0.1437 - acc: 0.9755 - val_loss: 0.1478 - val_acc: 0.9724\n",
      "Epoch 4/30\n",
      "50000/50000 [==============================] - 3s 59us/sample - loss: 0.1243 - acc: 0.9813 - val_loss: 0.1553 - val_acc: 0.9731\n",
      "Epoch 5/30\n",
      "50000/50000 [==============================] - 3s 61us/sample - loss: 0.1176 - acc: 0.9827 - val_loss: 0.1597 - val_acc: 0.9721\n",
      "Epoch 6/30\n",
      "50000/50000 [==============================] - 3s 60us/sample - loss: 0.1109 - acc: 0.9848 - val_loss: 0.1480 - val_acc: 0.9761\n"
     ]
    },
    {
     "data": {
      "text/plain": [
       "<keras.callbacks.History at 0x7f7b519dfac0>"
      ]
     },
     "execution_count": 31,
     "metadata": {},
     "output_type": "execute_result"
    }
   ],
   "source": [
    "# 6-main\n",
    "# Force Seed - fix for Keras\n",
    "SEED = 0\n",
    "\n",
    "import os\n",
    "os.environ['PYTHONHASHSEED'] = str(SEED)\n",
    "import random\n",
    "random.seed(SEED)\n",
    "import numpy as np\n",
    "np.random.seed(SEED)\n",
    "# import tensorflow as tf\n",
    "tf.set_random_seed(SEED)\n",
    "# import tensorflow.keras as K\n",
    "session_conf = tf.ConfigProto(intra_op_parallelism_threads=1, inter_op_parallelism_threads=1)\n",
    "sess = tf.Session(graph=tf.get_default_graph(), config=session_conf)\n",
    "K.backend.set_session(sess)\n",
    "\n",
    "\n",
    "datasets = np.load('../data/MNIST.npz')\n",
    "X_train = datasets['X_train']\n",
    "X_train = X_train.reshape(X_train.shape[0], -1)\n",
    "Y_train = datasets['Y_train']\n",
    "Y_train_oh = one_hot(Y_train)\n",
    "X_valid = datasets['X_valid']\n",
    "X_valid = X_valid.reshape(X_valid.shape[0], -1)\n",
    "Y_valid = datasets['Y_valid']\n",
    "Y_valid_oh = one_hot(Y_valid)\n",
    "\n",
    "lambtha = 0.0001\n",
    "keep_prob = 0.95\n",
    "network = build_model(784, [256, 256, 10], ['relu', 'relu', 'softmax'], lambtha, keep_prob)\n",
    "alpha = 0.001\n",
    "beta1 = 0.9\n",
    "beta2 = 0.999\n",
    "optimize_model(network, alpha, beta1, beta2)\n",
    "batch_size = 64\n",
    "epochs = 30\n",
    "train_model_6(network, X_train, Y_train_oh, batch_size, epochs,\n",
    "            validation_data=(X_valid, Y_valid_oh), early_stopping=True,\n",
    "                patience=3)"
   ]
  },
  {
   "cell_type": "code",
   "execution_count": 34,
   "metadata": {},
   "outputs": [],
   "source": [
    "# Task 7. Learning Rate Decay\n",
    "\"\"\"\n",
    "Based on 6. Early Stopping, update the function def train_model to also train\n",
    "model with learning rate decay\n",
    "\"\"\"\n",
    "def train_model_7(network, data, labels, batch_size, epochs,\n",
    "                  validation_data=None, early_stopping=False, patience=0,\n",
    "                  learning_rate_decay=False, alpha=0.1, decay_rate=1,\n",
    "                  verbose=True, shuffle=False):\n",
    "    \"\"\"\n",
    "    learning_rate_decay: boolean that indicates whether or not learning rate\n",
    "    decay should be used\n",
    "        learning rate decay should only be performed if validation_data exists\n",
    "        the decay should be performed using inverse time decay\n",
    "        the learning rate should decay in a stepwise fashion after each epoch\n",
    "        each time the learning rate updates, Keras should print a message\n",
    "    early_stopping: boolean that indicates whether or not to stop early\n",
    "        early stopping should only be performed if `validation_data` exists\n",
    "        early stopping should be based on validation loss\n",
    "    patience: patience used for early stopping\n",
    "    validation_data: the data to validate the model with, if not `None`\n",
    "    network: model to train\n",
    "    data: numpy.ndarray of shape (m, nx) containing the input data\n",
    "        m: number of data points\n",
    "        nx: number of features\n",
    "    labels: one-hot numpy.ndarray of shape (m, classes) with the data labels\n",
    "        m: number of data points\n",
    "        classes: number of classes\n",
    "    batch_size: size of the batch used for mini-batch gradient descent\n",
    "    epochs: number of passes through data for mini-batch gradient descent\n",
    "    verbose: boolean that determines if the output should be printed during\n",
    "        training\n",
    "    shuffle: boolean that determines whether to shuffle the batches every\n",
    "        epoch. Normally, it is a good idea to shuffle, but for reproducibility\n",
    "        we have chosen to set the default to False\n",
    "    Returns: the History object generated after training the model\n",
    "    \"\"\"\n",
    "    if validation_data is not None:\n",
    "        earlystopping = early_stopping\n",
    "        learningratedecay = learning_rate_decay\n",
    "        if earlystopping:\n",
    "            \"\"\"Create earlystop callback\"\"\"\n",
    "            earlystopping = K.callbacks.EarlyStopping(monitor=\"val_loss\",\n",
    "                                                      patience=patience)\n",
    "        if learningratedecay:\n",
    "            def scheduler(epoch):\n",
    "                \"\"\"\n",
    "                This function changes the learning rate in a stepwise manner\n",
    "                using inverse time decay\n",
    "                \"\"\"\n",
    "                return alpha / (1 + decay_rate * (epoch))\n",
    "            learningratedecay = K.callbacks.LearningRateScheduler(scheduler,\n",
    "                                                                  verbose)\n",
    "    return network.fit(x=data,\n",
    "                       y=labels,\n",
    "                       batch_size=batch_size,\n",
    "                       epochs=epochs,\n",
    "                       verbose=verbose,\n",
    "                       shuffle=shuffle,\n",
    "                       validation_data=validation_data,\n",
    "                       callbacks=[earlystopping, learningratedecay]\n",
    "                       )\n"
   ]
  },
  {
   "cell_type": "code",
   "execution_count": 35,
   "metadata": {},
   "outputs": [
    {
     "name": "stderr",
     "output_type": "stream",
     "text": [
      "/home/bsbanotto/.local/lib/python3.8/site-packages/keras/optimizers/optimizer_v2/adam.py:117: UserWarning: The `lr` argument is deprecated, use `learning_rate` instead.\n",
      "  super().__init__(name, **kwargs)\n"
     ]
    },
    {
     "name": "stdout",
     "output_type": "stream",
     "text": [
      "Train on 50000 samples, validate on 10000 samples\n"
     ]
    },
    {
     "name": "stderr",
     "output_type": "stream",
     "text": [
      "2023-03-06 11:48:45.220302: W tensorflow/c/c_api.cc:291] Operation '{name:'count_7/Assign' id:3629 op device:{requested: '', assigned: ''} def:{{{node count_7/Assign}} = AssignVariableOp[_has_manual_control_dependencies=true, dtype=DT_FLOAT, validate_shape=false](count_7, count_7/Initializer/zeros)}}' was changed by setting attribute after it was run by a session. This mutation will have no effect, and will trigger an error in the future. Either don't modify nodes after running them or create a new session.\n"
     ]
    },
    {
     "name": "stdout",
     "output_type": "stream",
     "text": [
      "\n",
      "Epoch 1: LearningRateScheduler setting learning rate to 0.001.\n",
      "Epoch 1/1000\n",
      "49792/50000 [============================>.] - ETA: 0s - loss: 0.3276 - acc: 0.9203"
     ]
    },
    {
     "name": "stderr",
     "output_type": "stream",
     "text": [
      "/home/bsbanotto/.local/lib/python3.8/site-packages/keras/engine/training_v1.py:2333: UserWarning: `Model.state_updates` will be removed in a future version. This property should not be used in TensorFlow 2.0, as `updates` are applied automatically.\n",
      "  updates = self.state_updates\n",
      "2023-03-06 11:48:48.855260: W tensorflow/c/c_api.cc:291] Operation '{name:'loss_7/AddN_1' id:3721 op device:{requested: '', assigned: ''} def:{{{node loss_7/AddN_1}} = AddN[N=2, T=DT_FLOAT, _has_manual_control_dependencies=true](loss_7/mul, loss_7/AddN)}}' was changed by setting attribute after it was run by a session. This mutation will have no effect, and will trigger an error in the future. Either don't modify nodes after running them or create a new session.\n"
     ]
    },
    {
     "name": "stdout",
     "output_type": "stream",
     "text": [
      "50000/50000 [==============================] - 4s 74us/sample - loss: 0.3274 - acc: 0.9204 - val_loss: 0.1988 - val_acc: 0.9592 - lr: 0.0010\n",
      "\n",
      "Epoch 2: LearningRateScheduler setting learning rate to 0.0005.\n",
      "Epoch 2/1000\n",
      "50000/50000 [==============================] - 3s 65us/sample - loss: 0.1621 - acc: 0.9690 - val_loss: 0.1507 - val_acc: 0.9726 - lr: 5.0000e-04\n",
      "\n",
      "Epoch 3: LearningRateScheduler setting learning rate to 0.0003333333333333333.\n",
      "Epoch 3/1000\n",
      "50000/50000 [==============================] - 4s 75us/sample - loss: 0.1283 - acc: 0.9789 - val_loss: 0.1394 - val_acc: 0.9753 - lr: 3.3333e-04\n",
      "\n",
      "Epoch 4: LearningRateScheduler setting learning rate to 0.00025.\n",
      "Epoch 4/1000\n",
      "50000/50000 [==============================] - 3s 65us/sample - loss: 0.1110 - acc: 0.9837 - val_loss: 0.1324 - val_acc: 0.9777 - lr: 2.5000e-04\n",
      "\n",
      "Epoch 5: LearningRateScheduler setting learning rate to 0.0002.\n",
      "Epoch 5/1000\n",
      "50000/50000 [==============================] - 3s 61us/sample - loss: 0.0999 - acc: 0.9870 - val_loss: 0.1262 - val_acc: 0.9791 - lr: 2.0000e-04\n",
      "\n",
      "Epoch 6: LearningRateScheduler setting learning rate to 0.00016666666666666666.\n",
      "Epoch 6/1000\n",
      "50000/50000 [==============================] - 3s 60us/sample - loss: 0.0927 - acc: 0.9889 - val_loss: 0.1243 - val_acc: 0.9794 - lr: 1.6667e-04\n",
      "\n",
      "Epoch 7: LearningRateScheduler setting learning rate to 0.00014285714285714287.\n",
      "Epoch 7/1000\n",
      "50000/50000 [==============================] - 3s 62us/sample - loss: 0.0873 - acc: 0.9910 - val_loss: 0.1205 - val_acc: 0.9795 - lr: 1.4286e-04\n",
      "\n",
      "Epoch 8: LearningRateScheduler setting learning rate to 0.000125.\n",
      "Epoch 8/1000\n",
      "50000/50000 [==============================] - 3s 62us/sample - loss: 0.0821 - acc: 0.9923 - val_loss: 0.1190 - val_acc: 0.9801 - lr: 1.2500e-04\n",
      "\n",
      "Epoch 9: LearningRateScheduler setting learning rate to 0.00011111111111111112.\n",
      "Epoch 9/1000\n",
      "50000/50000 [==============================] - 4s 76us/sample - loss: 0.0792 - acc: 0.9931 - val_loss: 0.1185 - val_acc: 0.9806 - lr: 1.1111e-04\n",
      "\n",
      "Epoch 10: LearningRateScheduler setting learning rate to 0.0001.\n",
      "Epoch 10/1000\n",
      "50000/50000 [==============================] - 4s 74us/sample - loss: 0.0761 - acc: 0.9941 - val_loss: 0.1169 - val_acc: 0.9803 - lr: 1.0000e-04\n",
      "\n",
      "Epoch 11: LearningRateScheduler setting learning rate to 9.090909090909092e-05.\n",
      "Epoch 11/1000\n",
      "50000/50000 [==============================] - 4s 82us/sample - loss: 0.0732 - acc: 0.9948 - val_loss: 0.1164 - val_acc: 0.9805 - lr: 9.0909e-05\n",
      "\n",
      "Epoch 12: LearningRateScheduler setting learning rate to 8.333333333333333e-05.\n",
      "Epoch 12/1000\n",
      "50000/50000 [==============================] - 3s 61us/sample - loss: 0.0718 - acc: 0.9947 - val_loss: 0.1155 - val_acc: 0.9806 - lr: 8.3333e-05\n",
      "\n",
      "Epoch 13: LearningRateScheduler setting learning rate to 7.692307692307693e-05.\n",
      "Epoch 13/1000\n",
      "50000/50000 [==============================] - 3s 63us/sample - loss: 0.0701 - acc: 0.9955 - val_loss: 0.1146 - val_acc: 0.9807 - lr: 7.6923e-05\n",
      "\n",
      "Epoch 14: LearningRateScheduler setting learning rate to 7.142857142857143e-05.\n",
      "Epoch 14/1000\n",
      "50000/50000 [==============================] - 3s 60us/sample - loss: 0.0676 - acc: 0.9962 - val_loss: 0.1139 - val_acc: 0.9808 - lr: 7.1429e-05\n",
      "\n",
      "Epoch 15: LearningRateScheduler setting learning rate to 6.666666666666667e-05.\n",
      "Epoch 15/1000\n",
      "50000/50000 [==============================] - 3s 61us/sample - loss: 0.0661 - acc: 0.9963 - val_loss: 0.1129 - val_acc: 0.9812 - lr: 6.6667e-05\n",
      "\n",
      "Epoch 16: LearningRateScheduler setting learning rate to 6.25e-05.\n",
      "Epoch 16/1000\n",
      "50000/50000 [==============================] - 3s 66us/sample - loss: 0.0651 - acc: 0.9965 - val_loss: 0.1120 - val_acc: 0.9814 - lr: 6.2500e-05\n",
      "\n",
      "Epoch 17: LearningRateScheduler setting learning rate to 5.882352941176471e-05.\n",
      "Epoch 17/1000\n",
      "50000/50000 [==============================] - 4s 84us/sample - loss: 0.0642 - acc: 0.9967 - val_loss: 0.1105 - val_acc: 0.9817 - lr: 5.8824e-05\n",
      "\n",
      "Epoch 18: LearningRateScheduler setting learning rate to 5.555555555555556e-05.\n",
      "Epoch 18/1000\n",
      "50000/50000 [==============================] - 3s 61us/sample - loss: 0.0625 - acc: 0.9971 - val_loss: 0.1111 - val_acc: 0.9815 - lr: 5.5556e-05\n",
      "\n",
      "Epoch 19: LearningRateScheduler setting learning rate to 5.2631578947368424e-05.\n",
      "Epoch 19/1000\n",
      "50000/50000 [==============================] - 3s 62us/sample - loss: 0.0619 - acc: 0.9971 - val_loss: 0.1103 - val_acc: 0.9810 - lr: 5.2632e-05\n",
      "\n",
      "Epoch 20: LearningRateScheduler setting learning rate to 5e-05.\n",
      "Epoch 20/1000\n",
      "50000/50000 [==============================] - 3s 62us/sample - loss: 0.0606 - acc: 0.9974 - val_loss: 0.1116 - val_acc: 0.9814 - lr: 5.0000e-05\n",
      "\n",
      "Epoch 21: LearningRateScheduler setting learning rate to 4.761904761904762e-05.\n",
      "Epoch 21/1000\n",
      "50000/50000 [==============================] - 3s 61us/sample - loss: 0.0603 - acc: 0.9974 - val_loss: 0.1096 - val_acc: 0.9817 - lr: 4.7619e-05\n",
      "\n",
      "Epoch 22: LearningRateScheduler setting learning rate to 4.545454545454546e-05.\n",
      "Epoch 22/1000\n",
      "50000/50000 [==============================] - 3s 60us/sample - loss: 0.0594 - acc: 0.9977 - val_loss: 0.1079 - val_acc: 0.9823 - lr: 4.5455e-05\n",
      "\n",
      "Epoch 23: LearningRateScheduler setting learning rate to 4.347826086956522e-05.\n",
      "Epoch 23/1000\n",
      "50000/50000 [==============================] - 3s 61us/sample - loss: 0.0588 - acc: 0.9978 - val_loss: 0.1085 - val_acc: 0.9819 - lr: 4.3478e-05\n",
      "\n",
      "Epoch 24: LearningRateScheduler setting learning rate to 4.1666666666666665e-05.\n",
      "Epoch 24/1000\n",
      "50000/50000 [==============================] - 3s 65us/sample - loss: 0.0578 - acc: 0.9977 - val_loss: 0.1072 - val_acc: 0.9820 - lr: 4.1667e-05\n",
      "\n",
      "Epoch 25: LearningRateScheduler setting learning rate to 4e-05.\n",
      "Epoch 25/1000\n",
      "50000/50000 [==============================] - 3s 66us/sample - loss: 0.0571 - acc: 0.9983 - val_loss: 0.1077 - val_acc: 0.9824 - lr: 4.0000e-05\n",
      "\n",
      "Epoch 26: LearningRateScheduler setting learning rate to 3.846153846153846e-05.\n",
      "Epoch 26/1000\n",
      "50000/50000 [==============================] - 3s 65us/sample - loss: 0.0565 - acc: 0.9980 - val_loss: 0.1077 - val_acc: 0.9823 - lr: 3.8462e-05\n",
      "\n",
      "Epoch 27: LearningRateScheduler setting learning rate to 3.7037037037037037e-05.\n",
      "Epoch 27/1000\n",
      "50000/50000 [==============================] - 3s 63us/sample - loss: 0.0558 - acc: 0.9983 - val_loss: 0.1066 - val_acc: 0.9821 - lr: 3.7037e-05\n",
      "\n",
      "Epoch 28: LearningRateScheduler setting learning rate to 3.571428571428572e-05.\n",
      "Epoch 28/1000\n",
      "50000/50000 [==============================] - 3s 64us/sample - loss: 0.0559 - acc: 0.9980 - val_loss: 0.1065 - val_acc: 0.9816 - lr: 3.5714e-05\n",
      "\n",
      "Epoch 29: LearningRateScheduler setting learning rate to 3.4482758620689657e-05.\n",
      "Epoch 29/1000\n",
      "50000/50000 [==============================] - 3s 61us/sample - loss: 0.0552 - acc: 0.9981 - val_loss: 0.1056 - val_acc: 0.9824 - lr: 3.4483e-05\n",
      "\n",
      "Epoch 30: LearningRateScheduler setting learning rate to 3.3333333333333335e-05.\n",
      "Epoch 30/1000\n",
      "50000/50000 [==============================] - 4s 77us/sample - loss: 0.0547 - acc: 0.9983 - val_loss: 0.1058 - val_acc: 0.9827 - lr: 3.3333e-05\n",
      "\n",
      "Epoch 31: LearningRateScheduler setting learning rate to 3.2258064516129034e-05.\n",
      "Epoch 31/1000\n",
      "50000/50000 [==============================] - 4s 86us/sample - loss: 0.0544 - acc: 0.9981 - val_loss: 0.1054 - val_acc: 0.9819 - lr: 3.2258e-05\n",
      "\n",
      "Epoch 32: LearningRateScheduler setting learning rate to 3.125e-05.\n",
      "Epoch 32/1000\n",
      "50000/50000 [==============================] - 4s 73us/sample - loss: 0.0539 - acc: 0.9985 - val_loss: 0.1054 - val_acc: 0.9824 - lr: 3.1250e-05\n",
      "\n",
      "Epoch 33: LearningRateScheduler setting learning rate to 3.0303030303030302e-05.\n",
      "Epoch 33/1000\n",
      "50000/50000 [==============================] - 4s 87us/sample - loss: 0.0537 - acc: 0.9983 - val_loss: 0.1057 - val_acc: 0.9821 - lr: 3.0303e-05\n",
      "\n",
      "Epoch 34: LearningRateScheduler setting learning rate to 2.9411764705882354e-05.\n",
      "Epoch 34/1000\n",
      "50000/50000 [==============================] - 3s 60us/sample - loss: 0.0532 - acc: 0.9985 - val_loss: 0.1051 - val_acc: 0.9827 - lr: 2.9412e-05\n",
      "\n",
      "Epoch 35: LearningRateScheduler setting learning rate to 2.857142857142857e-05.\n",
      "Epoch 35/1000\n",
      "50000/50000 [==============================] - 3s 60us/sample - loss: 0.0524 - acc: 0.9987 - val_loss: 0.1046 - val_acc: 0.9823 - lr: 2.8571e-05\n",
      "\n",
      "Epoch 36: LearningRateScheduler setting learning rate to 2.777777777777778e-05.\n",
      "Epoch 36/1000\n",
      "50000/50000 [==============================] - 3s 59us/sample - loss: 0.0523 - acc: 0.9987 - val_loss: 0.1058 - val_acc: 0.9825 - lr: 2.7778e-05\n",
      "\n",
      "Epoch 37: LearningRateScheduler setting learning rate to 2.7027027027027027e-05.\n",
      "Epoch 37/1000\n",
      "50000/50000 [==============================] - 3s 59us/sample - loss: 0.0520 - acc: 0.9987 - val_loss: 0.1038 - val_acc: 0.9825 - lr: 2.7027e-05\n",
      "\n",
      "Epoch 38: LearningRateScheduler setting learning rate to 2.6315789473684212e-05.\n",
      "Epoch 38/1000\n",
      "50000/50000 [==============================] - 3s 60us/sample - loss: 0.0523 - acc: 0.9984 - val_loss: 0.1043 - val_acc: 0.9827 - lr: 2.6316e-05\n",
      "\n",
      "Epoch 39: LearningRateScheduler setting learning rate to 2.5641025641025643e-05.\n",
      "Epoch 39/1000\n",
      "50000/50000 [==============================] - 3s 63us/sample - loss: 0.0520 - acc: 0.9984 - val_loss: 0.1035 - val_acc: 0.9818 - lr: 2.5641e-05\n",
      "\n",
      "Epoch 40: LearningRateScheduler setting learning rate to 2.5e-05.\n",
      "Epoch 40/1000\n",
      "50000/50000 [==============================] - 3s 58us/sample - loss: 0.0512 - acc: 0.9989 - val_loss: 0.1027 - val_acc: 0.9825 - lr: 2.5000e-05\n",
      "\n",
      "Epoch 41: LearningRateScheduler setting learning rate to 2.4390243902439026e-05.\n",
      "Epoch 41/1000\n",
      "50000/50000 [==============================] - 3s 59us/sample - loss: 0.0509 - acc: 0.9987 - val_loss: 0.1033 - val_acc: 0.9826 - lr: 2.4390e-05\n",
      "\n",
      "Epoch 42: LearningRateScheduler setting learning rate to 2.380952380952381e-05.\n",
      "Epoch 42/1000\n",
      "50000/50000 [==============================] - 3s 58us/sample - loss: 0.0505 - acc: 0.9987 - val_loss: 0.1030 - val_acc: 0.9828 - lr: 2.3810e-05\n",
      "\n",
      "Epoch 43: LearningRateScheduler setting learning rate to 2.3255813953488374e-05.\n",
      "Epoch 43/1000\n",
      "50000/50000 [==============================] - 3s 62us/sample - loss: 0.0501 - acc: 0.9991 - val_loss: 0.1029 - val_acc: 0.9822 - lr: 2.3256e-05\n"
     ]
    },
    {
     "data": {
      "text/plain": [
       "<keras.callbacks.History at 0x7f7b43b2fe20>"
      ]
     },
     "execution_count": 35,
     "metadata": {},
     "output_type": "execute_result"
    }
   ],
   "source": [
    "# 7-main\n",
    "# Force Seed - fix for Keras\n",
    "SEED = 0\n",
    "\n",
    "import os\n",
    "os.environ['PYTHONHASHSEED'] = str(SEED)\n",
    "import random\n",
    "random.seed(SEED)\n",
    "# import numpy as np\n",
    "np.random.seed(SEED)\n",
    "# import tensorflow as tf\n",
    "tf.set_random_seed(SEED)\n",
    "# import tensorflow.keras as K\n",
    "session_conf = tf.ConfigProto(intra_op_parallelism_threads=1, inter_op_parallelism_threads=1)\n",
    "sess = tf.Session(graph=tf.get_default_graph(), config=session_conf)\n",
    "K.backend.set_session(sess)\n",
    "\n",
    "datasets = np.load('../data/MNIST.npz')\n",
    "X_train = datasets['X_train']\n",
    "X_train = X_train.reshape(X_train.shape[0], -1)\n",
    "Y_train = datasets['Y_train']\n",
    "Y_train_oh = one_hot(Y_train)\n",
    "X_valid = datasets['X_valid']\n",
    "X_valid = X_valid.reshape(X_valid.shape[0], -1)\n",
    "Y_valid = datasets['Y_valid']\n",
    "Y_valid_oh = one_hot(Y_valid)\n",
    "\n",
    "lambtha = 0.0001\n",
    "keep_prob = 0.95\n",
    "network = build_model(784, [256, 256, 10], ['relu', 'relu', 'softmax'], lambtha, keep_prob)\n",
    "alpha = 0.001\n",
    "beta1 = 0.9\n",
    "beta2 = 0.999\n",
    "optimize_model(network, alpha, beta1, beta2)\n",
    "batch_size = 64\n",
    "epochs = 1000\n",
    "train_model_7(network, X_train, Y_train_oh, batch_size, epochs,\n",
    "            validation_data=(X_valid, Y_valid_oh), early_stopping=True,\n",
    "            patience=3, learning_rate_decay=True, alpha=alpha)\n"
   ]
  },
  {
   "cell_type": "code",
   "execution_count": null,
   "metadata": {},
   "outputs": [],
   "source": [
    "# Task 8. Save Only the Best"
   ]
  }
 ],
 "metadata": {
  "kernelspec": {
   "display_name": "Python 3 (ipykernel)",
   "language": "python",
   "name": "python3"
  },
  "language_info": {
   "codemirror_mode": {
    "name": "ipython",
    "version": 3
   },
   "file_extension": ".py",
   "mimetype": "text/x-python",
   "name": "python",
   "nbconvert_exporter": "python",
   "pygments_lexer": "ipython3",
   "version": "3.8.10"
  },
  "orig_nbformat": 4
 },
 "nbformat": 4,
 "nbformat_minor": 2
}
