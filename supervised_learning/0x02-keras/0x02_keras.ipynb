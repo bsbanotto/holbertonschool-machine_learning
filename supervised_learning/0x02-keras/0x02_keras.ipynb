{
 "cells": [
  {
   "cell_type": "code",
   "execution_count": 6,
   "metadata": {},
   "outputs": [],
   "source": [
    "# Imports\n",
    "import tensorflow.compat.v1 as tf\n",
    "import tensorflow.compat.v1.keras as K\n",
    "tf.compat.v1.disable_eager_execution()\n",
    "tf.disable_v2_behavior()"
   ]
  },
  {
   "cell_type": "code",
   "execution_count": 18,
   "metadata": {},
   "outputs": [],
   "source": [
    "# 0. Sequential\n",
    "\"\"\"\n",
    "Write a function that builds a neural network with the Keras library\n",
    "Use Sequential model since that's in the task name\n",
    "\"\"\"\n",
    "def build_model_0(nx, layers, activations, lambtha, keep_prob):\n",
    "    \"\"\"\n",
    "    nx: number of input features to the network\n",
    "    layers: list containing the number of nodes in each layer of the network\n",
    "    activations: list containing the activation functions for each layer\n",
    "    lambtha: L2 regularization parameter\n",
    "    keep_prob: probability that a node will be kept for dropout\n",
    "\n",
    "    Not allowed to use `Input` class\n",
    "    Returns the keras model\n",
    "    \"\"\"\n",
    "    model = K.Sequential()\n",
    "    # Create our input layer\n",
    "    model.add(K.layers.InputLayer(input_shape=(nx,)))\n",
    "    # Create all of our hidden layers\n",
    "    for layer in range(len(layers)):\n",
    "        model.add(K.layers.Dense(units=layers[layer],\n",
    "                                 activation=activations[layer],\n",
    "                                 kernel_regularizer=K.regularizers.l2(lambtha)\n",
    "                                 ))\n",
    "        # Handle dropout on hidden layers\n",
    "        if layer < len(layers) - 1:\n",
    "            model.add(K.layers.Dropout(1 - keep_prob))\n",
    "    return model"
   ]
  },
  {
   "cell_type": "code",
   "execution_count": 19,
   "metadata": {},
   "outputs": [
    {
     "name": "stdout",
     "output_type": "stream",
     "text": [
      "Model: \"sequential_2\"\n",
      "_________________________________________________________________\n",
      " Layer (type)                Output Shape              Param #   \n",
      "=================================================================\n",
      " dense_16 (Dense)            (None, 256)               200960    \n",
      "                                                                 \n",
      " dropout_8 (Dropout)         (None, 256)               0         \n",
      "                                                                 \n",
      " dense_17 (Dense)            (None, 256)               65792     \n",
      "                                                                 \n",
      " dropout_9 (Dropout)         (None, 256)               0         \n",
      "                                                                 \n",
      " dense_18 (Dense)            (None, 10)                2570      \n",
      "                                                                 \n",
      "=================================================================\n",
      "Total params: 269,322\n",
      "Trainable params: 269,322\n",
      "Non-trainable params: 0\n",
      "_________________________________________________________________\n",
      "[<tf.Tensor 'dense_16/kernel/Regularizer/mul:0' shape=() dtype=float32>, <tf.Tensor 'dense_17/kernel/Regularizer/mul:0' shape=() dtype=float32>, <tf.Tensor 'dense_18/kernel/Regularizer/mul:0' shape=() dtype=float32>]\n"
     ]
    }
   ],
   "source": [
    "# 0-main\n",
    "network = build_model_0(784, [256, 256, 10], ['tanh', 'tanh', 'softmax'], 0.001, 0.95)\n",
    "network.summary()\n",
    "print(network.losses)"
   ]
  },
  {
   "cell_type": "code",
   "execution_count": 20,
   "metadata": {},
   "outputs": [],
   "source": [
    "# 0. Sequential | Attempt 2\n",
    "\"\"\"\n",
    "Write a function that builds a neural network with the Keras library\n",
    "Use Sequential model since that's in the task name\n",
    "\"\"\"\n",
    "def build_model_1(nx, layers, activations, lambtha, keep_prob):\n",
    "    \"\"\"\n",
    "    nx: number of input features to the network\n",
    "    layers: list containing the number of nodes in each layer of the network\n",
    "    activations: list containing the activation functions for each layer\n",
    "    lambtha: L2 regularization parameter\n",
    "    keep_prob: probability that a node will be kept for dropout\n",
    "\n",
    "    Not allowed to use `Input` class\n",
    "    Returns the keras model\n",
    "    \"\"\"\n",
    "    model = K.Sequential()\n",
    "    # Create our input layer\n",
    "    model.add(K.layers.Dense(units=layers[0],\n",
    "                             activation = activations[0],\n",
    "                             kernel_regularizer=K.regularizers.l2(lambtha),\n",
    "                             input_shape=(nx,)))\n",
    "    # Create all of our hidden layers\n",
    "    for layer in range(1, len(layers)):\n",
    "        if layer <= len(layers) - 1:\n",
    "            model.add(K.layers.Dropout(1 - keep_prob))\n",
    "        model.add(K.layers.Dense(units=layers[layer],\n",
    "                                 activation=activations[layer],\n",
    "                                 kernel_regularizer=K.regularizers.l2(lambtha)\n",
    "                                 ))\n",
    "        # Handle dropout on hidden layers\n",
    "    return model"
   ]
  },
  {
   "cell_type": "code",
   "execution_count": 21,
   "metadata": {},
   "outputs": [
    {
     "name": "stdout",
     "output_type": "stream",
     "text": [
      "Model: \"sequential_3\"\n",
      "_________________________________________________________________\n",
      " Layer (type)                Output Shape              Param #   \n",
      "=================================================================\n",
      " dense_19 (Dense)            (None, 256)               200960    \n",
      "                                                                 \n",
      " dropout_10 (Dropout)        (None, 256)               0         \n",
      "                                                                 \n",
      " dense_20 (Dense)            (None, 256)               65792     \n",
      "                                                                 \n",
      " dropout_11 (Dropout)        (None, 256)               0         \n",
      "                                                                 \n",
      " dense_21 (Dense)            (None, 10)                2570      \n",
      "                                                                 \n",
      "=================================================================\n",
      "Total params: 269,322\n",
      "Trainable params: 269,322\n",
      "Non-trainable params: 0\n",
      "_________________________________________________________________\n",
      "[<tf.Tensor 'dense_19/kernel/Regularizer/mul:0' shape=() dtype=float32>, <tf.Tensor 'dense_20/kernel/Regularizer/mul:0' shape=() dtype=float32>, <tf.Tensor 'dense_21/kernel/Regularizer/mul:0' shape=() dtype=float32>]\n"
     ]
    }
   ],
   "source": [
    "# 0-main | Attempt 2\n",
    "network = build_model_1(784, [256, 256, 10], ['tanh', 'tanh', 'softmax'], 0.001, 0.95)\n",
    "network.summary()\n",
    "print(network.losses)"
   ]
  },
  {
   "cell_type": "code",
   "execution_count": 4,
   "metadata": {},
   "outputs": [],
   "source": [
    "# Task 1. Input\n",
    "\"\"\"\n",
    "Write a function that builds a neural network with the Keras library\n",
    "\"\"\"\n",
    "def build_model(nx, layers, activations, lambtha, keep_prob):\n",
    "    \"\"\"\n",
    "    nx: number of input features to the network\n",
    "    layers: list containing the number of nodes in each layer of the network\n",
    "    activations: list containing the activation functions for each layer\n",
    "    lambtha: L2 regularization parameter\n",
    "    keep_prob: probability that a node will be kept for dropout\n",
    "\n",
    "    Not allowed to use `Sequential` class\n",
    "    Returns the keras model\n",
    "    \"\"\"\n",
    "    inputs = K.Input(shape=(nx,))\n",
    "    x = K.layers.Dense(units=layers[0],\n",
    "                       activation=activations[0],\n",
    "                       kernel_regularizer=K.regularizers.l2(lambtha)\n",
    "                       )(inputs)\n",
    "    for layer in range(1, len(layers)):\n",
    "        dropout_layer = K.layers.Dropout(1 - keep_prob)(x)\n",
    "        x = K.layers.Dense(units=layers[layer],\n",
    "                           activation=activations[layer],\n",
    "                           kernel_regularizer=K.regularizers.l2(lambtha)\n",
    "                           )(dropout_layer)\n",
    "\n",
    "    model = K.Model(inputs=inputs, outputs=x)\n",
    "    return model\n",
    "\n"
   ]
  },
  {
   "cell_type": "code",
   "execution_count": 23,
   "metadata": {},
   "outputs": [
    {
     "name": "stdout",
     "output_type": "stream",
     "text": [
      "Model: \"model_6\"\n",
      "_________________________________________________________________\n",
      " Layer (type)                Output Shape              Param #   \n",
      "=================================================================\n",
      " input_9 (InputLayer)        [(None, 200)]             0         \n",
      "                                                                 \n",
      " dense_22 (Dense)            (None, 10)                2010      \n",
      "                                                                 \n",
      "=================================================================\n",
      "Total params: 2,010\n",
      "Trainable params: 2,010\n",
      "Non-trainable params: 0\n",
      "_________________________________________________________________\n"
     ]
    }
   ],
   "source": [
    "# 1-main\n",
    "model = build_model(200, [10], ['tanh'], 0.01, 0.6)\n",
    "model.summary()"
   ]
  },
  {
   "cell_type": "code",
   "execution_count": 11,
   "metadata": {},
   "outputs": [],
   "source": [
    "# 2. Optimize\n",
    "\"\"\"\n",
    "Write a function that sets up Adam optimization for a keras model with\n",
    "categorical crossentropy loss and accuracy metrics\n",
    "\"\"\"\n",
    "def optimize_model(network, alpha, beta1, beta2):\n",
    "    \"\"\"\n",
    "    network: the model to optimize\n",
    "    alpha: learning rate\n",
    "    beta1: the first Adam optimization parameter\n",
    "    beta2: second Adam optimization parameter\n",
    "    Returns none\n",
    "    \"\"\"\n",
    "    Adam_opt = K.optimizers.Adam(lr=alpha,\n",
    "                                 beta_1=beta1,\n",
    "                                 beta_2=beta2)\n",
    "    network.compile(optimizer=Adam_opt,\n",
    "                    loss=\"categorical_crossentropy\",\n",
    "                    metrics=['accuracy'])\n",
    "    return None"
   ]
  },
  {
   "cell_type": "code",
   "execution_count": 12,
   "metadata": {},
   "outputs": [
    {
     "name": "stdout",
     "output_type": "stream",
     "text": [
      "categorical_crossentropy\n",
      "[<keras.metrics.base_metric.MeanMetricWrapper object at 0x7f3c7c1b0310>]\n",
      "<class 'keras.optimizers.optimizer_v2.adam.Adam'>\n"
     ]
    },
    {
     "name": "stderr",
     "output_type": "stream",
     "text": [
      "/home/bsbanotto/.local/lib/python3.8/site-packages/keras/optimizers/optimizer_v2/adam.py:117: UserWarning: The `lr` argument is deprecated, use `learning_rate` instead.\n",
      "  super().__init__(name, **kwargs)\n"
     ]
    },
    {
     "ename": "FailedPreconditionError",
     "evalue": "Graph execution error:\n\nDetected at node 'learning_rate_3/Read/ReadVariableOp' defined at (most recent call last):\n    File \"/usr/lib/python3.8/runpy.py\", line 194, in _run_module_as_main\n      return _run_code(code, main_globals, None,\n    File \"/usr/lib/python3.8/runpy.py\", line 87, in _run_code\n      exec(code, run_globals)\n    File \"/home/bsbanotto/.local/lib/python3.8/site-packages/ipykernel_launcher.py\", line 17, in <module>\n      app.launch_new_instance()\n    File \"/home/bsbanotto/.local/lib/python3.8/site-packages/traitlets/config/application.py\", line 1043, in launch_instance\n      app.start()\n    File \"/home/bsbanotto/.local/lib/python3.8/site-packages/ipykernel/kernelapp.py\", line 728, in start\n      self.io_loop.start()\n    File \"/home/bsbanotto/.local/lib/python3.8/site-packages/tornado/platform/asyncio.py\", line 215, in start\n      self.asyncio_loop.run_forever()\n    File \"/usr/lib/python3.8/asyncio/base_events.py\", line 570, in run_forever\n      self._run_once()\n    File \"/usr/lib/python3.8/asyncio/base_events.py\", line 1859, in _run_once\n      handle._run()\n    File \"/usr/lib/python3.8/asyncio/events.py\", line 81, in _run\n      self._context.run(self._callback, *self._args)\n    File \"/home/bsbanotto/.local/lib/python3.8/site-packages/ipykernel/kernelbase.py\", line 513, in dispatch_queue\n      await self.process_one()\n    File \"/home/bsbanotto/.local/lib/python3.8/site-packages/ipykernel/kernelbase.py\", line 502, in process_one\n      await dispatch(*args)\n    File \"/home/bsbanotto/.local/lib/python3.8/site-packages/ipykernel/kernelbase.py\", line 409, in dispatch_shell\n      await result\n    File \"/home/bsbanotto/.local/lib/python3.8/site-packages/ipykernel/kernelbase.py\", line 729, in execute_request\n      reply_content = await reply_content\n    File \"/home/bsbanotto/.local/lib/python3.8/site-packages/ipykernel/ipkernel.py\", line 423, in do_execute\n      res = shell.run_cell(\n    File \"/home/bsbanotto/.local/lib/python3.8/site-packages/ipykernel/zmqshell.py\", line 540, in run_cell\n      return super().run_cell(*args, **kwargs)\n    File \"/home/bsbanotto/.local/lib/python3.8/site-packages/IPython/core/interactiveshell.py\", line 2961, in run_cell\n      result = self._run_cell(\n    File \"/home/bsbanotto/.local/lib/python3.8/site-packages/IPython/core/interactiveshell.py\", line 3016, in _run_cell\n      result = runner(coro)\n    File \"/home/bsbanotto/.local/lib/python3.8/site-packages/IPython/core/async_helpers.py\", line 129, in _pseudo_sync_runner\n      coro.send(None)\n    File \"/home/bsbanotto/.local/lib/python3.8/site-packages/IPython/core/interactiveshell.py\", line 3221, in run_cell_async\n      has_raised = await self.run_ast_nodes(code_ast.body, cell_name,\n    File \"/home/bsbanotto/.local/lib/python3.8/site-packages/IPython/core/interactiveshell.py\", line 3400, in run_ast_nodes\n      if await self.run_code(code, result, async_=asy):\n    File \"/home/bsbanotto/.local/lib/python3.8/site-packages/IPython/core/interactiveshell.py\", line 3460, in run_code\n      exec(code_obj, self.user_global_ns, self.user_ns)\n    File \"/tmp/ipykernel_3553/2771383561.py\", line 10, in <module>\n      print(sess.run((opt.lr, opt.beta_1, opt.beta_2)))\n    File \"/home/bsbanotto/.local/lib/python3.8/site-packages/keras/optimizers/optimizer_v2/optimizer_v2.py\", line 983, in __getattribute__\n      return self._get_hyper(name)\n    File \"/home/bsbanotto/.local/lib/python3.8/site-packages/keras/optimizers/optimizer_v2/optimizer_v2.py\", line 909, in _get_hyper\n      self._create_hypers()\n    File \"/home/bsbanotto/.local/lib/python3.8/site-packages/keras/optimizers/optimizer_v2/optimizer_v2.py\", line 1135, in _create_hypers\n      self._hyper[name] = self.add_weight(\n    File \"/home/bsbanotto/.local/lib/python3.8/site-packages/keras/optimizers/optimizer_v2/optimizer_v2.py\", line 1361, in add_weight\n      variable = self._add_variable_with_custom_getter(\n    File \"/home/bsbanotto/.local/lib/python3.8/site-packages/keras/engine/base_layer_utils.py\", line 134, in make_variable\n      return tf1.Variable(\nNode: 'learning_rate_3/Read/ReadVariableOp'\nCould not find variable learning_rate_3. This could mean that the variable has been deleted. In TF1, it can also mean the variable is uninitialized. Debug info: container=localhost, status error message=Resource localhost/learning_rate_3/N10tensorflow3VarE does not exist.\n\t [[{{node learning_rate_3/Read/ReadVariableOp}}]]\n\nOriginal stack trace for 'learning_rate_3/Read/ReadVariableOp':\n  File \"/usr/lib/python3.8/runpy.py\", line 194, in _run_module_as_main\n    return _run_code(code, main_globals, None,\n  File \"/usr/lib/python3.8/runpy.py\", line 87, in _run_code\n    exec(code, run_globals)\n  File \"/home/bsbanotto/.local/lib/python3.8/site-packages/ipykernel_launcher.py\", line 17, in <module>\n    app.launch_new_instance()\n  File \"/home/bsbanotto/.local/lib/python3.8/site-packages/traitlets/config/application.py\", line 1043, in launch_instance\n    app.start()\n  File \"/home/bsbanotto/.local/lib/python3.8/site-packages/ipykernel/kernelapp.py\", line 728, in start\n    self.io_loop.start()\n  File \"/home/bsbanotto/.local/lib/python3.8/site-packages/tornado/platform/asyncio.py\", line 215, in start\n    self.asyncio_loop.run_forever()\n  File \"/usr/lib/python3.8/asyncio/base_events.py\", line 570, in run_forever\n    self._run_once()\n  File \"/usr/lib/python3.8/asyncio/base_events.py\", line 1859, in _run_once\n    handle._run()\n  File \"/usr/lib/python3.8/asyncio/events.py\", line 81, in _run\n    self._context.run(self._callback, *self._args)\n  File \"/home/bsbanotto/.local/lib/python3.8/site-packages/ipykernel/kernelbase.py\", line 513, in dispatch_queue\n    await self.process_one()\n  File \"/home/bsbanotto/.local/lib/python3.8/site-packages/ipykernel/kernelbase.py\", line 502, in process_one\n    await dispatch(*args)\n  File \"/home/bsbanotto/.local/lib/python3.8/site-packages/ipykernel/kernelbase.py\", line 409, in dispatch_shell\n    await result\n  File \"/home/bsbanotto/.local/lib/python3.8/site-packages/ipykernel/kernelbase.py\", line 729, in execute_request\n    reply_content = await reply_content\n  File \"/home/bsbanotto/.local/lib/python3.8/site-packages/ipykernel/ipkernel.py\", line 423, in do_execute\n    res = shell.run_cell(\n  File \"/home/bsbanotto/.local/lib/python3.8/site-packages/ipykernel/zmqshell.py\", line 540, in run_cell\n    return super().run_cell(*args, **kwargs)\n  File \"/home/bsbanotto/.local/lib/python3.8/site-packages/IPython/core/interactiveshell.py\", line 2961, in run_cell\n    result = self._run_cell(\n  File \"/home/bsbanotto/.local/lib/python3.8/site-packages/IPython/core/interactiveshell.py\", line 3016, in _run_cell\n    result = runner(coro)\n  File \"/home/bsbanotto/.local/lib/python3.8/site-packages/IPython/core/async_helpers.py\", line 129, in _pseudo_sync_runner\n    coro.send(None)\n  File \"/home/bsbanotto/.local/lib/python3.8/site-packages/IPython/core/interactiveshell.py\", line 3221, in run_cell_async\n    has_raised = await self.run_ast_nodes(code_ast.body, cell_name,\n  File \"/home/bsbanotto/.local/lib/python3.8/site-packages/IPython/core/interactiveshell.py\", line 3400, in run_ast_nodes\n    if await self.run_code(code, result, async_=asy):\n  File \"/home/bsbanotto/.local/lib/python3.8/site-packages/IPython/core/interactiveshell.py\", line 3460, in run_code\n    exec(code_obj, self.user_global_ns, self.user_ns)\n  File \"/tmp/ipykernel_3553/2771383561.py\", line 10, in <module>\n    print(sess.run((opt.lr, opt.beta_1, opt.beta_2)))\n  File \"/home/bsbanotto/.local/lib/python3.8/site-packages/keras/optimizers/optimizer_v2/optimizer_v2.py\", line 983, in __getattribute__\n    return self._get_hyper(name)\n  File \"/home/bsbanotto/.local/lib/python3.8/site-packages/keras/optimizers/optimizer_v2/optimizer_v2.py\", line 909, in _get_hyper\n    self._create_hypers()\n  File \"/home/bsbanotto/.local/lib/python3.8/site-packages/keras/optimizers/optimizer_v2/optimizer_v2.py\", line 1135, in _create_hypers\n    self._hyper[name] = self.add_weight(\n  File \"/home/bsbanotto/.local/lib/python3.8/site-packages/keras/optimizers/optimizer_v2/optimizer_v2.py\", line 1361, in add_weight\n    variable = self._add_variable_with_custom_getter(\n  File \"/home/bsbanotto/.local/lib/python3.8/site-packages/tensorflow/python/trackable/base.py\", line 489, in _add_variable_with_custom_getter\n    new_variable = getter(\n  File \"/home/bsbanotto/.local/lib/python3.8/site-packages/keras/engine/base_layer_utils.py\", line 134, in make_variable\n    return tf1.Variable(\n  File \"/home/bsbanotto/.local/lib/python3.8/site-packages/tensorflow/python/util/traceback_utils.py\", line 150, in error_handler\n    return fn(*args, **kwargs)\n  File \"/home/bsbanotto/.local/lib/python3.8/site-packages/tensorflow/python/ops/variables.py\", line 269, in __call__\n    return cls._variable_v1_call(*args, **kwargs)\n  File \"/home/bsbanotto/.local/lib/python3.8/site-packages/tensorflow/python/ops/variables.py\", line 210, in _variable_v1_call\n    return previous_getter(\n  File \"/home/bsbanotto/.local/lib/python3.8/site-packages/tensorflow/python/ops/variables.py\", line 203, in <lambda>\n    previous_getter = lambda **kwargs: default_variable_creator(None, **kwargs)\n  File \"/home/bsbanotto/.local/lib/python3.8/site-packages/tensorflow/python/ops/variable_scope.py\", line 2706, in default_variable_creator\n    return resource_variable_ops.ResourceVariable(\n  File \"/home/bsbanotto/.local/lib/python3.8/site-packages/tensorflow/python/util/traceback_utils.py\", line 150, in error_handler\n    return fn(*args, **kwargs)\n  File \"/home/bsbanotto/.local/lib/python3.8/site-packages/tensorflow/python/ops/variables.py\", line 273, in __call__\n    return super(VariableMetaclass, cls).__call__(*args, **kwargs)\n  File \"/home/bsbanotto/.local/lib/python3.8/site-packages/tensorflow/python/ops/resource_variable_ops.py\", line 1721, in __init__\n    self._init_from_args(\n  File \"/home/bsbanotto/.local/lib/python3.8/site-packages/tensorflow/python/ops/resource_variable_ops.py\", line 1963, in _init_from_args\n    value = gen_resource_variable_ops.read_variable_op(handle, dtype)\n  File \"/home/bsbanotto/.local/lib/python3.8/site-packages/tensorflow/python/ops/gen_resource_variable_ops.py\", line 539, in read_variable_op\n    _, _, _op, _outputs = _op_def_library._apply_op_helper(\n  File \"/home/bsbanotto/.local/lib/python3.8/site-packages/tensorflow/python/framework/op_def_library.py\", line 795, in _apply_op_helper\n    op = g._create_op_internal(op_type_name, inputs, dtypes=None,\n  File \"/home/bsbanotto/.local/lib/python3.8/site-packages/tensorflow/python/framework/ops.py\", line 3798, in _create_op_internal\n    ret = Operation(\n",
     "output_type": "error",
     "traceback": [
      "\u001b[0;31m---------------------------------------------------------------------------\u001b[0m",
      "\u001b[0;31mFailedPreconditionError\u001b[0m                   Traceback (most recent call last)",
      "File \u001b[0;32m~/.local/lib/python3.8/site-packages/tensorflow/python/client/session.py:1378\u001b[0m, in \u001b[0;36mBaseSession._do_call\u001b[0;34m(self, fn, *args)\u001b[0m\n\u001b[1;32m   1377\u001b[0m \u001b[39mtry\u001b[39;00m:\n\u001b[0;32m-> 1378\u001b[0m   \u001b[39mreturn\u001b[39;00m fn(\u001b[39m*\u001b[39;49margs)\n\u001b[1;32m   1379\u001b[0m \u001b[39mexcept\u001b[39;00m errors\u001b[39m.\u001b[39mOpError \u001b[39mas\u001b[39;00m e:\n",
      "File \u001b[0;32m~/.local/lib/python3.8/site-packages/tensorflow/python/client/session.py:1361\u001b[0m, in \u001b[0;36mBaseSession._do_run.<locals>._run_fn\u001b[0;34m(feed_dict, fetch_list, target_list, options, run_metadata)\u001b[0m\n\u001b[1;32m   1360\u001b[0m \u001b[39mself\u001b[39m\u001b[39m.\u001b[39m_extend_graph()\n\u001b[0;32m-> 1361\u001b[0m \u001b[39mreturn\u001b[39;00m \u001b[39mself\u001b[39;49m\u001b[39m.\u001b[39;49m_call_tf_sessionrun(options, feed_dict, fetch_list,\n\u001b[1;32m   1362\u001b[0m                                 target_list, run_metadata)\n",
      "File \u001b[0;32m~/.local/lib/python3.8/site-packages/tensorflow/python/client/session.py:1454\u001b[0m, in \u001b[0;36mBaseSession._call_tf_sessionrun\u001b[0;34m(self, options, feed_dict, fetch_list, target_list, run_metadata)\u001b[0m\n\u001b[1;32m   1452\u001b[0m \u001b[39mdef\u001b[39;00m \u001b[39m_call_tf_sessionrun\u001b[39m(\u001b[39mself\u001b[39m, options, feed_dict, fetch_list, target_list,\n\u001b[1;32m   1453\u001b[0m                         run_metadata):\n\u001b[0;32m-> 1454\u001b[0m   \u001b[39mreturn\u001b[39;00m tf_session\u001b[39m.\u001b[39;49mTF_SessionRun_wrapper(\u001b[39mself\u001b[39;49m\u001b[39m.\u001b[39;49m_session, options, feed_dict,\n\u001b[1;32m   1455\u001b[0m                                           fetch_list, target_list,\n\u001b[1;32m   1456\u001b[0m                                           run_metadata)\n",
      "\u001b[0;31mFailedPreconditionError\u001b[0m: Could not find variable learning_rate_3. This could mean that the variable has been deleted. In TF1, it can also mean the variable is uninitialized. Debug info: container=localhost, status error message=Resource localhost/learning_rate_3/N10tensorflow3VarE does not exist.\n\t [[{{node learning_rate_3/Read/ReadVariableOp}}]]",
      "\nDuring handling of the above exception, another exception occurred:\n",
      "\u001b[0;31mFailedPreconditionError\u001b[0m                   Traceback (most recent call last)",
      "Cell \u001b[0;32mIn[12], line 10\u001b[0m\n\u001b[1;32m      8\u001b[0m \u001b[39mwith\u001b[39;00m tf\u001b[39m.\u001b[39mSession() \u001b[39mas\u001b[39;00m sess:\n\u001b[1;32m      9\u001b[0m     sess\u001b[39m.\u001b[39mrun(tf\u001b[39m.\u001b[39mglobal_variables_initializer())\n\u001b[0;32m---> 10\u001b[0m     \u001b[39mprint\u001b[39m(sess\u001b[39m.\u001b[39;49mrun((opt\u001b[39m.\u001b[39;49mlr, opt\u001b[39m.\u001b[39;49mbeta_1, opt\u001b[39m.\u001b[39;49mbeta_2))) \n",
      "File \u001b[0;32m~/.local/lib/python3.8/site-packages/tensorflow/python/client/session.py:968\u001b[0m, in \u001b[0;36mBaseSession.run\u001b[0;34m(self, fetches, feed_dict, options, run_metadata)\u001b[0m\n\u001b[1;32m    965\u001b[0m run_metadata_ptr \u001b[39m=\u001b[39m tf_session\u001b[39m.\u001b[39mTF_NewBuffer() \u001b[39mif\u001b[39;00m run_metadata \u001b[39melse\u001b[39;00m \u001b[39mNone\u001b[39;00m\n\u001b[1;32m    967\u001b[0m \u001b[39mtry\u001b[39;00m:\n\u001b[0;32m--> 968\u001b[0m   result \u001b[39m=\u001b[39m \u001b[39mself\u001b[39;49m\u001b[39m.\u001b[39;49m_run(\u001b[39mNone\u001b[39;49;00m, fetches, feed_dict, options_ptr,\n\u001b[1;32m    969\u001b[0m                      run_metadata_ptr)\n\u001b[1;32m    970\u001b[0m   \u001b[39mif\u001b[39;00m run_metadata:\n\u001b[1;32m    971\u001b[0m     proto_data \u001b[39m=\u001b[39m tf_session\u001b[39m.\u001b[39mTF_GetBuffer(run_metadata_ptr)\n",
      "File \u001b[0;32m~/.local/lib/python3.8/site-packages/tensorflow/python/client/session.py:1191\u001b[0m, in \u001b[0;36mBaseSession._run\u001b[0;34m(self, handle, fetches, feed_dict, options, run_metadata)\u001b[0m\n\u001b[1;32m   1188\u001b[0m \u001b[39m# We only want to really perform the run if fetches or targets are provided,\u001b[39;00m\n\u001b[1;32m   1189\u001b[0m \u001b[39m# or if the call is a partial run that specifies feeds.\u001b[39;00m\n\u001b[1;32m   1190\u001b[0m \u001b[39mif\u001b[39;00m final_fetches \u001b[39mor\u001b[39;00m final_targets \u001b[39mor\u001b[39;00m (handle \u001b[39mand\u001b[39;00m feed_dict_tensor):\n\u001b[0;32m-> 1191\u001b[0m   results \u001b[39m=\u001b[39m \u001b[39mself\u001b[39;49m\u001b[39m.\u001b[39;49m_do_run(handle, final_targets, final_fetches,\n\u001b[1;32m   1192\u001b[0m                          feed_dict_tensor, options, run_metadata)\n\u001b[1;32m   1193\u001b[0m \u001b[39melse\u001b[39;00m:\n\u001b[1;32m   1194\u001b[0m   results \u001b[39m=\u001b[39m []\n",
      "File \u001b[0;32m~/.local/lib/python3.8/site-packages/tensorflow/python/client/session.py:1371\u001b[0m, in \u001b[0;36mBaseSession._do_run\u001b[0;34m(self, handle, target_list, fetch_list, feed_dict, options, run_metadata)\u001b[0m\n\u001b[1;32m   1368\u001b[0m   \u001b[39mreturn\u001b[39;00m \u001b[39mself\u001b[39m\u001b[39m.\u001b[39m_call_tf_sessionprun(handle, feed_dict, fetch_list)\n\u001b[1;32m   1370\u001b[0m \u001b[39mif\u001b[39;00m handle \u001b[39mis\u001b[39;00m \u001b[39mNone\u001b[39;00m:\n\u001b[0;32m-> 1371\u001b[0m   \u001b[39mreturn\u001b[39;00m \u001b[39mself\u001b[39;49m\u001b[39m.\u001b[39;49m_do_call(_run_fn, feeds, fetches, targets, options,\n\u001b[1;32m   1372\u001b[0m                        run_metadata)\n\u001b[1;32m   1373\u001b[0m \u001b[39melse\u001b[39;00m:\n\u001b[1;32m   1374\u001b[0m   \u001b[39mreturn\u001b[39;00m \u001b[39mself\u001b[39m\u001b[39m.\u001b[39m_do_call(_prun_fn, handle, feeds, fetches)\n",
      "File \u001b[0;32m~/.local/lib/python3.8/site-packages/tensorflow/python/client/session.py:1397\u001b[0m, in \u001b[0;36mBaseSession._do_call\u001b[0;34m(self, fn, *args)\u001b[0m\n\u001b[1;32m   1392\u001b[0m \u001b[39mif\u001b[39;00m \u001b[39m'\u001b[39m\u001b[39monly supports NHWC tensor format\u001b[39m\u001b[39m'\u001b[39m \u001b[39min\u001b[39;00m message:\n\u001b[1;32m   1393\u001b[0m   message \u001b[39m+\u001b[39m\u001b[39m=\u001b[39m (\u001b[39m'\u001b[39m\u001b[39m\\n\u001b[39;00m\u001b[39mA possible workaround: Try disabling Grappler optimizer\u001b[39m\u001b[39m'\u001b[39m\n\u001b[1;32m   1394\u001b[0m               \u001b[39m'\u001b[39m\u001b[39m\\n\u001b[39;00m\u001b[39mby modifying the config for creating the session eg.\u001b[39m\u001b[39m'\u001b[39m\n\u001b[1;32m   1395\u001b[0m               \u001b[39m'\u001b[39m\u001b[39m\\n\u001b[39;00m\u001b[39msession_config.graph_options.rewrite_options.\u001b[39m\u001b[39m'\u001b[39m\n\u001b[1;32m   1396\u001b[0m               \u001b[39m'\u001b[39m\u001b[39mdisable_meta_optimizer = True\u001b[39m\u001b[39m'\u001b[39m)\n\u001b[0;32m-> 1397\u001b[0m \u001b[39mraise\u001b[39;00m \u001b[39mtype\u001b[39m(e)(node_def, op, message)\n",
      "\u001b[0;31mFailedPreconditionError\u001b[0m: Graph execution error:\n\nDetected at node 'learning_rate_3/Read/ReadVariableOp' defined at (most recent call last):\n    File \"/usr/lib/python3.8/runpy.py\", line 194, in _run_module_as_main\n      return _run_code(code, main_globals, None,\n    File \"/usr/lib/python3.8/runpy.py\", line 87, in _run_code\n      exec(code, run_globals)\n    File \"/home/bsbanotto/.local/lib/python3.8/site-packages/ipykernel_launcher.py\", line 17, in <module>\n      app.launch_new_instance()\n    File \"/home/bsbanotto/.local/lib/python3.8/site-packages/traitlets/config/application.py\", line 1043, in launch_instance\n      app.start()\n    File \"/home/bsbanotto/.local/lib/python3.8/site-packages/ipykernel/kernelapp.py\", line 728, in start\n      self.io_loop.start()\n    File \"/home/bsbanotto/.local/lib/python3.8/site-packages/tornado/platform/asyncio.py\", line 215, in start\n      self.asyncio_loop.run_forever()\n    File \"/usr/lib/python3.8/asyncio/base_events.py\", line 570, in run_forever\n      self._run_once()\n    File \"/usr/lib/python3.8/asyncio/base_events.py\", line 1859, in _run_once\n      handle._run()\n    File \"/usr/lib/python3.8/asyncio/events.py\", line 81, in _run\n      self._context.run(self._callback, *self._args)\n    File \"/home/bsbanotto/.local/lib/python3.8/site-packages/ipykernel/kernelbase.py\", line 513, in dispatch_queue\n      await self.process_one()\n    File \"/home/bsbanotto/.local/lib/python3.8/site-packages/ipykernel/kernelbase.py\", line 502, in process_one\n      await dispatch(*args)\n    File \"/home/bsbanotto/.local/lib/python3.8/site-packages/ipykernel/kernelbase.py\", line 409, in dispatch_shell\n      await result\n    File \"/home/bsbanotto/.local/lib/python3.8/site-packages/ipykernel/kernelbase.py\", line 729, in execute_request\n      reply_content = await reply_content\n    File \"/home/bsbanotto/.local/lib/python3.8/site-packages/ipykernel/ipkernel.py\", line 423, in do_execute\n      res = shell.run_cell(\n    File \"/home/bsbanotto/.local/lib/python3.8/site-packages/ipykernel/zmqshell.py\", line 540, in run_cell\n      return super().run_cell(*args, **kwargs)\n    File \"/home/bsbanotto/.local/lib/python3.8/site-packages/IPython/core/interactiveshell.py\", line 2961, in run_cell\n      result = self._run_cell(\n    File \"/home/bsbanotto/.local/lib/python3.8/site-packages/IPython/core/interactiveshell.py\", line 3016, in _run_cell\n      result = runner(coro)\n    File \"/home/bsbanotto/.local/lib/python3.8/site-packages/IPython/core/async_helpers.py\", line 129, in _pseudo_sync_runner\n      coro.send(None)\n    File \"/home/bsbanotto/.local/lib/python3.8/site-packages/IPython/core/interactiveshell.py\", line 3221, in run_cell_async\n      has_raised = await self.run_ast_nodes(code_ast.body, cell_name,\n    File \"/home/bsbanotto/.local/lib/python3.8/site-packages/IPython/core/interactiveshell.py\", line 3400, in run_ast_nodes\n      if await self.run_code(code, result, async_=asy):\n    File \"/home/bsbanotto/.local/lib/python3.8/site-packages/IPython/core/interactiveshell.py\", line 3460, in run_code\n      exec(code_obj, self.user_global_ns, self.user_ns)\n    File \"/tmp/ipykernel_3553/2771383561.py\", line 10, in <module>\n      print(sess.run((opt.lr, opt.beta_1, opt.beta_2)))\n    File \"/home/bsbanotto/.local/lib/python3.8/site-packages/keras/optimizers/optimizer_v2/optimizer_v2.py\", line 983, in __getattribute__\n      return self._get_hyper(name)\n    File \"/home/bsbanotto/.local/lib/python3.8/site-packages/keras/optimizers/optimizer_v2/optimizer_v2.py\", line 909, in _get_hyper\n      self._create_hypers()\n    File \"/home/bsbanotto/.local/lib/python3.8/site-packages/keras/optimizers/optimizer_v2/optimizer_v2.py\", line 1135, in _create_hypers\n      self._hyper[name] = self.add_weight(\n    File \"/home/bsbanotto/.local/lib/python3.8/site-packages/keras/optimizers/optimizer_v2/optimizer_v2.py\", line 1361, in add_weight\n      variable = self._add_variable_with_custom_getter(\n    File \"/home/bsbanotto/.local/lib/python3.8/site-packages/keras/engine/base_layer_utils.py\", line 134, in make_variable\n      return tf1.Variable(\nNode: 'learning_rate_3/Read/ReadVariableOp'\nCould not find variable learning_rate_3. This could mean that the variable has been deleted. In TF1, it can also mean the variable is uninitialized. Debug info: container=localhost, status error message=Resource localhost/learning_rate_3/N10tensorflow3VarE does not exist.\n\t [[{{node learning_rate_3/Read/ReadVariableOp}}]]\n\nOriginal stack trace for 'learning_rate_3/Read/ReadVariableOp':\n  File \"/usr/lib/python3.8/runpy.py\", line 194, in _run_module_as_main\n    return _run_code(code, main_globals, None,\n  File \"/usr/lib/python3.8/runpy.py\", line 87, in _run_code\n    exec(code, run_globals)\n  File \"/home/bsbanotto/.local/lib/python3.8/site-packages/ipykernel_launcher.py\", line 17, in <module>\n    app.launch_new_instance()\n  File \"/home/bsbanotto/.local/lib/python3.8/site-packages/traitlets/config/application.py\", line 1043, in launch_instance\n    app.start()\n  File \"/home/bsbanotto/.local/lib/python3.8/site-packages/ipykernel/kernelapp.py\", line 728, in start\n    self.io_loop.start()\n  File \"/home/bsbanotto/.local/lib/python3.8/site-packages/tornado/platform/asyncio.py\", line 215, in start\n    self.asyncio_loop.run_forever()\n  File \"/usr/lib/python3.8/asyncio/base_events.py\", line 570, in run_forever\n    self._run_once()\n  File \"/usr/lib/python3.8/asyncio/base_events.py\", line 1859, in _run_once\n    handle._run()\n  File \"/usr/lib/python3.8/asyncio/events.py\", line 81, in _run\n    self._context.run(self._callback, *self._args)\n  File \"/home/bsbanotto/.local/lib/python3.8/site-packages/ipykernel/kernelbase.py\", line 513, in dispatch_queue\n    await self.process_one()\n  File \"/home/bsbanotto/.local/lib/python3.8/site-packages/ipykernel/kernelbase.py\", line 502, in process_one\n    await dispatch(*args)\n  File \"/home/bsbanotto/.local/lib/python3.8/site-packages/ipykernel/kernelbase.py\", line 409, in dispatch_shell\n    await result\n  File \"/home/bsbanotto/.local/lib/python3.8/site-packages/ipykernel/kernelbase.py\", line 729, in execute_request\n    reply_content = await reply_content\n  File \"/home/bsbanotto/.local/lib/python3.8/site-packages/ipykernel/ipkernel.py\", line 423, in do_execute\n    res = shell.run_cell(\n  File \"/home/bsbanotto/.local/lib/python3.8/site-packages/ipykernel/zmqshell.py\", line 540, in run_cell\n    return super().run_cell(*args, **kwargs)\n  File \"/home/bsbanotto/.local/lib/python3.8/site-packages/IPython/core/interactiveshell.py\", line 2961, in run_cell\n    result = self._run_cell(\n  File \"/home/bsbanotto/.local/lib/python3.8/site-packages/IPython/core/interactiveshell.py\", line 3016, in _run_cell\n    result = runner(coro)\n  File \"/home/bsbanotto/.local/lib/python3.8/site-packages/IPython/core/async_helpers.py\", line 129, in _pseudo_sync_runner\n    coro.send(None)\n  File \"/home/bsbanotto/.local/lib/python3.8/site-packages/IPython/core/interactiveshell.py\", line 3221, in run_cell_async\n    has_raised = await self.run_ast_nodes(code_ast.body, cell_name,\n  File \"/home/bsbanotto/.local/lib/python3.8/site-packages/IPython/core/interactiveshell.py\", line 3400, in run_ast_nodes\n    if await self.run_code(code, result, async_=asy):\n  File \"/home/bsbanotto/.local/lib/python3.8/site-packages/IPython/core/interactiveshell.py\", line 3460, in run_code\n    exec(code_obj, self.user_global_ns, self.user_ns)\n  File \"/tmp/ipykernel_3553/2771383561.py\", line 10, in <module>\n    print(sess.run((opt.lr, opt.beta_1, opt.beta_2)))\n  File \"/home/bsbanotto/.local/lib/python3.8/site-packages/keras/optimizers/optimizer_v2/optimizer_v2.py\", line 983, in __getattribute__\n    return self._get_hyper(name)\n  File \"/home/bsbanotto/.local/lib/python3.8/site-packages/keras/optimizers/optimizer_v2/optimizer_v2.py\", line 909, in _get_hyper\n    self._create_hypers()\n  File \"/home/bsbanotto/.local/lib/python3.8/site-packages/keras/optimizers/optimizer_v2/optimizer_v2.py\", line 1135, in _create_hypers\n    self._hyper[name] = self.add_weight(\n  File \"/home/bsbanotto/.local/lib/python3.8/site-packages/keras/optimizers/optimizer_v2/optimizer_v2.py\", line 1361, in add_weight\n    variable = self._add_variable_with_custom_getter(\n  File \"/home/bsbanotto/.local/lib/python3.8/site-packages/tensorflow/python/trackable/base.py\", line 489, in _add_variable_with_custom_getter\n    new_variable = getter(\n  File \"/home/bsbanotto/.local/lib/python3.8/site-packages/keras/engine/base_layer_utils.py\", line 134, in make_variable\n    return tf1.Variable(\n  File \"/home/bsbanotto/.local/lib/python3.8/site-packages/tensorflow/python/util/traceback_utils.py\", line 150, in error_handler\n    return fn(*args, **kwargs)\n  File \"/home/bsbanotto/.local/lib/python3.8/site-packages/tensorflow/python/ops/variables.py\", line 269, in __call__\n    return cls._variable_v1_call(*args, **kwargs)\n  File \"/home/bsbanotto/.local/lib/python3.8/site-packages/tensorflow/python/ops/variables.py\", line 210, in _variable_v1_call\n    return previous_getter(\n  File \"/home/bsbanotto/.local/lib/python3.8/site-packages/tensorflow/python/ops/variables.py\", line 203, in <lambda>\n    previous_getter = lambda **kwargs: default_variable_creator(None, **kwargs)\n  File \"/home/bsbanotto/.local/lib/python3.8/site-packages/tensorflow/python/ops/variable_scope.py\", line 2706, in default_variable_creator\n    return resource_variable_ops.ResourceVariable(\n  File \"/home/bsbanotto/.local/lib/python3.8/site-packages/tensorflow/python/util/traceback_utils.py\", line 150, in error_handler\n    return fn(*args, **kwargs)\n  File \"/home/bsbanotto/.local/lib/python3.8/site-packages/tensorflow/python/ops/variables.py\", line 273, in __call__\n    return super(VariableMetaclass, cls).__call__(*args, **kwargs)\n  File \"/home/bsbanotto/.local/lib/python3.8/site-packages/tensorflow/python/ops/resource_variable_ops.py\", line 1721, in __init__\n    self._init_from_args(\n  File \"/home/bsbanotto/.local/lib/python3.8/site-packages/tensorflow/python/ops/resource_variable_ops.py\", line 1963, in _init_from_args\n    value = gen_resource_variable_ops.read_variable_op(handle, dtype)\n  File \"/home/bsbanotto/.local/lib/python3.8/site-packages/tensorflow/python/ops/gen_resource_variable_ops.py\", line 539, in read_variable_op\n    _, _, _op, _outputs = _op_def_library._apply_op_helper(\n  File \"/home/bsbanotto/.local/lib/python3.8/site-packages/tensorflow/python/framework/op_def_library.py\", line 795, in _apply_op_helper\n    op = g._create_op_internal(op_type_name, inputs, dtypes=None,\n  File \"/home/bsbanotto/.local/lib/python3.8/site-packages/tensorflow/python/framework/ops.py\", line 3798, in _create_op_internal\n    ret = Operation(\n"
     ]
    }
   ],
   "source": [
    "# 2-main\n",
    "model = build_model(784, [256, 256, 10], ['tanh', 'tanh', 'softmax'], 0.001, 0.95)\n",
    "optimize_model(model, 0.01, 0.99, 0.9)\n",
    "print(model.loss)\n",
    "print(model.metrics)\n",
    "opt = model.optimizer\n",
    "print(opt.__class__)\n",
    "with tf.Session() as sess:\n",
    "    sess.run(tf.global_variables_initializer())\n",
    "    print(sess.run((opt.lr, opt.beta_1, opt.beta_2))) "
   ]
  }
 ],
 "metadata": {
  "kernelspec": {
   "display_name": "Python 3",
   "language": "python",
   "name": "python3"
  },
  "language_info": {
   "codemirror_mode": {
    "name": "ipython",
    "version": 3
   },
   "file_extension": ".py",
   "mimetype": "text/x-python",
   "name": "python",
   "nbconvert_exporter": "python",
   "pygments_lexer": "ipython3",
   "version": "3.8.10"
  },
  "orig_nbformat": 4
 },
 "nbformat": 4,
 "nbformat_minor": 2
}
