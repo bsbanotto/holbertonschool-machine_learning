{
 "cells": [
  {
   "cell_type": "code",
   "execution_count": 4,
   "metadata": {},
   "outputs": [],
   "source": [
    "# Imports\n",
    "import tensorflow.compat.v1 as tf\n",
    "import tensorflow.compat.v1.keras as K\n",
    "tf.compat.v1.disable_eager_execution()\n",
    "tf.disable_v2_behavior()"
   ]
  },
  {
   "cell_type": "code",
   "execution_count": 5,
   "metadata": {},
   "outputs": [],
   "source": [
    "# 0. Sequential\n",
    "\"\"\"\n",
    "Write a function that builds a neural network with the Keras library\n",
    "Use Sequential model since that's in the task name\n",
    "\"\"\"\n",
    "def build_model(nx, layers, activations, lambtha, keep_prob):\n",
    "    \"\"\"\n",
    "    nx: number of input features to the network\n",
    "    layers: list containing the number of nodes in each layer of the network\n",
    "    activations: list containing the activation functions for each layer\n",
    "    lambtha: L2 regularization parameter\n",
    "    keep_prob: probability that a node will be kept for dropout\n",
    "\n",
    "    Not allowed to use `Input` class\n",
    "    Returns the keras model\n",
    "    \"\"\"\n",
    "    model = K.Sequential()\n",
    "    # Create our input layer\n",
    "    model.add(K.layers.InputLayer(input_shape=(nx,)))\n",
    "    # Create all of our hidden layers\n",
    "    for layer in range(len(layers)):\n",
    "        model.add(K.layers.Dense(units=layers[layer],\n",
    "                                 activation=activations[layer],\n",
    "                                 kernel_regularizer=K.regularizers.l2(lambtha)\n",
    "                                 ))\n",
    "        # Handle dropout on hidden layers\n",
    "        if layer < len(layers) - 1:\n",
    "            model.add(K.layers.Dropout(1 - keep_prob))\n",
    "    return model"
   ]
  },
  {
   "cell_type": "code",
   "execution_count": 6,
   "metadata": {},
   "outputs": [
    {
     "name": "stdout",
     "output_type": "stream",
     "text": [
      "Model: \"sequential_1\"\n",
      "_________________________________________________________________\n",
      " Layer (type)                Output Shape              Param #   \n",
      "=================================================================\n",
      " dense_3 (Dense)             (None, 256)               200960    \n",
      "                                                                 \n",
      " dropout_2 (Dropout)         (None, 256)               0         \n",
      "                                                                 \n",
      " dense_4 (Dense)             (None, 256)               65792     \n",
      "                                                                 \n",
      " dropout_3 (Dropout)         (None, 256)               0         \n",
      "                                                                 \n",
      " dense_5 (Dense)             (None, 10)                2570      \n",
      "                                                                 \n",
      "=================================================================\n",
      "Total params: 269,322\n",
      "Trainable params: 269,322\n",
      "Non-trainable params: 0\n",
      "_________________________________________________________________\n",
      "[<tf.Tensor 'dense_3/kernel/Regularizer/mul:0' shape=() dtype=float32>, <tf.Tensor 'dense_4/kernel/Regularizer/mul:0' shape=() dtype=float32>, <tf.Tensor 'dense_5/kernel/Regularizer/mul:0' shape=() dtype=float32>]\n"
     ]
    }
   ],
   "source": [
    "# 0-main\n",
    "network = build_model(784, [256, 256, 10], ['tanh', 'tanh', 'softmax'], 0.001, 0.95)\n",
    "network.summary()\n",
    "print(network.losses)"
   ]
  },
  {
   "cell_type": "code",
   "execution_count": 7,
   "metadata": {},
   "outputs": [],
   "source": [
    "# 0. Sequential | Attempt 2\n",
    "\"\"\"\n",
    "Write a function that builds a neural network with the Keras library\n",
    "Use Sequential model since that's in the task name\n",
    "\"\"\"\n",
    "def build_model_1(nx, layers, activations, lambtha, keep_prob):\n",
    "    \"\"\"\n",
    "    nx: number of input features to the network\n",
    "    layers: list containing the number of nodes in each layer of the network\n",
    "    activations: list containing the activation functions for each layer\n",
    "    lambtha: L2 regularization parameter\n",
    "    keep_prob: probability that a node will be kept for dropout\n",
    "\n",
    "    Not allowed to use `Input` class\n",
    "    Returns the keras model\n",
    "    \"\"\"\n",
    "    model = K.Sequential()\n",
    "    # Create our input layer\n",
    "    model.add(K.layers.Dense(units=layers[0],\n",
    "                             activation = activations[0],\n",
    "                             kernel_regularizer=K.regularizers.L2(lambtha),\n",
    "                             input_shape=(nx,)))\n",
    "    # Create all of our hidden layers\n",
    "    for layer in range(1, len(layers)):\n",
    "        if layer <= len(layers) - 1:\n",
    "            model.add(K.layers.Dropout(1 - keep_prob))\n",
    "        model.add(K.layers.Dense(units=layers[layer],\n",
    "                                 activation=activations[layer],\n",
    "                                 kernel_regularizer=K.regularizers.L2(lambtha)\n",
    "                                 ))\n",
    "        # Handle dropout on hidden layers\n",
    "    return model"
   ]
  },
  {
   "cell_type": "code",
   "execution_count": 8,
   "metadata": {},
   "outputs": [
    {
     "name": "stdout",
     "output_type": "stream",
     "text": [
      "Model: \"sequential_2\"\n",
      "_________________________________________________________________\n",
      " Layer (type)                Output Shape              Param #   \n",
      "=================================================================\n",
      " dense_6 (Dense)             (None, 256)               200960    \n",
      "                                                                 \n",
      " dropout_4 (Dropout)         (None, 256)               0         \n",
      "                                                                 \n",
      " dense_7 (Dense)             (None, 256)               65792     \n",
      "                                                                 \n",
      " dropout_5 (Dropout)         (None, 256)               0         \n",
      "                                                                 \n",
      " dense_8 (Dense)             (None, 10)                2570      \n",
      "                                                                 \n",
      "=================================================================\n",
      "Total params: 269,322\n",
      "Trainable params: 269,322\n",
      "Non-trainable params: 0\n",
      "_________________________________________________________________\n",
      "[<tf.Tensor 'dense_6/kernel/Regularizer/mul:0' shape=() dtype=float32>, <tf.Tensor 'dense_7/kernel/Regularizer/mul:0' shape=() dtype=float32>, <tf.Tensor 'dense_8/kernel/Regularizer/mul:0' shape=() dtype=float32>]\n"
     ]
    }
   ],
   "source": [
    "# 0-main\n",
    "network = build_model_1(784, [256, 256, 10], ['tanh', 'tanh', 'softmax'], 0.001, 0.95)\n",
    "network.summary()\n",
    "print(network.losses)"
   ]
  }
 ],
 "metadata": {
  "kernelspec": {
   "display_name": "Python 3",
   "language": "python",
   "name": "python3"
  },
  "language_info": {
   "codemirror_mode": {
    "name": "ipython",
    "version": 3
   },
   "file_extension": ".py",
   "mimetype": "text/x-python",
   "name": "python",
   "nbconvert_exporter": "python",
   "pygments_lexer": "ipython3",
   "version": "3.8.10"
  },
  "orig_nbformat": 4
 },
 "nbformat": 4,
 "nbformat_minor": 2
}
