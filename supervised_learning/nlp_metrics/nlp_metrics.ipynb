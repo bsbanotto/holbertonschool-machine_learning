{
 "cells": [
  {
   "cell_type": "code",
   "execution_count": 33,
   "metadata": {},
   "outputs": [],
   "source": [
    "# imports\n",
    "import numpy as np"
   ]
  },
  {
   "cell_type": "code",
   "execution_count": 36,
   "metadata": {},
   "outputs": [],
   "source": [
    "# Task 0. Unigram BLEU score\n",
    "def uni_bleu(references, sentence):\n",
    "    \"\"\"\n",
    "    Calculates the unigram BLEU score for a sentence.\n",
    "\n",
    "    Args:\n",
    "        references: list of reference translations\n",
    "            - Each reference translataion is a list of the words in the\n",
    "              translation\n",
    "        sentnece: list containing the model proposed sentnece\n",
    "\n",
    "    Returns:\n",
    "        the unigram BLEU score\n",
    "\n",
    "    My Notes:\n",
    "        The final output is the brevity penalty multiplied by the number of\n",
    "        words from our machine translated sentence show up in our references\n",
    "        divided by the number of words in the machine translated sentence\n",
    "\n",
    "        Example:\n",
    "            machine_translation: \"there is a cat here\"\n",
    "            ref1: \"the cat is on the mat\"\n",
    "            ref2: \"there is a cat on the mat\"\n",
    "\n",
    "        brevity penalty if candidate is shorter than any reference, else 1:\n",
    "            e^(1-r/c)\n",
    "            r: length of reference sentence that is closest to length of\n",
    "                machine translated sentence\n",
    "            c: length of machine translated sentnece\n",
    "\n",
    "        In our candidate: [there, is, a cat] are all in our references = 4\n",
    "        Candidate is 5 long\n",
    "\n",
    "        We finally end up with (4/5) * (e^(1-(6/5)))\n",
    "    \"\"\"\n",
    "    # Calculate the first number, P = m/w_t\n",
    "    # m = number of words from sentence in references\n",
    "    # w_t = number of words in sentence\n",
    "    w_t = len(sentence)\n",
    "    m = 0\n",
    "    corpus = []\n",
    "\n",
    "    for reference in references:\n",
    "        for word in sentence:\n",
    "            if word in reference and word not in corpus:\n",
    "                corpus.append(word)\n",
    "\n",
    "    m = len(corpus)\n",
    "    P = m / w_t\n",
    "\n",
    "    ref_len = min(len(reference) for reference in references)\n",
    "\n",
    "    if w_t < ref_len:\n",
    "        BP = np.exp(1-(ref_len/w_t))\n",
    "    else:\n",
    "        BP = 1\n",
    "\n",
    "    return P * BP"
   ]
  },
  {
   "cell_type": "code",
   "execution_count": 37,
   "metadata": {},
   "outputs": [
    {
     "name": "stdout",
     "output_type": "stream",
     "text": [
      "0.6549846024623855\n"
     ]
    }
   ],
   "source": [
    "# 0-main\n",
    "references = [[\"the\", \"cat\", \"is\", \"on\", \"the\", \"mat\"], [\"there\", \"is\", \"a\", \"cat\", \"on\", \"the\", \"mat\"]]\n",
    "sentence = [\"there\", \"is\", \"a\", \"cat\", \"here\"]\n",
    "\n",
    "print(uni_bleu(references, sentence))"
   ]
  }
 ],
 "metadata": {
  "kernelspec": {
   "display_name": "Python 3",
   "language": "python",
   "name": "python3"
  },
  "language_info": {
   "codemirror_mode": {
    "name": "ipython",
    "version": 3
   },
   "file_extension": ".py",
   "mimetype": "text/x-python",
   "name": "python",
   "nbconvert_exporter": "python",
   "pygments_lexer": "ipython3",
   "version": "3.8.10"
  },
  "orig_nbformat": 4
 },
 "nbformat": 4,
 "nbformat_minor": 2
}
