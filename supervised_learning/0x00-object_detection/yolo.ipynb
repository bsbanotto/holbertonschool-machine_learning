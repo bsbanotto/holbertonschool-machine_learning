{
 "cells": [
  {
   "cell_type": "code",
   "execution_count": null,
   "metadata": {},
   "outputs": [],
   "source": [
    "#imports\n",
    "import numpy as np\n",
    "import tensorflow.compat.v1 as tf\n",
    "import tensorflow.compat.v1.keras as K\n",
    "import os\n",
    "os.environ['TF_CPP_MIN_LOG_LEVEL'] = '3'\n",
    "import cv2"
   ]
  },
  {
   "cell_type": "code",
   "execution_count": null,
   "metadata": {},
   "outputs": [],
   "source": [
    "# Task 0\n",
    "class Yolo:\n",
    "    \"\"\"\n",
    "    Initialize Yolo class.\n",
    "    \"\"\"\n",
    "    def __init__(self, model_path, classes_path, class_t, nms_t, anchors):\n",
    "        \"\"\"\n",
    "        Class Constructor\n",
    "        model_path: path to where Darnket Keras model is stored\n",
    "        classes_path: path to list of class names used for Darknet model\n",
    "        class_t: float representing box score threshold for initial filtering\n",
    "        nms_t: float representing the IOU threshold for non-max suppression\n",
    "        anchors: numpy.ndarray of shape (outputs, anchor_boxes, 2) containing\n",
    "        the anchor boxes\n",
    "            outputs: number of outputs made by the Darknet model\n",
    "            anchor_boxes: number of anchor boxes used for each prediction\n",
    "            2: [anchor_box_width, anchor_box_height]\n",
    "        \n",
    "        Public Instance Attributes\n",
    "            model: Darknet Keras Model\n",
    "            class_names: list of the class names for the model\n",
    "            class_t: box score threshold for initial filtering\n",
    "            nms_t: IOU threshold for non-max suppression\n",
    "            anchors: the anchor boxes\n",
    "        \"\"\"\n",
    "        self.model = K.models.load_model(model_path)\n",
    "        with open(classes_path) as file:\n",
    "            class_names = file.read()\n",
    "        self.class_names = class_names.split(\"\\n\")\n",
    "        self.class_t = class_t\n",
    "        self.nms_t = nms_t\n",
    "        self.anchors = anchors"
   ]
  },
  {
   "cell_type": "code",
   "execution_count": null,
   "metadata": {},
   "outputs": [],
   "source": [
    "# 0-main\n",
    "np.random.seed(0)\n",
    "anchors = np.array([[[116, 90], [156, 198], [373, 326]],\n",
    "                    [[30, 61], [62, 45], [59, 119]],\n",
    "                    [[10, 13], [16, 30], [33, 23]]])\n",
    "yolo = Yolo('../data/yolo.h5', '../data/coco_classes.txt', 0.6, 0.5, anchors)\n",
    "yolo.model.summary()\n",
    "print('Class names:', yolo.class_names)\n",
    "print('Class threshold:', yolo.class_t)\n",
    "print('NMS threshold:', yolo.nms_t)\n",
    "print('Anchor boxes:', yolo.anchors)"
   ]
  }
 ],
 "metadata": {
  "kernelspec": {
   "display_name": "Python 3",
   "language": "python",
   "name": "python3"
  },
  "language_info": {
   "codemirror_mode": {
    "name": "ipython",
    "version": 3
   },
   "file_extension": ".py",
   "mimetype": "text/x-python",
   "name": "python",
   "nbconvert_exporter": "python",
   "pygments_lexer": "ipython3",
   "version": "3.8.10"
  },
  "orig_nbformat": 4
 },
 "nbformat": 4,
 "nbformat_minor": 2
}
