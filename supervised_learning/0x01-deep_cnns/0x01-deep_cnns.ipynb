{
 "cells": [
  {
   "cell_type": "code",
   "execution_count": 1,
   "metadata": {},
   "outputs": [
    {
     "name": "stderr",
     "output_type": "stream",
     "text": [
      "2023-03-17 13:45:09.867976: I tensorflow/core/platform/cpu_feature_guard.cc:193] This TensorFlow binary is optimized with oneAPI Deep Neural Network Library (oneDNN) to use the following CPU instructions in performance-critical operations:  AVX2 AVX512F AVX512_VNNI FMA\n",
      "To enable them in other operations, rebuild TensorFlow with the appropriate compiler flags.\n",
      "2023-03-17 13:45:10.322786: I tensorflow/core/util/port.cc:104] oneDNN custom operations are on. You may see slightly different numerical results due to floating-point round-off errors from different computation orders. To turn them off, set the environment variable `TF_ENABLE_ONEDNN_OPTS=0`.\n",
      "2023-03-17 13:45:10.343564: W tensorflow/compiler/xla/stream_executor/platform/default/dso_loader.cc:64] Could not load dynamic library 'libcudart.so.11.0'; dlerror: libcudart.so.11.0: cannot open shared object file: No such file or directory\n",
      "2023-03-17 13:45:10.343688: I tensorflow/compiler/xla/stream_executor/cuda/cudart_stub.cc:29] Ignore above cudart dlerror if you do not have a GPU set up on your machine.\n",
      "2023-03-17 13:45:11.507437: W tensorflow/compiler/xla/stream_executor/platform/default/dso_loader.cc:64] Could not load dynamic library 'libnvinfer.so.7'; dlerror: libnvinfer.so.7: cannot open shared object file: No such file or directory\n",
      "2023-03-17 13:45:11.507715: W tensorflow/compiler/xla/stream_executor/platform/default/dso_loader.cc:64] Could not load dynamic library 'libnvinfer_plugin.so.7'; dlerror: libnvinfer_plugin.so.7: cannot open shared object file: No such file or directory\n",
      "2023-03-17 13:45:11.507725: W tensorflow/compiler/tf2tensorrt/utils/py_utils.cc:38] TF-TRT Warning: Cannot dlopen some TensorRT libraries. If you would like to use Nvidia GPU with TensorRT, please make sure the missing libraries mentioned above are installed properly.\n"
     ]
    },
    {
     "name": "stdout",
     "output_type": "stream",
     "text": [
      "WARNING:tensorflow:From /home/bsbanotto/.local/lib/python3.8/site-packages/tensorflow/python/compat/v2_compat.py:107: disable_resource_variables (from tensorflow.python.ops.variable_scope) is deprecated and will be removed in a future version.\n",
      "Instructions for updating:\n",
      "non-resource variables are not supported in the long term\n"
     ]
    }
   ],
   "source": [
    "#imports\n",
    "import numpy as np\n",
    "import tensorflow.compat.v1 as tf\n",
    "tf.compat.v1.disable_eager_execution()\n",
    "tf.disable_v2_behavior()\n",
    "import tensorflow.compat.v1.keras as K\n",
    "import matplotlib.pyplot as plt"
   ]
  },
  {
   "cell_type": "code",
   "execution_count": 6,
   "metadata": {},
   "outputs": [],
   "source": [
    "# Task 1. Inception Block\n",
    "\"\"\"\n",
    "Write a function that builds an inception block as described in Going Deeper\n",
    "with Convolutions (2014)\n",
    "\"\"\"\n",
    "def inception_block(A_prev, filters):\n",
    "    \"\"\"\n",
    "    A_prev: output from the previous layer\n",
    "    filters: tuple containing F1, F3R, F3, F5R, F5, FPP\n",
    "        F1: number of filters in the 1x1 convolution\n",
    "        F3R: number of filters in the 1x1 convolution before the 3x3\n",
    "        convolution\n",
    "        F3: number of filters in the 3x3 convolution\n",
    "        F5R: number of filters in the 1x1 convolution before the 5x5\n",
    "        convolution\n",
    "        F5: number of filters in the 5x5 convolution\n",
    "        FPP: number of filters in the 1x1 convolution after the max pooling\n",
    "    All convolutions inside the inception block should use a ReLU activation\n",
    "    Returns: the concatenated output of the inception block\n",
    "    \"\"\"\n",
    "    F1 = filters[0]\n",
    "    F3R = filters[1]\n",
    "    F3 = filters[2]\n",
    "    F5R = filters[3]\n",
    "    F5 = filters[4]\n",
    "    FPP = filters[5]\n",
    "\n",
    "    conv_1x1 = K.layers.Conv2D(filters=F1,\n",
    "                               kernel_size=(1, 1),\n",
    "                               padding='same',\n",
    "                               activation='relu'\n",
    "                               )(A_prev)\n",
    "\n",
    "    conv_1x1_3x3 = K.layers.Conv2D(filters=F3R,\n",
    "                                   kernel_size=(1, 1),\n",
    "                                   padding='same',\n",
    "                                   activation='relu'\n",
    "                                   )(A_prev)\n",
    "\n",
    "    conv_3x3 = K.layers.Conv2D(filters=F3,\n",
    "                               kernel_size=(3, 3),\n",
    "                               padding='same',\n",
    "                               activation='relu'\n",
    "                               )(conv_1x1_3x3)\n",
    "\n",
    "    conv_1x1_5x5 = K.layers.Conv2D(filters=F5R,\n",
    "                                   kernel_size=(1, 1),\n",
    "                                   padding='same',\n",
    "                                   activation='relu'\n",
    "                                   )(A_prev)\n",
    "\n",
    "    conv_5x5 = K.layers.Conv2D(filters=F5,\n",
    "                               kernel_size=(5, 5),\n",
    "                               padding='same',\n",
    "                               activation='relu'\n",
    "                               )(conv_1x1_5x5)\n",
    "\n",
    "    max_pool_3x3 = K.layers.MaxPooling2D(pool_size=(3, 3),\n",
    "                                         strides=1,\n",
    "                                         padding='same'\n",
    "                                         )(A_prev)\n",
    "\n",
    "    conv_1x1_pooled = K.layers.Conv2D(filters=FPP,\n",
    "                                      kernel_size=(1, 1),\n",
    "                                      padding='same',\n",
    "                                      activation='relu'\n",
    "                                      )(max_pool_3x3)\n",
    "\n",
    "    output = K.layers.Concatenate()([\n",
    "        conv_1x1, conv_3x3, conv_5x5, conv_1x1_pooled\n",
    "    ])\n",
    "\n",
    "    return output\n"
   ]
  },
  {
   "cell_type": "code",
   "execution_count": 7,
   "metadata": {},
   "outputs": [
    {
     "name": "stdout",
     "output_type": "stream",
     "text": [
      "Model: \"model_1\"\n",
      "__________________________________________________________________________________________________\n",
      " Layer (type)                   Output Shape         Param #     Connected to                     \n",
      "==================================================================================================\n",
      " input_3 (InputLayer)           [(None, 224, 224, 3  0           []                               \n",
      "                                )]                                                                \n",
      "                                                                                                  \n",
      " conv2d_13 (Conv2D)             (None, 224, 224, 96  384         ['input_3[0][0]']                \n",
      "                                )                                                                 \n",
      "                                                                                                  \n",
      " conv2d_15 (Conv2D)             (None, 224, 224, 16  64          ['input_3[0][0]']                \n",
      "                                )                                                                 \n",
      "                                                                                                  \n",
      " max_pooling2d_2 (MaxPooling2D)  (None, 224, 224, 3)  0          ['input_3[0][0]']                \n",
      "                                                                                                  \n",
      " conv2d_12 (Conv2D)             (None, 224, 224, 64  256         ['input_3[0][0]']                \n",
      "                                )                                                                 \n",
      "                                                                                                  \n",
      " conv2d_14 (Conv2D)             (None, 224, 224, 12  110720      ['conv2d_13[0][0]']              \n",
      "                                8)                                                                \n",
      "                                                                                                  \n",
      " conv2d_16 (Conv2D)             (None, 224, 224, 32  12832       ['conv2d_15[0][0]']              \n",
      "                                )                                                                 \n",
      "                                                                                                  \n",
      " conv2d_17 (Conv2D)             (None, 224, 224, 32  128         ['max_pooling2d_2[0][0]']        \n",
      "                                )                                                                 \n",
      "                                                                                                  \n",
      " concatenate_2 (Concatenate)    (None, 224, 224, 25  0           ['conv2d_12[0][0]',              \n",
      "                                6)                                'conv2d_14[0][0]',              \n",
      "                                                                  'conv2d_16[0][0]',              \n",
      "                                                                  'conv2d_17[0][0]']              \n",
      "                                                                                                  \n",
      "==================================================================================================\n",
      "Total params: 124,384\n",
      "Trainable params: 124,384\n",
      "Non-trainable params: 0\n",
      "__________________________________________________________________________________________________\n"
     ]
    }
   ],
   "source": [
    "# 0-main\n",
    "X = K.Input(shape=(224, 224, 3))\n",
    "Y = inception_block(X, [64, 96, 128, 16, 32, 32])\n",
    "model = K.models.Model(inputs=X, outputs=Y)\n",
    "model.summary()"
   ]
  }
 ],
 "metadata": {
  "kernelspec": {
   "display_name": "Python 3",
   "language": "python",
   "name": "python3"
  },
  "language_info": {
   "codemirror_mode": {
    "name": "ipython",
    "version": 3
   },
   "file_extension": ".py",
   "mimetype": "text/x-python",
   "name": "python",
   "nbconvert_exporter": "python",
   "pygments_lexer": "ipython3",
   "version": "3.8.10"
  },
  "orig_nbformat": 4
 },
 "nbformat": 4,
 "nbformat_minor": 2
}
