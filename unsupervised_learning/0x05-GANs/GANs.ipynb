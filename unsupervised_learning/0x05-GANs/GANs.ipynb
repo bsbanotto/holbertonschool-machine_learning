{
 "cells": [
  {
   "cell_type": "code",
   "execution_count": 1,
   "metadata": {},
   "outputs": [],
   "source": [
    "# Imports\n",
    "import torch.nn as nn\n",
    "import torch"
   ]
  },
  {
   "cell_type": "code",
   "execution_count": 3,
   "metadata": {},
   "outputs": [],
   "source": [
    "# Task 0. Generator\n",
    "class Generator(nn.Module):\n",
    "    \"\"\"\n",
    "    Generator subclass for the generator side of the network\n",
    "    \"\"\"\n",
    "    def __init__(self,\n",
    "                 input_size,\n",
    "                 hidden_size,\n",
    "                 output_size):\n",
    "        \"\"\"\n",
    "        Initialize Generator class\n",
    "\n",
    "        Args:\n",
    "            input_size - integer size of the input tensor\n",
    "            hidden_size - integer size of the hidden layer\n",
    "            output_size - integer size of the output layer\n",
    "        \"\"\"\n",
    "        super(Generator, self).__init__()\n",
    "\n",
    "        self.input_size = input_size\n",
    "        self.hidden_size = hidden_size\n",
    "        self.output_size = output_size\n",
    "\n",
    "        self.layers = nn.Sequential(\n",
    "            nn.Linear(input_size, hidden_size),\n",
    "            nn.Tanh(),\n",
    "            nn.Linear(hidden_size, hidden_size),\n",
    "            nn.Tanh(),\n",
    "            nn.Linear(hidden_size, output_size)\n",
    "        )\n",
    "\n",
    "        def forward(self, x):\n",
    "            \"\"\"\n",
    "            Forward pass of the Generator network\n",
    "\n",
    "            Args:\n",
    "                x - Input tensor of shape (batch_size, input_size)\n",
    "\n",
    "            Returns:\n",
    "                Output tensor of shape (batch_size, output_size)\n",
    "            \"\"\"\n",
    "            return self.layers(x)\n"
   ]
  },
  {
   "cell_type": "code",
   "execution_count": 8,
   "metadata": {},
   "outputs": [
    {
     "name": "stdout",
     "output_type": "stream",
     "text": [
      "Generator(\n",
      "  (layers): Sequential(\n",
      "    (0): Linear(in_features=1, out_features=1, bias=True)\n",
      "    (1): Tanh()\n",
      "    (2): Linear(in_features=1, out_features=1, bias=True)\n",
      "    (3): Tanh()\n",
      "    (4): Linear(in_features=1, out_features=1, bias=True)\n",
      "  )\n",
      ")\n"
     ]
    }
   ],
   "source": [
    "# 0-main\n",
    "import numpy as np\n",
    "import torch\n",
    "import torch.nn as nn\n",
    "import torch.optim as optim\n",
    "genTester = Generator\n",
    "\n",
    "G_Test = genTester(1,1,1)\n",
    "\n",
    "print(G_Test)"
   ]
  },
  {
   "cell_type": "code",
   "execution_count": 11,
   "metadata": {},
   "outputs": [],
   "source": [
    "# Task 1. Discriminator\n",
    "class Discriminator(nn.Module):\n",
    "    \"\"\"\n",
    "    Discriminator subclass for the discriminator side of the network\n",
    "    \"\"\"\n",
    "    def __init__(self,\n",
    "                 input_size,\n",
    "                 hidden_size,\n",
    "                 output_size):\n",
    "        \"\"\"\n",
    "                Initialize Discriminator class\n",
    "\n",
    "        Args:\n",
    "            input_size - integer size of the input tensor\n",
    "            hidden_size - integer size of the hidden layer\n",
    "            output_size - integer size of the output layer\n",
    "        \"\"\"\n",
    "        super(Discriminator, self).__init__()\n",
    "\n",
    "        self.input_size = input_size\n",
    "        self.hidden_size = hidden_size\n",
    "        self.output_size = output_size\n",
    "\n",
    "        self.layers = nn.Sequential(\n",
    "            nn.Linear(input_size, hidden_size),\n",
    "            nn.Sigmoid(),\n",
    "            nn.Linear(hidden_size, hidden_size),\n",
    "            nn.Sigmoid(),\n",
    "            nn.Linear(hidden_size, output_size),\n",
    "            nn.Sigmoid()\n",
    "        )\n",
    "\n",
    "        def forward(self, x):\n",
    "            \"\"\"\n",
    "            Forward pass of the Discriminator network\n",
    "\n",
    "            Args:\n",
    "                x - Input tensor of shape (batch_size, input_size)\n",
    "\n",
    "            Returns:\n",
    "                Output tensor of shape (batch_size, output_size)\n",
    "            \"\"\"\n",
    "            return self.layers(x)"
   ]
  },
  {
   "cell_type": "code",
   "execution_count": 13,
   "metadata": {},
   "outputs": [
    {
     "name": "stdout",
     "output_type": "stream",
     "text": [
      "Discriminator(\n",
      "  (layers): Sequential(\n",
      "    (0): Linear(in_features=1, out_features=1, bias=True)\n",
      "    (1): Sigmoid()\n",
      "    (2): Linear(in_features=1, out_features=1, bias=True)\n",
      "    (3): Sigmoid()\n",
      "    (4): Linear(in_features=1, out_features=1, bias=True)\n",
      "    (5): Sigmoid()\n",
      "  )\n",
      ")\n"
     ]
    }
   ],
   "source": [
    "# 1-main\n",
    "import numpy as np\n",
    "import torch\n",
    "import torch.nn as nn\n",
    "import torch.optim as optim\n",
    "\n",
    "disTester = Discriminator\n",
    "\n",
    "D_Test = disTester(1,1,1)\n",
    "\n",
    "print(D_Test)"
   ]
  },
  {
   "cell_type": "code",
   "execution_count": 121,
   "metadata": {},
   "outputs": [],
   "source": [
    "# Task 2. Sample Z\n",
    "def sample_Z(mu, sigma, sampleType, size=(1, 1)):\n",
    "    \"\"\"\n",
    "    Creates input for the generator and discriminator\n",
    "\n",
    "    Added size argument to sample_Z function. Per torch.randn and torch.normal\n",
    "        documentataion, size is a sequence of integers defining the shape of\n",
    "        the output tensor.\n",
    "\n",
    "    Args:\n",
    "        mu -  The mean of the distribution\n",
    "        sigma - The standard deviation of the distribution\n",
    "        sampleType - A variable that selects which model to sample for\n",
    "            The variable should accept a G or D as string values\n",
    "        size - tuple of ints defining the shape of the output tensor\n",
    "\n",
    "    Returns:\n",
    "        a torch.Tensor type for both generator and discriminator if the\n",
    "            parameters are correct, otherwise return 0\n",
    "    \"\"\"\n",
    "    # For the generator, find a random number from torch.rand\n",
    "    # Multiply that number by sigma and add mu\n",
    "    # From the task, input data for the generator should be random\n",
    "    if sampleType == \"G\":\n",
    "        return torch.rand(size=size)\n",
    "    # For the discriminator, take a number from the normal distribution\n",
    "    # using torch.normal\n",
    "    elif sampleType == \"D\":\n",
    "        return torch.normal(mean=mu, std=sigma, size=size)\n",
    "    else:\n",
    "        return 0\n"
   ]
  },
  {
   "cell_type": "code",
   "execution_count": 122,
   "metadata": {},
   "outputs": [
    {
     "name": "stdout",
     "output_type": "stream",
     "text": [
      "tensor([[ 0.2214,  0.4322, -0.9203,  0.7536,  0.6553,  0.1761, -0.5263, -0.7023],\n",
      "        [-0.5220, -0.3230,  0.1377, -0.1602,  1.5244, -0.9660,  0.9375, -0.1360],\n",
      "        [ 1.2241, -0.3380,  1.1565,  0.3569, -0.5476,  0.0958,  1.0942,  0.5019],\n",
      "        [-0.8832, -0.9448,  0.3071, -0.5883, -0.7596, -0.4670,  0.2064,  2.4383]])\n",
      "tensor([[ 1.0208,  0.7561, -1.4899,  1.8450,  2.1332, -1.9036,  1.5311, -0.0575],\n",
      "        [-0.2674, -0.4299, -0.5251,  1.6954, -1.3254,  0.6926,  1.4660,  0.3970],\n",
      "        [-1.0886,  1.1354,  0.0983,  0.0838, -0.7193,  0.3953,  0.9355,  0.5266],\n",
      "        [-1.5429, -0.6365, -0.2119, -0.6193, -0.0530,  1.0209, -1.6480, -1.4621]])\n",
      "tensor([[ 0.3577,  0.3319, -1.7373, -1.0931, -0.7027, -0.4014,  0.5335, -0.9551],\n",
      "        [ 1.1802,  1.4854, -0.0312,  0.5831, -2.4657,  1.0780, -2.3520,  0.2369],\n",
      "        [ 1.4022, -0.8666, -0.9594,  0.2335, -1.0007, -0.0715,  2.3987, -0.0598],\n",
      "        [-2.1644, -0.0546, -0.4469, -0.7767,  0.5255,  0.9842,  1.9959,  1.2033]])\n",
      "0\n"
     ]
    }
   ],
   "source": [
    "# 2-main\n",
    "import numpy as np\n",
    "import torch\n",
    "import torch.nn as nn\n",
    "import torch.optim as optim\n",
    "\n",
    "samplerTest = sample_Z\n",
    "\n",
    "print(samplerTest(0,1,\"D\",(4,8)))\n",
    "\n",
    "print(samplerTest(0,1,\"G\",(4,8)))\n",
    "\n",
    "print(torch.normal(mean=0, std=1, size=(4, 8)))\n",
    "\n",
    "print(samplerTest(0,1,\"F\",))"
   ]
  }
 ],
 "metadata": {
  "kernelspec": {
   "display_name": "Python 3",
   "language": "python",
   "name": "python3"
  },
  "language_info": {
   "codemirror_mode": {
    "name": "ipython",
    "version": 3
   },
   "file_extension": ".py",
   "mimetype": "text/x-python",
   "name": "python",
   "nbconvert_exporter": "python",
   "pygments_lexer": "ipython3",
   "version": "3.8.10"
  },
  "orig_nbformat": 4
 },
 "nbformat": 4,
 "nbformat_minor": 2
}
