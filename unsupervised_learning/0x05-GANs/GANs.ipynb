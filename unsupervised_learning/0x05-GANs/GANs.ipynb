{
 "cells": [
  {
   "cell_type": "code",
   "execution_count": 1,
   "metadata": {},
   "outputs": [],
   "source": [
    "# Imports\n",
    "import torch.nn as nn"
   ]
  },
  {
   "cell_type": "code",
   "execution_count": 3,
   "metadata": {},
   "outputs": [],
   "source": [
    "# Task 0. Generator\n",
    "class Generator(nn.Module):\n",
    "    \"\"\"\n",
    "    Generator subclass for the generator side of the network\n",
    "    \"\"\"\n",
    "    def __init__(self,\n",
    "                 input_size,\n",
    "                 hidden_size,\n",
    "                 output_size):\n",
    "        \"\"\"\n",
    "        Initialize Generator class\n",
    "\n",
    "        Args:\n",
    "            input_size - integer size of the input tensor\n",
    "            hidden_size - integer size of the hidden layer\n",
    "            output_size - integer size of the output layer\n",
    "        \"\"\"\n",
    "        super(Generator, self).__init__()\n",
    "\n",
    "        self.input_size = input_size\n",
    "        self.hidden_size = hidden_size\n",
    "        self.output_size = output_size\n",
    "\n",
    "        self.layers = nn.Sequential(\n",
    "            nn.Linear(input_size, hidden_size),\n",
    "            nn.Tanh(),\n",
    "            nn.Linear(hidden_size, hidden_size),\n",
    "            nn.Tanh(),\n",
    "            nn.Linear(hidden_size, output_size),\n",
    "        )\n",
    "\n",
    "\n",
    "        def forward(self, x):\n",
    "            \"\"\"\n",
    "            Forward pass of the Generator network\n",
    "\n",
    "            Args:\n",
    "                x - Input tensor of shape (batch_size, input_size)\n",
    "\n",
    "            Returns:\n",
    "                Output tensor of shape (batch_size, output_size)\n",
    "            \"\"\"\n",
    "            return self.layers(x)\n"
   ]
  },
  {
   "cell_type": "code",
   "execution_count": 4,
   "metadata": {},
   "outputs": [
    {
     "name": "stdout",
     "output_type": "stream",
     "text": [
      "Generator(\n",
      "  (layers): Sequential(\n",
      "    (0): Linear(in_features=1, out_features=1, bias=True)\n",
      "    (1): Tanh()\n",
      "    (2): Linear(in_features=1, out_features=1, bias=True)\n",
      "    (3): Tanh()\n",
      "    (4): Linear(in_features=1, out_features=1, bias=True)\n",
      "  )\n",
      ")\n"
     ]
    }
   ],
   "source": [
    "# 0-main\n",
    "import numpy as np\n",
    "import torch\n",
    "import torch.nn as nn\n",
    "import torch.optim as optim\n",
    "genTester = __import__('0-generator').Generator\n",
    "\n",
    "G_Test = genTester(1,1,1)\n",
    "\n",
    "print(G_Test)"
   ]
  }
 ],
 "metadata": {
  "kernelspec": {
   "display_name": "Python 3",
   "language": "python",
   "name": "python3"
  },
  "language_info": {
   "codemirror_mode": {
    "name": "ipython",
    "version": 3
   },
   "file_extension": ".py",
   "mimetype": "text/x-python",
   "name": "python",
   "nbconvert_exporter": "python",
   "pygments_lexer": "ipython3",
   "version": "3.8.10"
  },
  "orig_nbformat": 4
 },
 "nbformat": 4,
 "nbformat_minor": 2
}
